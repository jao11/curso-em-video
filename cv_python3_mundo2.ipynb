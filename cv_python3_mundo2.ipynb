{
  "nbformat": 4,
  "nbformat_minor": 0,
  "metadata": {
    "colab": {
      "name": "cv_python3_mundo2.ipynb",
      "provenance": [],
      "authorship_tag": "ABX9TyO/M8XnM7LHoZdePi4JaEY9",
      "include_colab_link": true
    },
    "kernelspec": {
      "name": "python3",
      "display_name": "Python 3"
    },
    "language_info": {
      "name": "python"
    }
  },
  "cells": [
    {
      "cell_type": "markdown",
      "metadata": {
        "id": "view-in-github",
        "colab_type": "text"
      },
      "source": [
        "<a href=\"https://colab.research.google.com/github/jao11/curso-em-video/blob/master/cv_python3_mundo2.ipynb\" target=\"_parent\"><img src=\"https://colab.research.google.com/assets/colab-badge.svg\" alt=\"Open In Colab\"/></a>"
      ]
    },
    {
      "cell_type": "markdown",
      "metadata": {
        "id": "BtZNU7X6f-1o"
      },
      "source": [
        "Curso em Video: Python 3"
      ]
    },
    {
      "cell_type": "markdown",
      "metadata": {
        "id": "axQLFutpgDMe"
      },
      "source": [
        "## Aula 12: Condições aninhadas"
      ]
    },
    {
      "cell_type": "code",
      "metadata": {
        "id": "8gIf_jqme5w9",
        "colab": {
          "base_uri": "https://localhost:8080/"
        },
        "outputId": "25f843fa-fcab-4bfd-b95b-4926861723f6"
      },
      "source": [
        "'''\n",
        "Condições aninhadas\n",
        "\n",
        "if ..... :\n",
        "    bloco...\n",
        "elif ....:\n",
        "    bloco...\n",
        "else:\n",
        "    bloco...\n",
        "'''\n",
        "\n",
        "n = str(input('Qual o seu nome?\\n'))\n",
        "if n == 'João':\n",
        "    print('Seu nome é bonito.')\n",
        "elif n == 'Ana' or 'Maria' or 'Mario':\n",
        "    print('Seu nome é bem comum no Brasil.')\n",
        "elif n in 'Marta Claúdia Camila Juliana':\n",
        "    print('Belo nome feminino.')\n",
        "else:\n",
        "    print('Seu nome é bem normal.')\n",
        "print('Bom dia {}!'.format(n))\n"
      ],
      "execution_count": null,
      "outputs": [
        {
          "output_type": "stream",
          "text": [
            "Qual o seu nome?\n",
            "jo\n",
            "Seu nome é bem comum no Brasil.\n",
            "Bom dia jo!\n"
          ],
          "name": "stdout"
        }
      ]
    },
    {
      "cell_type": "markdown",
      "metadata": {
        "id": "_DpmPW4Gl5de"
      },
      "source": [
        "Desafio 036: Escreva um programa para aprovar o empréstimo bancário para a compra de uma casa. Pergunte o valor da casa, o salário do comprador e em quantos anos ele vai pagar. A prestação mensal não pode exceder 30% do salário ou então o empréstimo será negado."
      ]
    },
    {
      "cell_type": "code",
      "metadata": {
        "colab": {
          "base_uri": "https://localhost:8080/"
        },
        "id": "SiArAyolgsKR",
        "outputId": "ba24f98f-c4db-4df9-f709-d4c03e371a12"
      },
      "source": [
        "c = {'limp': '\\033[m', 'az': '\\033[1;34;47m', 'verm': '\\033[1;31;47m'}\n",
        "print('Vamos fazer uma simulação para seu emprestimo de casa?')\n",
        "n = str(input('Se sim digite sim se não digite não:')).strip().lower()\n",
        "if n == 'sim':\n",
        "    vc = float(input('Digite o valor da casa:R$'))\n",
        "    s = float(input('Digite seu salário:R$'))\n",
        "    t = float(input('Digite em quantos anos vai pagar a casa:'))\n",
        "    p = vc / (t * 12)\n",
        "    trintaporcento = 30 * s / 100\n",
        "    if p <= trintaporcento:\n",
        "        print('{}AUTORIZADO{}'.format(c['az'], c['limp']))\n",
        "        print('Parabéns com os seus dados você pode realizar seu emprestimo.')\n",
        "        print('A sua parcela será de R${:.2f}'.format(p))\n",
        "    else:\n",
        "        print('{}NEGADO{}'.format(c['verm'], c['limp']))\n",
        "        print(\"Nos desculpe porém com esses valores o seu emprestimo não poderá ser \"\n",
        "              \"autorizado.\")\n"
      ],
      "execution_count": null,
      "outputs": [
        {
          "output_type": "stream",
          "text": [
            "Vamos fazer uma simulação para seu emprestimo de casa?\n",
            "Se sim digite sim se não digite não:não\n"
          ],
          "name": "stdout"
        }
      ]
    },
    {
      "cell_type": "markdown",
      "metadata": {
        "id": "tdyPALwWmurt"
      },
      "source": [
        "Desafio 037: Escreva um programa em Python que leia um número inteiro qualquer e peça para o usuário escolher qual será a base de conversão: 1 para binário, 2 para octal e 3 para hexadecimal."
      ]
    },
    {
      "cell_type": "code",
      "metadata": {
        "colab": {
          "base_uri": "https://localhost:8080/"
        },
        "id": "XooHjDE1mRE8",
        "outputId": "ada0d00b-80b6-4281-8187-e5e228fa59e1"
      },
      "source": [
        "n = int(input('Por favor digite um número inteiro:'))\n",
        "print('Gostariamos que você escolhesse a base para o qual esse número será convertido.')\n",
        "e = int(input('Para binário digite 1\\nPara octal digite 2\\nPara hexadecimal digite 3\\n'\n",
        "              'digite aqui:'))\n",
        "if e == 1:\n",
        "    print('O número {} em binário é o número {}'.format(n, bin(n)[2:]))\n",
        "elif e == 2:\n",
        "    print('O número {} em octal é o número {}'.format(n, oct(n)[2:]))\n",
        "elif e == 3:\n",
        "    print('O número {} em hexadecimal é o número {}'.format(n, hex(n)[2:]))\n",
        "else:\n",
        "    print('A opção digitada é invalida!')"
      ],
      "execution_count": null,
      "outputs": [
        {
          "output_type": "stream",
          "text": [
            "Por favor digite um número inteiro:39\n",
            "Gostariamos que você escolhesse a base para o qual esse número será convertido.\n",
            "Para binário digite 1\n",
            "Para octal digite 2\n",
            "Para hexadecimal digite 3\n",
            "digite aqui:3\n",
            "O número 39 em hexadecimal é o número 27\n"
          ],
          "name": "stdout"
        }
      ]
    },
    {
      "cell_type": "markdown",
      "metadata": {
        "id": "rdYhqp5knTsR"
      },
      "source": [
        "Desafio 038:  Escreva um programa que leia dois números inteiros e compare-os. mostrando na tela uma mensagem:\n",
        "\n",
        "– O primeiro valor é maior\n",
        "\n",
        "– O segundo valor é maior\n",
        "\n",
        "– Não existe valor maior, os dois são iguais"
      ]
    },
    {
      "cell_type": "code",
      "metadata": {
        "colab": {
          "base_uri": "https://localhost:8080/"
        },
        "id": "4iLqoqB7m0-p",
        "outputId": "89a5b279-f089-4c5d-c43f-b5afe39c3e90"
      },
      "source": [
        "print('Digite dois números inteiros, por favor.')\n",
        "n1 = int(input('primeiro número:'))\n",
        "n2 = int(input('segundo número:'))\n",
        "if n1 > n2:\n",
        "    print('O primeiro valor é maior!')\n",
        "elif n1 < n2:\n",
        "    print('O segundo valor é maior!')\n",
        "else:\n",
        "    print('Não existe valor maior, os dois são iguais')"
      ],
      "execution_count": null,
      "outputs": [
        {
          "output_type": "stream",
          "text": [
            "Digite dois números inteiros, por favor.\n",
            "primeiro número:39\n",
            "segundo número:39\n",
            "Não existe valor maior, os dois são iguais\n"
          ],
          "name": "stdout"
        }
      ]
    },
    {
      "cell_type": "markdown",
      "metadata": {
        "id": "ZCNGou-unt6Y"
      },
      "source": [
        "Desafio 039:  Faça um programa que leia o ano de nascimento de um jovem e informe, de acordo com a sua idade, se ele ainda vai se alistar ao serviço militar, se é a hora exata de se alistar ou se já passou do tempo do alistamento. Seu programa também deverá mostrar o tempo que falta ou que passou do prazo."
      ]
    },
    {
      "cell_type": "code",
      "metadata": {
        "colab": {
          "base_uri": "https://localhost:8080/"
        },
        "id": "rrZxVoa8neyZ",
        "outputId": "af931a09-3d22-4ed1-dd50-9cfa2c9a800e"
      },
      "source": [
        "'''\n",
        "fiz errado: usei a idade ao invés do ano de nascimento\n",
        "print('Gostariamos de saber se já está na hora de você se alistar.')\n",
        "i = int(input('Para isso digite a sua idade:'))\n",
        "if i == 18:\n",
        "    print('De acordo com a sua idade, você deve se alistar esse ano')\n",
        "elif i < 18:\n",
        "    print('De acordo com a sua idade, ainda faltam {} anos para você se alistar.'\n",
        "          .format(18 - i))\n",
        "else:\n",
        "    print('De acordo com a sua idade, você deveria ter se alistado a {} anos.'\n",
        "          .format(i - 18))\n",
        "'''\n",
        "\n",
        "from datetime import date\n",
        "\n",
        "print('Gostariamos de saber se já está na hora de você se alistar.')\n",
        "an = int(input('Para isso digite a seu ano de nascimento:'))\n",
        "aa = date.today().year\n",
        "if an == aa - 18:\n",
        "    print('De acordo com a sua idade, você deve se alistar esse ano.')\n",
        "elif an < aa - 18:\n",
        "    print('De acordo com a sua idade,você deveria ter se alistado em {}.'\n",
        "          .format(an + 18))\n",
        "else:\n",
        "    print('De acordo com a sua idade,você deve se alistar em {}.'\n",
        "          .format(an + 18))\n"
      ],
      "execution_count": null,
      "outputs": [
        {
          "output_type": "stream",
          "text": [
            "Gostariamos de saber se já está na hora de você se alistar.\n",
            "Para isso digite a seu ano de nascimento:1\n",
            "De acordo com a sua idade,você deveria ter se alistado em 19.\n"
          ],
          "name": "stdout"
        }
      ]
    },
    {
      "cell_type": "markdown",
      "metadata": {
        "id": "oe00X-z6oOky"
      },
      "source": [
        "Desafio 040:  Crie um programa que leia duas notas de um aluno e calcule sua média, mostrando uma mensagem no final, de acordo com a média atingida:\n",
        "\n",
        "– Média abaixo de 5.0: REPROVADO\n",
        "\n",
        "– Média entre 5.0 e 6.9: RECUPERAÇÃO\n",
        "\n",
        "– Média 7.0 ou superior: APROVADO"
      ]
    },
    {
      "cell_type": "code",
      "metadata": {
        "colab": {
          "base_uri": "https://localhost:8080/"
        },
        "id": "AFgnB4v-oHH3",
        "outputId": "e408ef15-76ee-484d-c0c6-c9e33c236e0b"
      },
      "source": [
        "print('-=-=--=-=-=-=-=-=-=-=-=-=-=-=- Média -=-=-=-=-=-=-=-=-=-=-=-=-=-=-=-=-=-=-=-')\n",
        "c = {'limp': '\\033[m', 'az': '\\033[1;34;47m', 'verm': '\\033[1;31;47m', 'verd': '\\033[1;32;47m'}\n",
        "p1 = float(input('Nota P1:'))\n",
        "p2 = float(input('Nota P2:'))\n",
        "m = (p1 + p2) / 2\n",
        "if m > 7.0:\n",
        "    print('Com a média igual a {}, você foi {}aprovado{}.'.format(m, c['az'], c['limp']))\n",
        "elif m < 5.0:\n",
        "    print('Com a média igual a {}, você foi {}reprovado{}.'.format(m, c['verm'], c['limp']))\n",
        "else:\n",
        "    print('Com a média igual a {}, você está de {}recuperação{}.'.format(m, c['verd'], c['limp']))"
      ],
      "execution_count": null,
      "outputs": [
        {
          "output_type": "stream",
          "text": [
            "-=-=--=-=-=-=-=-=-=-=-=-=-=-=- Média -=-=-=-=-=-=-=-=-=-=-=-=-=-=-=-=-=-=-=-\n",
            "Nota P1:8\n",
            "Nota P2:1.5\n",
            "Com a média igual a 4.75, você foi \u001b[1;31;47mreprovado\u001b[m.\n"
          ],
          "name": "stdout"
        }
      ]
    },
    {
      "cell_type": "markdown",
      "metadata": {
        "id": "o2yCtcvZo_Pi"
      },
      "source": [
        "Desafio 041:  A Confederação Nacional de Natação precisa de um programa que leia o ano de nascimento de um atleta e mostre sua categoria, de acordo com a idade:\n",
        "\n",
        "– Até 9 anos: MIRIM\n",
        "\n",
        "– Até 14 anos: INFANTIL\n",
        "\n",
        "– Até 19 anos: JÚNIOR\n",
        "\n",
        "– Até 25 anos: SÊNIOR\n",
        "\n",
        "– Acima de 25 anos: MASTER"
      ]
    },
    {
      "cell_type": "code",
      "metadata": {
        "colab": {
          "base_uri": "https://localhost:8080/"
        },
        "id": "jjIZPdrjpGO_",
        "outputId": "f2ca8fe0-e9c5-4b66-f89a-175c224ceb1a"
      },
      "source": [
        "i = int(input('Digite sua idade:'))\n",
        "if i > 25:\n",
        "    print('Sua categoria é MASTER.')\n",
        "elif 19 < i <= 25:\n",
        "    print('Sua categoria é SENIOR.')\n",
        "elif 14 < i <= 19:\n",
        "    print('Sua categoria é JUNIOR.')\n",
        "elif 9 < i <= 14:\n",
        "    print('Sua categoria é INFANTIL.')\n",
        "elif 0 < i <= 9:\n",
        "    print('Sua categoria é MIRIM.')\n"
      ],
      "execution_count": null,
      "outputs": [
        {
          "output_type": "stream",
          "text": [
            "Digite sua idade:27\n",
            "Sua categoria é MASTER.\n"
          ],
          "name": "stdout"
        }
      ]
    },
    {
      "cell_type": "markdown",
      "metadata": {
        "id": "zMZMQxpVpU4X"
      },
      "source": [
        "Desafio 042: Refaça o DESAFIO 35 dos triângulos, acrescentando o recurso de mostrar que tipo de triângulo será formado:\n",
        "\n",
        "– EQUILÁTERO: todos os lados iguais\n",
        "\n",
        "– ISÓSCELES: dois lados iguais, um diferente\n",
        "\n",
        "– ESCALENO: todos os lados diferentes"
      ]
    },
    {
      "cell_type": "code",
      "metadata": {
        "colab": {
          "base_uri": "https://localhost:8080/"
        },
        "id": "nHyPXFQbpQfR",
        "outputId": "550a709c-7be4-4314-ac13-6c3e000622f3"
      },
      "source": [
        "'''\n",
        "DESAFIO 35: Desenvolva um programa que leia o comprimento de três retas e diga ao \n",
        "usuário se elas\n",
        "podem ou não formar um triângulo.\n",
        "'''\n",
        "\n",
        "print('Digite o tamanho das suas retas abaixo:')\n",
        "r1 = float(input('reta 1:'))\n",
        "r2 = float(input('reta 2:'))\n",
        "r3 = float(input('reta 3:'))\n",
        "g = r1 + r2\n",
        "p = r1 - r2\n",
        "if g > r3 > abs(p):\n",
        "    print('Suas retas podem formar um triângulo', end='')\n",
        "    if r1 == r2 == r3:\n",
        "        print(' que será equilátero ou seja tem todos os lados iguais.')\n",
        "    elif r1 == r2 or r1 == r3 or r2 == r3:\n",
        "        print(' que será isósceles ou seja tem dois lados iguais e um diferente.')\n",
        "    elif r1 != r2 != r3 != r1:\n",
        "        print(' que será escaleno ou seja tem todos os lados diferentes.')\n",
        "else:\n",
        "    print('Sua retas não podem formar um triângulo.')\n"
      ],
      "execution_count": null,
      "outputs": [
        {
          "output_type": "stream",
          "text": [
            "Digite o tamanho das suas retas abaixo:\n",
            "reta 1:32\n",
            "reta 2:43\n",
            "reta 3:54\n",
            "Suas retas podem formar um triângulo que será escaleno ou seja tem todos os lados diferentes.\n"
          ],
          "name": "stdout"
        }
      ]
    },
    {
      "cell_type": "markdown",
      "metadata": {
        "id": "SXnNxXNcp7Uo"
      },
      "source": [
        "Desafio 043: Desenvolva uma lógica que leia o peso e a altura de uma pessoa, calcule seu Índice de Massa Corporal (IMC) e mostre seu status, de acordo com a tabela abaixo:\n",
        "\n",
        "– IMC abaixo de 18,5: Abaixo do Peso\n",
        "\n",
        "– Entre 18,5 e 25: Peso Ideal\n",
        "\n",
        "– 25 até 30: Sobrepeso\n",
        "\n",
        "– 30 até 40: Obesidade\n",
        "\n",
        "– Acima de 40: Obesidade Mórbida"
      ]
    },
    {
      "cell_type": "code",
      "metadata": {
        "colab": {
          "base_uri": "https://localhost:8080/"
        },
        "id": "FiHpHBJ1puHI",
        "outputId": "4a94fe87-b364-4842-ddb5-b277c3cb9b81"
      },
      "source": [
        "print('{:^81}'.format('IMC'))\n",
        "print('Para calcular o seu IMC informe:')\n",
        "p = float(input('Seu peso:'))\n",
        "h = float(input('Sua altura:'))\n",
        "imc = p / h**2\n",
        "if imc > 40:\n",
        "    print('O seu IMC é {:.2f}: Você está com obesidade mórbida.'.format(imc))\n",
        "elif 30 < imc <= 40:\n",
        "    print('O seu IMC é {:.2f}: Você está com obesidade.'.format(imc))\n",
        "elif 25 < imc <= 30:\n",
        "    print('O seu IMC é {:.2f}: Você está com sobrepeso.'.format(imc))\n",
        "elif 18.5 < imc <= 25:\n",
        "    print('O seu IMC é {:.2f}: Você está no seu peso ideal.'.format(imc))\n",
        "else:\n",
        "    print('O seu IMC é {:.2f}: Você está abaixo do peso.'.format(imc))\n"
      ],
      "execution_count": null,
      "outputs": [
        {
          "output_type": "stream",
          "text": [
            "                                       IMC                                       \n",
            "Para calcular o seu IMC informe:\n",
            "Seu peso:109\n",
            "Sua altura:1.74\n",
            "O seu IMC é 36.00: Você está com obesidade.\n"
          ],
          "name": "stdout"
        }
      ]
    },
    {
      "cell_type": "markdown",
      "metadata": {
        "id": "CCWdmlLlqgzp"
      },
      "source": [
        "Desafio 044:  Elabore um programa que calcule o valor a ser pago por um produto, considerando o seu preço normal e condição de pagamento:\n",
        "\n",
        "– à vista dinheiro/cheque: 10% de desconto\n",
        "\n",
        "– à vista no cartão: 5% de desconto\n",
        "\n",
        "– em até 2x no cartão: preço formal \n",
        "\n",
        "– 3x ou mais no cartão: 20% de juros"
      ]
    },
    {
      "cell_type": "code",
      "metadata": {
        "colab": {
          "base_uri": "https://localhost:8080/"
        },
        "id": "weNraVTQg2It",
        "outputId": "6bf0dccb-799f-44a9-bb33-0f92ba6b23a3"
      },
      "source": [
        "print('{:-^30}'.format('CENTRAL DE DESCONTOS'))"
      ],
      "execution_count": null,
      "outputs": [
        {
          "output_type": "stream",
          "name": "stdout",
          "text": [
            "-----CENTRAL DE DESCONTOS-----\n"
          ]
        }
      ]
    },
    {
      "cell_type": "code",
      "metadata": {
        "colab": {
          "base_uri": "https://localhost:8080/"
        },
        "id": "x45ib_84qKvR",
        "outputId": "a30459fd-bfc1-4e11-9cbf-4a0d1d7ed7c1"
      },
      "source": [
        "print('{:-^80}'.format('CENTRAL DE DESCONTOS'))\n",
        "print('Para saber quanto desconto tens direito digite abaixo.')\n",
        "pre = float(input('Preço do produto:R$'))\n",
        "print('''Escolha uma das condições de pagamento abaixo do um ao quatro:\n",
        "–[1] à vista dinheiro/cheque;\\n–[2] à vista no cartão;\\n–[3] em até 2x no cartão;\n",
        "–[4] 3x ou mais no cartão''')\n",
        "con = int(input('Condição de pagamento:'))\n",
        "if con == 1:\n",
        "    pc = pre - (pre * 10 / 100)\n",
        "    print('Com a sua forma de pagamento você vai receber 10% de desconto então o preço'\n",
        "          ' final\\ndo produto é R${:.2f}.'.format(pc))\n",
        "elif con == 2:\n",
        "    pc = pre - (pre * 5 / 100)\n",
        "    print('Com a sua forma de pagamento você vai receber 5% de desconto então o preço'\n",
        "          ' final\\ndo produto é R${:.2f}.'.format(pc))\n",
        "elif con == 3:\n",
        "    print('Com a sua forma de pagamento você não vai receber nem um desconto.')\n",
        "    print('O pagamento será R${:.2f}, com duas parcelas de {:.2f}'.format(pre, pre / 2))\n",
        "elif con == 4:\n",
        "    pc = pre + (pre * 20 / 100)\n",
        "    n = int(input('Digite o número de parcelas desejado:'))\n",
        "    print('Com a sua forma de pagamento você vai ter um juros de 20% então o preço '\n",
        "          'final\\ndo produto será R${:.2f}. Com {} parcelas de R${:.2f}'\n",
        "          .format(pc, n, (pc / n)))\n",
        "else:\n",
        "    print('Opção invalida!! O preço continua o mesmo.')\n"
      ],
      "execution_count": null,
      "outputs": [
        {
          "output_type": "stream",
          "name": "stdout",
          "text": [
            "------------------------------CENTRAL DE DESCONTOS------------------------------\n",
            "Para saber quanto desconto tens direito digite abaixo.\n",
            "Preço do produto:R$3\n",
            "Escolha uma das condições de pagamento abaixo do um ao quatro:\n",
            "–[1] à vista dinheiro/cheque;\n",
            "–[2] à vista no cartão;\n",
            "–[3] em até 2x no cartão;\n",
            "–[4] 3x ou mais no cartão\n",
            "Condição de pagamento:1\n",
            "Com a sua forma de pagamento você vai receber 10% de desconto então o preço final\n",
            "do produto é R$2.70.\n"
          ]
        }
      ]
    },
    {
      "cell_type": "markdown",
      "metadata": {
        "id": "sAwkzVDtrK3y"
      },
      "source": [
        "Desconto 045:  Crie um programa que faça o computador jogar Jokenpô com você.\n",
        "\n"
      ]
    },
    {
      "cell_type": "code",
      "metadata": {
        "colab": {
          "base_uri": "https://localhost:8080/"
        },
        "id": "wrk6OFwVq85p",
        "outputId": "ad7d6459-6123-45e4-c6d2-0f931b0ab8b7"
      },
      "source": [
        "import random\n",
        "from time import sleep\n",
        "\n",
        "print('{:=^100}'.format('Jokenpô'))\n",
        "p = str(input('Escreva pedra, papel ou tesoura.\\nDigite aqui:'))\n",
        "pc = str(random.choice(['pedra', 'papel', 'tesoura']))\n",
        "print('JO')\n",
        "sleep(1)\n",
        "print('KEN')\n",
        "sleep(1)\n",
        "print('PÔ!!!')\n",
        "if pc == p:\n",
        "    print('Deu empate, não há vencedores.')\n",
        "    print('Você colocou {} e eu coloquei {}.'.format(p, pc))\n",
        "elif (pc == 'pedra' and p == 'papel') or (pc == 'papel' and p == 'tesoura') or \\\n",
        "        (pc == 'tesoura' and p == 'pedra'):\n",
        "    print('Você colocou {} e eu coloquei {}.'.format(p, pc))\n",
        "    print('Parabéns você ganhou.')\n",
        "elif (pc == 'pedra' and p == 'tesoura') or (pc == 'papel' and p == 'pedra') or \\\n",
        "        (pc == 'tesoura' and p == 'papel'):\n",
        "    print('Você colocou {} e eu coloquei {}.'.format(p, pc))\n",
        "    print('Você perdeu!')\n",
        "else:\n",
        "    print('Você colocou uma opção invalida.')"
      ],
      "execution_count": null,
      "outputs": [
        {
          "output_type": "stream",
          "text": [
            "==============================================Jokenpô===============================================\n",
            "Escreva pedra, papel ou tesoura.\n",
            "Digite aqui:papel\n",
            "JO\n",
            "KEN\n",
            "PÔ!!!\n",
            "Você colocou papel e eu coloquei pedra.\n",
            "Parabéns você ganhou.\n"
          ],
          "name": "stdout"
        }
      ]
    },
    {
      "cell_type": "markdown",
      "metadata": {
        "id": "fNODBhOJsIFa"
      },
      "source": [
        "## Aula 13: Estutura de repetição for"
      ]
    },
    {
      "cell_type": "code",
      "metadata": {
        "colab": {
          "base_uri": "https://localhost:8080/"
        },
        "id": "xOHD6makrY33",
        "outputId": "1c316c5f-3044-4a61-f7b5-6f247630b4b7"
      },
      "source": [
        "'''\n",
        "for c in range(0, 6):   # laço c no intervalo(0,6)\n",
        "    print('oi')\n",
        "for c in range(0, 6):   # laço c no intervalo(0,6)\n",
        "    print(c)\n",
        "for c in range(6, 0, -1):   # laço c no intervalo(0,6,passo -1)\n",
        "    print(c)\n",
        "print('FIM!')\n",
        "for c in range(6, 0, 2):   # laço c no intervalo(0,6,passo 2)\n",
        "    print(c)\n",
        "n = int(input('Digite um número:'))\n",
        "for c in range(0, n + 1):\n",
        "    print(c)\n",
        "print('FIM')\n",
        "i = int(input('Início:'))\n",
        "f = int(input('Fim:'))\n",
        "p = int(input('Passo:'))\n",
        "for c in range(i, f + 1, p):\n",
        "    print(c)\n",
        "print('FIM')\n",
        "'''\n",
        "s = 0\n",
        "for c in range(0, 3):\n",
        "    n = int(input('Digite um número:'))\n",
        "    s += n         # s = s + n\n",
        "print('O somatório de todos os valores foi {}'.format(s))\n"
      ],
      "execution_count": null,
      "outputs": [
        {
          "output_type": "stream",
          "text": [
            "Digite um número:39\n",
            "Digite um número:39\n",
            "Digite um número:0\n",
            "O somatório de todos os valores foi 78\n"
          ],
          "name": "stdout"
        }
      ]
    },
    {
      "cell_type": "markdown",
      "metadata": {
        "id": "ASuRWyPVs-4s"
      },
      "source": [
        "Desafio 046: Faça um programa que mostre na tela uma contagem regressiva para o estouro de fogos de artifício, indo de 10 até 0, com uma pausa de 1 segundo entre eles."
      ]
    },
    {
      "cell_type": "code",
      "metadata": {
        "colab": {
          "base_uri": "https://localhost:8080/"
        },
        "id": "OJszsaZhsYvn",
        "outputId": "bfc3ee11-15f1-43e3-cd90-b2f606611090"
      },
      "source": [
        "from time import sleep\n",
        "for c in range(10, -1, -1):\n",
        "    print(c)\n",
        "    sleep(1)"
      ],
      "execution_count": null,
      "outputs": [
        {
          "output_type": "stream",
          "text": [
            "10\n",
            "9\n",
            "8\n",
            "7\n",
            "6\n",
            "5\n",
            "4\n",
            "3\n",
            "2\n",
            "1\n",
            "0\n"
          ],
          "name": "stdout"
        }
      ]
    },
    {
      "cell_type": "markdown",
      "metadata": {
        "id": "wYbsNuu9uB9s"
      },
      "source": [
        "Desafio 047: Crie um programa que mostre na tela todos os números pares que estão no intervalo entre 1 e 50."
      ]
    },
    {
      "cell_type": "code",
      "metadata": {
        "colab": {
          "base_uri": "https://localhost:8080/"
        },
        "id": "_z79srmktUa0",
        "outputId": "7e26706d-f651-4ee7-95cb-0580d59ea304"
      },
      "source": [
        "for c in range(2, 51, 2):\n",
        "    print(c, end= ' ')"
      ],
      "execution_count": null,
      "outputs": [
        {
          "output_type": "stream",
          "text": [
            "2 4 6 8 10 12 14 16 18 20 22 24 26 28 30 32 34 36 38 40 42 44 46 48 50 "
          ],
          "name": "stdout"
        }
      ]
    },
    {
      "cell_type": "markdown",
      "metadata": {
        "id": "45NCUE7GuoCF"
      },
      "source": [
        "Desafio 048: Faça um programa que calcule a soma entre todos os números que são múltiplos de três e que se encontram no intervalo de 1 até 500."
      ]
    },
    {
      "cell_type": "code",
      "metadata": {
        "colab": {
          "base_uri": "https://localhost:8080/"
        },
        "id": "DbfnhudIufxv",
        "outputId": "cd0b9ca3-2dc3-4e6f-8033-cd9c89b6c201"
      },
      "source": [
        "s = 0\n",
        "cont = 0\n",
        "for c in range(1, 501):\n",
        "    if (0 == c % 3) and (1 == c % 2):\n",
        "        s += c  # s = s + c\n",
        "        cont = cont + 1\n",
        "print('A soma dos {} que são ímpares e múltiplos de 3 entre 1 e 500 é {}.'.format(cont, s))\n"
      ],
      "execution_count": null,
      "outputs": [
        {
          "output_type": "stream",
          "text": [
            "A soma dos 83 que são ímpares e múltiplos de 3 entre 1 e 500 é 20667.\n"
          ],
          "name": "stdout"
        }
      ]
    },
    {
      "cell_type": "markdown",
      "metadata": {
        "id": "PMAfc-1myKRW"
      },
      "source": [
        "Desafio 049: Refaça o DESAFIO 9, mostrando a tabuada de um número que o usuário escolher, só que agora utilizando um laço for.\n"
      ]
    },
    {
      "cell_type": "code",
      "metadata": {
        "colab": {
          "base_uri": "https://localhost:8080/"
        },
        "id": "FN6S9KhnxKrO",
        "outputId": "9ab76fb3-cdc9-4af4-dd0a-868e8ec0bce7"
      },
      "source": [
        "print('Digite o número que você quer saber a tabuada.')\n",
        "n = float(input('digite aqui:'))\n",
        "s = 0\n",
        "for c in range(0, 11):\n",
        "    t = n * s\n",
        "    print('{:.2f} x {:.2f} = {:.2f}'.format(s, n, t))\n",
        "    s += 1"
      ],
      "execution_count": null,
      "outputs": [
        {
          "output_type": "stream",
          "text": [
            "Digite o número que você quer saber a tabuada.\n",
            "digite aqui:3\n",
            "0.00 x 3.00 = 0.00\n",
            "1.00 x 3.00 = 3.00\n",
            "2.00 x 3.00 = 6.00\n",
            "3.00 x 3.00 = 9.00\n",
            "4.00 x 3.00 = 12.00\n",
            "5.00 x 3.00 = 15.00\n",
            "6.00 x 3.00 = 18.00\n",
            "7.00 x 3.00 = 21.00\n",
            "8.00 x 3.00 = 24.00\n",
            "9.00 x 3.00 = 27.00\n",
            "10.00 x 3.00 = 30.00\n"
          ],
          "name": "stdout"
        }
      ]
    },
    {
      "cell_type": "markdown",
      "metadata": {
        "id": "ck8xifTw1A2V"
      },
      "source": [
        "Desafio 050: Desenvolva um programa que leia seis números inteiros e mostre a soma apenas daqueles que forem pares. Se o valor digitado for ímpar, desconsidere-o."
      ]
    },
    {
      "cell_type": "code",
      "metadata": {
        "colab": {
          "base_uri": "https://localhost:8080/"
        },
        "id": "qXtxsieiz-fJ",
        "outputId": "5e3f8380-617e-4b6f-b3a5-ff1d681d09c0"
      },
      "source": [
        "print('Digite seis números:')\n",
        "cont = 0\n",
        "r = 0\n",
        "for c in range(0, 6):\n",
        "    cont += 1\n",
        "    n = float(input('{}º:'.format(cont)))\n",
        "    if 0 == n % 2:\n",
        "        r += n\n",
        "print('A soma dos números pares que você informou é {:.2f}.'.format(r))"
      ],
      "execution_count": null,
      "outputs": [
        {
          "output_type": "stream",
          "text": [
            "Digite seis números:\n",
            "1º:6\n",
            "2º:7\n",
            "3º:5\n",
            "4º:4\n",
            "5º:3\n",
            "6º:6\n",
            "A soma dos números pares que você informou é 16.00.\n"
          ],
          "name": "stdout"
        }
      ]
    },
    {
      "cell_type": "markdown",
      "metadata": {
        "id": "zEsJT0A71yGv"
      },
      "source": [
        "Desafio 051: Desenvolva um programa que leia o primeiro termo e a razão de uma PA. No final, mostre os 10 primeiros termos dessa progressão."
      ]
    },
    {
      "cell_type": "code",
      "metadata": {
        "id": "0Hy8GEhd1WP1",
        "colab": {
          "base_uri": "https://localhost:8080/"
        },
        "outputId": "b0c7c57c-1b3b-42b5-9827-7936c64a1d8b"
      },
      "source": [
        "print('{:=^100}'.format('PROGRESSÃO ARITMÉTICA'))\n",
        "print('Informe o que se pede abaixo.')\n",
        "t1 = float(input('O 1º termo:'))\n",
        "r = float(input('A razão:'))\n",
        "cont = 0\n",
        "for c in range(0, 10, 1):\n",
        "    cont += 1\n",
        "    print('O {}º termo é {:.2f}.'.format(cont, t1))\n",
        "    t1 = r + t1\n",
        "\n",
        "print('{:=^100}'.format('Versão do Professor'))\n",
        "\n",
        "print('Informe o que se pede abaixo.')\n",
        "t1 = int(input('O 1º termo:'))\n",
        "r = int(input('A razão:'))\n",
        "cont = 0\n",
        "t10 = t1 + (10 - 1) * r\n",
        "for c in range(t1, t10 + r, r):\n",
        "    cont += 1\n",
        "    print('{}'.format(c), end=' -> ')\n",
        "print('Acabou!')\n"
      ],
      "execution_count": null,
      "outputs": [
        {
          "output_type": "stream",
          "text": [
            "=======================================PROGRESSÃO ARITMÉTICA========================================\n",
            "Informe o que se pede abaixo.\n",
            "O 1º termo:10\n",
            "A razão:2\n",
            "O 1º termo é 10.00.\n",
            "O 2º termo é 12.00.\n",
            "O 3º termo é 14.00.\n",
            "O 4º termo é 16.00.\n",
            "O 5º termo é 18.00.\n",
            "O 6º termo é 20.00.\n",
            "O 7º termo é 22.00.\n",
            "O 8º termo é 24.00.\n",
            "O 9º termo é 26.00.\n",
            "O 10º termo é 28.00.\n",
            "========================================Versão do Professor=========================================\n",
            "Informe o que se pede abaixo.\n",
            "O 1º termo:20\n",
            "A razão:1\n",
            "20 -> 21 -> 22 -> 23 -> 24 -> 25 -> 26 -> 27 -> 28 -> 29 -> Acabou!\n"
          ],
          "name": "stdout"
        }
      ]
    },
    {
      "cell_type": "markdown",
      "metadata": {
        "id": "vkorK8g0YGTZ"
      },
      "source": [
        "Desafio 052: Faça um programa que leia um número inteiro e diga se ele é ou não um número primo."
      ]
    },
    {
      "cell_type": "code",
      "metadata": {
        "id": "v_TXaxg_V_WA",
        "colab": {
          "base_uri": "https://localhost:8080/"
        },
        "outputId": "c3f33869-499d-4e7e-b657-8e3a5d16f54a"
      },
      "source": [
        "n = int(input('Digite um número:'))\n",
        "cont = 0\n",
        "for c in range(1, n + 1):\n",
        "    resto = n % c\n",
        "    if resto == 0:\n",
        "        # print('\\033[33m', end=' ')\n",
        "        cont += 1\n",
        "    #else:\n",
        "        # print('\\033[31m', end=' ')\n",
        "    # print('{}'.format(c), end=' ')\n",
        "if cont == 2:\n",
        "    # print('\\n\\033[m')\n",
        "    print('O número {} é primo.'.format(n))\n",
        "else:\n",
        "    # print('\\n\\033[m')\n",
        "    print('O número {} não é primo. Pois foi divisível {} vezes.'.format(n, cont))\n",
        "\n"
      ],
      "execution_count": null,
      "outputs": [
        {
          "output_type": "stream",
          "name": "stdout",
          "text": [
            "Digite um número:7\n",
            "O número 7 é primo.\n"
          ]
        }
      ]
    },
    {
      "cell_type": "markdown",
      "metadata": {
        "id": "xlW7ceH1ZHQN"
      },
      "source": [
        "Desafio 053: Crie um programa que leia uma frase qualquer e diga se ela é um palíndromo, desconsiderando os espaços. Exemplos de palíndromos:\n",
        "\n",
        "APOS A SOPA, A SACADA DA CASA, A TORRE DA DERROTA, O LOBO AMA O BOLO, ANOTARAM A DATA DA MARATONA"
      ]
    },
    {
      "cell_type": "code",
      "metadata": {
        "id": "lEZ3ghVqZP-4",
        "colab": {
          "base_uri": "https://localhost:8080/"
        },
        "outputId": "213b9e6c-f2e9-49a8-ff05-da689def3beb"
      },
      "source": [
        "n = str(input('Digite uma frase:')).strip().upper()\n",
        "n1 = n.split()\n",
        "junto = ''.join(n1)\n",
        "inverso = ''\n",
        "for c in range(len(junto) - 1, -1, -1):\n",
        "    inverso += junto[c]\n",
        "print(junto, inverso)\n",
        "if junto == inverso:\n",
        "    print('Sua frase é um palíndromo!')\n",
        "else:\n",
        "    print('Sua frase não é um palíndromo!')\n"
      ],
      "execution_count": null,
      "outputs": [
        {
          "output_type": "stream",
          "name": "stdout",
          "text": [
            "Digite uma frase:Te amo Camila!\n",
            "TEAMOCAMILA! !ALIMACOMAET\n",
            "Sua frase não é um palíndromo!\n"
          ]
        }
      ]
    },
    {
      "cell_type": "markdown",
      "metadata": {
        "id": "jFJn00uaZRAK"
      },
      "source": [
        "Desafio 054:  Crie um programa que leia o ano de nascimento de sete pessoas. No final, mostre quantas pessoas ainda não atingiram a maioridade e quantas já são maiores.\n",
        "\n"
      ]
    },
    {
      "cell_type": "code",
      "metadata": {
        "id": "DnQCQLLVZYKE",
        "colab": {
          "base_uri": "https://localhost:8080/"
        },
        "outputId": "4ba3e58b-cdd9-4b48-f363-0ef2b100f3ad"
      },
      "source": [
        "from datetime import date\n",
        "print('Digite o ano de nascimento para as sete pessoas:')\n",
        "aa = date.today().year\n",
        "cont = 0\n",
        "cont1 = 0\n",
        "for c in range(0, 7):\n",
        "    ano = int(input('Ano da {}º pessoa:'.format(c + 1)))\n",
        "    if 18 <= aa - ano:\n",
        "        cont += 1\n",
        "    else:\n",
        "        cont1 += 1\n",
        "print('{} pessoas de sua lista são maiores e {} são menores de idade.'\n",
        "      .format(cont, cont1))\n"
      ],
      "execution_count": null,
      "outputs": [
        {
          "output_type": "stream",
          "name": "stdout",
          "text": [
            "Digite o ano de nascimento para as sete pessoas:\n",
            "Ano da 1º pessoa:2010\n",
            "Ano da 2º pessoa:1994\n",
            "Ano da 3º pessoa:1039\n",
            "Ano da 4º pessoa:2309\n",
            "Ano da 5º pessoa:02398\n",
            "Ano da 6º pessoa:90238\n",
            "Ano da 7º pessoa:084\n",
            "3 pessoas de sua lista são maiores e 4 são menores de idade.\n"
          ]
        }
      ]
    },
    {
      "cell_type": "markdown",
      "metadata": {
        "id": "h1w7CNxXZgrL"
      },
      "source": [
        "Desafio 055: Faça um programa que leia o peso de cinco pessoas. No final, mostre qual foi o maior e o menor peso lidos."
      ]
    },
    {
      "cell_type": "code",
      "metadata": {
        "id": "lBs0EL8rZmB7",
        "colab": {
          "base_uri": "https://localhost:8080/"
        },
        "outputId": "8c55d049-76dd-4b03-ad0b-66228868d743"
      },
      "source": [
        "print('Digite o peso de cinco pessoas abaixo:')\n",
        "for c in range(1, 6):\n",
        "    p = int(input('peso {}: '.format(c)))\n",
        "    if c == 1:\n",
        "        ma = p\n",
        "        me = p\n",
        "    else:\n",
        "        if p > ma:\n",
        "            ma = p\n",
        "        elif p < me:\n",
        "            me = p\n",
        "print('O maior peso da sua lista foi {}kg.\\n'\n",
        "      'E o menor peso de sua lista foi {}kg.'.format(ma, me))\n"
      ],
      "execution_count": null,
      "outputs": [
        {
          "output_type": "stream",
          "name": "stdout",
          "text": [
            "Digite o peso de cinco pessoas abaixo:\n",
            "peso 1: 99\n",
            "peso 2: 100\n",
            "peso 3: 80\n",
            "peso 4: 90\n",
            "peso 5: 90\n",
            "O maior peso da sua lista foi 100kg.\n",
            "E o menor peso de sua lista foi 80kg.\n"
          ]
        }
      ]
    },
    {
      "cell_type": "markdown",
      "metadata": {
        "id": "N7AzedaXZrFQ"
      },
      "source": [
        "Desafio 056: Desenvolva um programa que leia o nome, idade e sexo de 4 pessoas. No final do programa, mostre: a média de idade do grupo, qual é o nome do homem mais velho e quantas mulheres têm menos de 20 anos."
      ]
    },
    {
      "cell_type": "code",
      "metadata": {
        "id": "PLYGPVWzZ0uv",
        "colab": {
          "base_uri": "https://localhost:8080/"
        },
        "outputId": "f22fa560-8ab4-42e7-8109-f32a38a54152"
      },
      "source": [
        "mnome = 'ninguém'\n",
        "maior = 0\n",
        "cont = 0\n",
        "m = 0\n",
        "for c in range(1, 5):\n",
        "    print('---- {}ª Pessoa {:-^100}'.format(c , ''))\n",
        "    nome = str(input('Digite seu nome:'))\n",
        "    idade = int(input('Digite sua idade:'))\n",
        "    sexo = str(input('Qual o se sexo:[masculino/feminino]:')).lower()\n",
        "    m += idade\n",
        "    if sexo == 'masculino' or sexo == 'm':\n",
        "        if c == 1:\n",
        "            maior = idade\n",
        "            mnome = nome\n",
        "        else:\n",
        "            if idade > maior:\n",
        "                maior = idade\n",
        "                mnome = nome\n",
        "    elif sexo == 'feminino' or sexo == 'f':\n",
        "        if idade < 20:\n",
        "            cont += 1\n",
        "print('{:-^100}'.format(''))\n",
        "print('A média de idade de vocês 4 é {}.'.format(m / 4))\n",
        "if mnome == 'ninguém':\n",
        "    print('Não há homens nessa lista.')\n",
        "else:\n",
        "    print('O nome do homem mais velho entre você é {}.'.format(mnome))\n",
        "print('E existem {} mulheres com menos de 20 anos entre vocês.'.format(cont))\n"
      ],
      "execution_count": null,
      "outputs": [
        {
          "output_type": "stream",
          "name": "stdout",
          "text": [
            "---- 1ª Pessoa ----------------------------------------------------------------------------------------------------\n",
            "Digite seu nome:João\n",
            "Digite sua idade:27\n",
            "Qual o se sexo:[masculino/feminino]:masculino\n",
            "---- 2ª Pessoa ----------------------------------------------------------------------------------------------------\n",
            "Digite seu nome:Camila\n",
            "Digite sua idade:24\n",
            "Qual o se sexo:[masculino/feminino]:feminino\n",
            "---- 3ª Pessoa ----------------------------------------------------------------------------------------------------\n",
            "Digite seu nome:Paloma\n",
            "Digite sua idade:11\n",
            "Qual o se sexo:[masculino/feminino]:feminino\n",
            "---- 4ª Pessoa ----------------------------------------------------------------------------------------------------\n",
            "Digite seu nome:Paulo\n",
            "Digite sua idade:63\n",
            "Qual o se sexo:[masculino/feminino]:masculino\n",
            "----------------------------------------------------------------------------------------------------\n",
            "A média de idade de vocês 4 é 31.25.\n",
            "O nome do homem mais velho entre você é Paulo.\n",
            "E existem 1 mulheres com menos de 20 anos entre vocês.\n"
          ]
        }
      ]
    },
    {
      "cell_type": "markdown",
      "metadata": {
        "id": "bLgRN4tXZ-WP"
      },
      "source": [
        "## Aula 14: Estrutura de repetição while"
      ]
    },
    {
      "cell_type": "code",
      "metadata": {
        "colab": {
          "base_uri": "https://localhost:8080/"
        },
        "id": "nXN_irI8aJpI",
        "outputId": "84066dc6-9a38-4931-9d0c-9e00ac1691f6"
      },
      "source": [
        "'''for c in range(1, 10):\n",
        "    print(c)\n",
        "print('FIM')\n",
        "c = 1\n",
        "while c < 10:\n",
        "    print(c)\n",
        "    c += 1\n",
        "print('FIM')\n",
        "for c in range(1,5):\n",
        "    n = int(input('Digite um valor:'))\n",
        "print('fim')\n",
        "n = 1\n",
        "r = 'S'\n",
        "while r == 'S':\n",
        "    n = int(input('Digite um valor:'))\n",
        "    r = str(input('Que continuar?')).upper()\n",
        "print('fim')'''\n",
        "\n",
        "n = 1\n",
        "par = impar = 0\n",
        "while n != 0:\n",
        "    n = int(input('Digite um valor:'))\n",
        "    if n != 0:\n",
        "        if n % 2 == 0:\n",
        "            par += 1\n",
        "        else:\n",
        "            impar += 1\n",
        "print('Você digitou {} números pares e {} número ímpares.'.format(par, impar))\n",
        "print('-=-' * 10)\n",
        "\n",
        "# a = False\n",
        "# while not a:\n"
      ],
      "execution_count": null,
      "outputs": [
        {
          "output_type": "stream",
          "name": "stdout",
          "text": [
            "Digite um valor:10\n",
            "Digite um valor:20\n",
            "Digite um valor:30\n",
            "Digite um valor:40\n",
            "Digite um valor:50\n",
            "Digite um valor:60\n",
            "Digite um valor:70\n",
            "Digite um valor:80\n",
            "Digite um valor:44\n",
            "Digite um valor:3\n",
            "Digite um valor:3\n",
            "Digite um valor:2\n",
            "Digite um valor:5\n",
            "Digite um valor:6\n",
            "Digite um valor:7\n",
            "Digite um valor:8\n",
            "Digite um valor:3\n",
            "Digite um valor:3\n",
            "Digite um valor:4\n",
            "Digite um valor:0\n",
            "Você digitou 13 números pares e 6 número ímpares.\n",
            "-=--=--=--=--=--=--=--=--=--=-\n"
          ]
        }
      ]
    },
    {
      "cell_type": "markdown",
      "metadata": {
        "id": "Bu25_PQ4rCvS"
      },
      "source": [
        "Desafio 057: Faça um programa que leia o sexo de uma pessoa, mas só aceite os\n",
        "valores ‘M’ ou ‘F’. Caso esteja errado, peça a digitação novamente até ter um valor\n",
        "correto."
      ]
    },
    {
      "cell_type": "code",
      "metadata": {
        "id": "kot4FDAka4ID",
        "colab": {
          "base_uri": "https://localhost:8080/"
        },
        "outputId": "9d6705d9-02cd-4a7e-e5b7-79650d9220a5"
      },
      "source": [
        "sexo = ''\n",
        "# while sexo mot in 'MF':\n",
        "while 'F' != sexo != 'M':\n",
        "    sexo = str(input('Qual o sexo:[S/N]')).strip().upper()[0]\n",
        "    if 'F' != sexo != 'M':\n",
        "        print('Essa opção não existe, por favor tente novamente.')\n",
        "print('Sexo {} registrado com sucesso.'.format(sexo))\n"
      ],
      "execution_count": null,
      "outputs": [
        {
          "output_type": "stream",
          "name": "stdout",
          "text": [
            "Qual o sexo:[S/N]m\n",
            "Sexo M registrado com sucesso.\n"
          ]
        }
      ]
    },
    {
      "cell_type": "markdown",
      "metadata": {
        "id": "0beo2-yvrVMW"
      },
      "source": [
        "Desafio 058: Melhore o jogo do DESAFIO 28 onde o computador vai “pensar” em um\n",
        "número entre 0 e 10. Só que agora o jogador vai tentar adivinhar até acertar,\n",
        "mostrando no final quantos palpites foram necessários para vencer."
      ]
    },
    {
      "cell_type": "code",
      "metadata": {
        "colab": {
          "base_uri": "https://localhost:8080/"
        },
        "id": "mK022kHRrR3B",
        "outputId": "9a5cce2e-09af-4b0a-9672-8982ddfc427a"
      },
      "source": [
        "'''\n",
        "DESAFIO 28:Escreva um programa que faça o computador \"pensar\" em um número inteiro\n",
        "entre 0 e 5 e peça para o usuário tentar descobrir qual número foi escolhido pelo \n",
        "computador. O programa deverá escrever na tela se o usuário venceu ou perdeu.\n",
        "'''\n",
        "from random import randint\n",
        "from time import sleep\n",
        "\n",
        "c = 1\n",
        "n = randint(1, 11)\n",
        "n1 = int(input('Pensei em um número de 0 à 10 e quero que você tente adivinhar qual é,'\n",
        "               ' para isso digite\\num número a seguir:'))\n",
        "print('PROCESSANDO...')\n",
        "sleep(1)\n",
        "while n1 != n:\n",
        "    if n1 > n:\n",
        "        print('Meu número é menor.')\n",
        "    else:\n",
        "        print('Meu número é maior.')\n",
        "    n1 = int(input('Você errou!\\nTente de novo:'))\n",
        "    c += 1\n",
        "    print('PROCESSANDO...')\n",
        "    sleep(1)\n",
        "if n == n1:\n",
        "    print('Parabéns você acertou o número que eu pensei.')\n",
        "    if c != 1:\n",
        "        print('Mas precisou de {} tentativas. BURRO!!! KKKKKKK'.format(c))\n"
      ],
      "execution_count": null,
      "outputs": [
        {
          "output_type": "stream",
          "name": "stdout",
          "text": [
            "Pensei em um número de 0 à 10 e quero que você tente adivinhar qual é, para isso digite\n",
            "um número a seguir:9\n",
            "PROCESSANDO...\n",
            "Meu número é menor.\n",
            "Você errou!\n",
            "Tente de novo:10\n",
            "PROCESSANDO...\n",
            "Meu número é menor.\n",
            "Você errou!\n",
            "Tente de novo:3\n",
            "PROCESSANDO...\n",
            "Meu número é maior.\n",
            "Você errou!\n",
            "Tente de novo:5\n",
            "PROCESSANDO...\n",
            "Meu número é maior.\n",
            "Você errou!\n",
            "Tente de novo:8\n",
            "PROCESSANDO...\n",
            "Meu número é menor.\n",
            "Você errou!\n",
            "Tente de novo:6\n",
            "PROCESSANDO...\n",
            "Parabéns você acertou o número que eu pensei.\n",
            "Mas precisou de 6 tentativas. BURRO!!! KKKKKKK\n"
          ]
        }
      ]
    },
    {
      "cell_type": "markdown",
      "metadata": {
        "id": "Qff3F3hXrzuN"
      },
      "source": [
        "Desafio 059: Crie um programa que leia dois valores e mostre um menu na tela:\n",
        "* [ 1 ] somar\n",
        "* [ 2 ] multiplicar\n",
        "* [ 3 ] maior\n",
        "* [ 4 ] novos números\n",
        "* [ 5 ] sair do programa\n",
        "\n",
        "Seu programa deverá realizar a operação solicitada em cada caso."
      ]
    },
    {
      "cell_type": "code",
      "metadata": {
        "colab": {
          "base_uri": "https://localhost:8080/"
        },
        "id": "krNg82C5roPG",
        "outputId": "e8de1471-4f32-4fb0-a0e3-f7ae38c9feb6"
      },
      "source": [
        "from time import sleep\n",
        "\n",
        "print('Digite dois valores, abaixo.')\n",
        "n1 = float(input('1º valor:'))\n",
        "n2 = float(input('2º valor:'))\n",
        "print('{:-^100}'.format(''))\n",
        "e = 0\n",
        "while e != 5:\n",
        "    e = int(input('''Escolha o que deseja fazer com os seus valores dentre as opção a \n",
        "seguir.\n",
        "[ 1 ] somar;\n",
        "[ 2 ] multiplicar;\n",
        "[ 3 ] qual o maior?;\n",
        "[ 4 ] novos números;\n",
        "[ 5 ] sair do programa.\n",
        "Digite sua escolha aqui:'''))\n",
        "    if e == 1:\n",
        "        s = n1 + n2\n",
        "        print('A soma entre seus dois valores é {}'.format(s))\n",
        "    elif e == 2:\n",
        "        m = n1 * n2\n",
        "        print('A multiplicação entre seus dois valores é {}'.format(m))\n",
        "    elif e == 3:\n",
        "        if n1 < n2:\n",
        "            print('O {} é o maior número.'.format(n2))\n",
        "        elif n1 > n2:\n",
        "            print('O {} é o maior número.'.format(n1))\n",
        "        else:\n",
        "            print('Os valores são iguais.')\n",
        "    elif e == 4:\n",
        "        print('Digite sues novos valores.')\n",
        "        n1 = float(input('1º valor:'))\n",
        "        n2 = float(input('2º valor:'))\n",
        "    elif e == 5:\n",
        "        print('Finalizando...')\n",
        "    else:\n",
        "        print('Valor inválido tente um valor do menu...')\n",
        "    print('{:-^100}'.format(''))\n",
        "    sleep(2)\n",
        "print('Fim do programa. Adeus!')\n"
      ],
      "execution_count": null,
      "outputs": [
        {
          "output_type": "stream",
          "name": "stdout",
          "text": [
            "Digite dois valores, abaixo.\n",
            "1º valor:30\n",
            "2º valor:40\n",
            "----------------------------------------------------------------------------------------------------\n",
            "Escolha o que deseja fazer com os seus valores dentre as opção a \n",
            "seguir.\n",
            "[ 1 ] somar;\n",
            "[ 2 ] multiplicar;\n",
            "[ 3 ] qual o maior?;\n",
            "[ 4 ] novos números;\n",
            "[ 5 ] sair do programa.\n",
            "Digite sua escolha aqui:1\n",
            "A soma entre seus dois valores é 70.0\n",
            "----------------------------------------------------------------------------------------------------\n",
            "Escolha o que deseja fazer com os seus valores dentre as opção a \n",
            "seguir.\n",
            "[ 1 ] somar;\n",
            "[ 2 ] multiplicar;\n",
            "[ 3 ] qual o maior?;\n",
            "[ 4 ] novos números;\n",
            "[ 5 ] sair do programa.\n",
            "Digite sua escolha aqui:2\n",
            "A multiplicação entre seus dois valores é 1200.0\n",
            "----------------------------------------------------------------------------------------------------\n",
            "Escolha o que deseja fazer com os seus valores dentre as opção a \n",
            "seguir.\n",
            "[ 1 ] somar;\n",
            "[ 2 ] multiplicar;\n",
            "[ 3 ] qual o maior?;\n",
            "[ 4 ] novos números;\n",
            "[ 5 ] sair do programa.\n",
            "Digite sua escolha aqui:3\n",
            "O 40.0 é o maior número.\n",
            "----------------------------------------------------------------------------------------------------\n",
            "Escolha o que deseja fazer com os seus valores dentre as opção a \n",
            "seguir.\n",
            "[ 1 ] somar;\n",
            "[ 2 ] multiplicar;\n",
            "[ 3 ] qual o maior?;\n",
            "[ 4 ] novos números;\n",
            "[ 5 ] sair do programa.\n",
            "Digite sua escolha aqui:4\n",
            "Digite sues novos valores.\n",
            "1º valor:3948\n",
            "2º valor:304\n",
            "----------------------------------------------------------------------------------------------------\n",
            "Escolha o que deseja fazer com os seus valores dentre as opção a \n",
            "seguir.\n",
            "[ 1 ] somar;\n",
            "[ 2 ] multiplicar;\n",
            "[ 3 ] qual o maior?;\n",
            "[ 4 ] novos números;\n",
            "[ 5 ] sair do programa.\n",
            "Digite sua escolha aqui:5\n",
            "Finalizando...\n",
            "----------------------------------------------------------------------------------------------------\n",
            "Fim do programa. Adeus!\n"
          ]
        }
      ]
    },
    {
      "cell_type": "markdown",
      "metadata": {
        "id": "t72rgdhRenX5"
      },
      "source": [
        "Desafio 060: Faça um programa que leia um número qualquer e mostre o seu\n",
        "fatorial. \n",
        "\n",
        "Exemplo:\n",
        "\n",
        "5! = 5 x 4 x 3 x 2 x 1 = 120"
      ]
    },
    {
      "cell_type": "code",
      "metadata": {
        "colab": {
          "base_uri": "https://localhost:8080/"
        },
        "id": "V__Ua4oxeaOW",
        "outputId": "664d73c3-c70e-464f-eada-8b7a10723c48"
      },
      "source": [
        "print('{:=^100}'.format('Fatorial'))\n",
        "print('{:=^100}'.format('Solução com for'))\n",
        "n = int(input('Digite um número:'))\n",
        "f = 1\n",
        "for c in range(1, n + 1):\n",
        "    f *= c\n",
        "print('O fatorial de {} é {}.'.format(n, f))\n",
        "\n",
        "print('{:=^100}'.format('Solução com while'))\n",
        "n1 = int(input('Digite um número:'))\n",
        "f1 = c1 = 1\n",
        "while c1 <= n1:\n",
        "    f1 *= c1\n",
        "    c1 += 1\n",
        "print('O fatorial de {} é {}.'.format(n1, f1))\n",
        "\n",
        "print('{:=^100}'.format('Solução com módulo factorial'))\n",
        "from math import factorial\n",
        "n2 = int(input('Digite um número:'))\n",
        "f2 = factorial(n1)\n",
        "print('O fatorial de {} é {}.'.format(n2, f2))\n",
        "\n",
        "print('{:=^100}'.format('Solução do Professor'))\n",
        "n3 = int(input('Digite um número:'))\n",
        "c3 = n3\n",
        "f3 = 1\n",
        "print('Calculando {}! = '.format(n3), end='')\n",
        "while c3 > 0:\n",
        "    print('{}'.format(c3), end='')\n",
        "    print(' x 'if c3 > 1 else ' = ', end='')\n",
        "    f3 *= c3\n",
        "    c3 -= 1\n",
        "print('{}'.format(f3))\n"
      ],
      "execution_count": null,
      "outputs": [
        {
          "output_type": "stream",
          "name": "stdout",
          "text": [
            "==============================================Fatorial==============================================\n",
            "==========================================Solução com for===========================================\n",
            "Digite um número:3\n",
            "O fatorial de 3 é 6.\n",
            "=========================================Solução com while==========================================\n",
            "Digite um número:4\n",
            "O fatorial de 4 é 24.\n",
            "====================================Solução com módulo factorial====================================\n",
            "Digite um número:5\n",
            "O fatorial de 5 é 24.\n",
            "========================================Solução do Professor========================================\n",
            "Digite um número:6\n",
            "Calculando 6! = 6 x 5 x 4 x 3 x 2 x 1 = 720\n"
          ]
        }
      ]
    },
    {
      "cell_type": "markdown",
      "metadata": {
        "id": "UJFZ7aOIfGMl"
      },
      "source": [
        "Desafio 61: Refaça o DESAFIO 51, lendo o primeiro termo e a razão de uma PA, mostrando os 10 primeiros termos da progressão usando a estrutura while."
      ]
    },
    {
      "cell_type": "code",
      "metadata": {
        "colab": {
          "base_uri": "https://localhost:8080/"
        },
        "id": "HrWOscS6e6i6",
        "outputId": "e300944c-51a9-454f-8ddd-7c697d73c498"
      },
      "source": [
        "'''\n",
        "Exercício Python 51: Desenvolva um programa que leia o primeiro termo e a razão de uma\n",
        "PA. No final, mostre os 10 primeiros termos dessa progressão.\n",
        "'''\n",
        "\n",
        "print('{:=^100}'.format('PROGRESSÃO ARITMÉTICA'))\n",
        "print('{:=^100}'.format('Solução com for'))\n",
        "\n",
        "print('Informe o que se pede abaixo.')\n",
        "t1 = float(input('O 1º termo:'))\n",
        "r = float(input('A razão:'))\n",
        "cont = 0\n",
        "for c in range(0, 10, 1):\n",
        "    cont += 1\n",
        "    print('O {}º termo é {:.2f}.'.format(cont, t1))\n",
        "    t1 += r\n",
        "\n",
        "print('{:=^100}'.format('Versão do Professor'))\n",
        "\n",
        "print('Informe o que se pede abaixo.')\n",
        "t11 = int(input('O 1º termo:'))\n",
        "r1 = int(input('A razão:'))\n",
        "cont1 = 0\n",
        "t101 = t11 + (10 - 1) * r1\n",
        "for c in range(t11, t101 + r1, r1):\n",
        "    cont1 += 1\n",
        "    print('{}'.format(c), end=' -> ')\n",
        "print('Acabou!')\n",
        "\n",
        "print('{:=^100}'.format('Solução com while'))\n",
        "print('Informe o que se pede abaixo.')\n",
        "t12 = float(input('O 1º termo:'))\n",
        "r2 = float(input('A razão:'))\n",
        "cont2 = 0\n",
        "while cont2 < 10:\n",
        "    cont2 += 1\n",
        "    print('{}, '.format(t12), end='')\n",
        "    t12 += r2\n",
        "print('Acabou!')\n"
      ],
      "execution_count": null,
      "outputs": [
        {
          "output_type": "stream",
          "name": "stdout",
          "text": [
            "==========================================Solução com for===========================================\n",
            "=======================================PROGRESSÃO ARITMÉTICA========================================\n",
            "Informe o que se pede abaixo.\n",
            "O 1º termo:2\n",
            "A razão:5\n",
            "O 1º termo é 2.00.\n",
            "O 2º termo é 7.00.\n",
            "O 3º termo é 12.00.\n",
            "O 4º termo é 17.00.\n",
            "O 5º termo é 22.00.\n",
            "O 6º termo é 27.00.\n",
            "O 7º termo é 32.00.\n",
            "O 8º termo é 37.00.\n",
            "O 9º termo é 42.00.\n",
            "O 10º termo é 47.00.\n",
            "========================================Versão do Professor=========================================\n",
            "Informe o que se pede abaixo.\n",
            "O 1º termo:2\n",
            "A razão:5\n",
            "2 -> 7 -> 12 -> 17 -> 22 -> 27 -> 32 -> 37 -> 42 -> 47 -> Acabou!\n",
            "=========================================Solução com while==========================================\n",
            "Informe o que se pede abaixo.\n",
            "O 1º termo:2\n",
            "A razão:5\n",
            "2.0, 7.0, 12.0, 17.0, 22.0, 27.0, 32.0, 37.0, 42.0, 47.0, Acabou!\n"
          ]
        }
      ]
    },
    {
      "cell_type": "markdown",
      "metadata": {
        "id": "9dhSz9OPfiDu"
      },
      "source": [
        "Desafio 062: Melhore o DESAFIO 61, perguntando para o usuário se ele quer mostrar mais alguns termos. O programa encerrará quando ele disser que quer mostrar 0 termos."
      ]
    },
    {
      "cell_type": "code",
      "metadata": {
        "colab": {
          "base_uri": "https://localhost:8080/"
        },
        "id": "ZDq9YOfSfXf3",
        "outputId": "afe0a2b1-2c70-43ec-8a88-f2a83f95476d"
      },
      "source": [
        "print('=' * 100)\n",
        "print('{:^100}'.format('Gerador  de PA'))\n",
        "print('=' * 100)\n",
        "print('Informe o que se pede abaixo.')\n",
        "t1 = float(input('O 1º termo:'))\n",
        "r = float(input('A razão:'))\n",
        "cont = 1\n",
        "mais = 10\n",
        "total = 0\n",
        "while mais != 0:\n",
        "    total += mais\n",
        "    while cont <= total:\n",
        "        cont += 1\n",
        "        print('{}, '.format(t1), end='')\n",
        "        t1 += r\n",
        "    print('...')\n",
        "    mais = int(input('Digite o número de termos a mais que você quer:'))\n",
        "print('Acabou!')\n",
        "print('Obrigado por usar o programa.')\n",
        "print('Foram usados {} termos'.format(total))\n"
      ],
      "execution_count": null,
      "outputs": [
        {
          "output_type": "stream",
          "name": "stdout",
          "text": [
            "====================================================================================================\n",
            "                                           Gerador  de PA                                           \n",
            "====================================================================================================\n",
            "Informe o que se pede abaixo.\n",
            "O 1º termo:2\n",
            "A razão:5\n",
            "2.0, 7.0, 12.0, 17.0, 22.0, 27.0, 32.0, 37.0, 42.0, 47.0, ...\n",
            "Digite o número de termos a mais que você quer:7\n",
            "52.0, 57.0, 62.0, 67.0, 72.0, 77.0, 82.0, ...\n",
            "Digite o número de termos a mais que você quer:0\n",
            "Acabou!\n",
            "Obrigado por usar o programa.\n",
            "Foram usados 17 termos\n"
          ]
        }
      ]
    },
    {
      "cell_type": "markdown",
      "metadata": {
        "id": "mDBt8VIqf4E0"
      },
      "source": [
        "Desafio 63: Escreva um programa que leia um número N inteiro qualquer e mostre na tela os N primeiros elementos de uma Sequência de Fibonacci. \n",
        "\n",
        "Exemplo:\n",
        "\n",
        "0 – 1 – 1 – 2 – 3 – 5 – 8"
      ]
    },
    {
      "cell_type": "code",
      "metadata": {
        "colab": {
          "base_uri": "https://localhost:8080/"
        },
        "id": "Hs6NQaiofw_L",
        "outputId": "c8c2a476-0e8c-42eb-8bf3-3ea26bc6a5d4"
      },
      "source": [
        "print('=' * 140)\n",
        "print('{:^140}'.format('Sequencia de fibonacci'))\n",
        "print('=' * 140)\n",
        "print('Informe o que se pede abaixo.')\n",
        "n = int(input('Digite o número de termos N da Sequência de Fibonacci: '))\n",
        "cont = n1 = n2 = 0\n",
        "while n != cont:\n",
        "  print('{}'.format(n2), end=' -> ')\n",
        "  n2 = n1 + n2\n",
        "  n1 = n2 - n1\n",
        "  cont += 1\n",
        "  if n2 == 0:\n",
        "    n2 = n2 +1\n",
        "print('Acabou!')"
      ],
      "execution_count": null,
      "outputs": [
        {
          "output_type": "stream",
          "name": "stdout",
          "text": [
            "============================================================================================================================================\n",
            "                                                           Sequencia de fibonacci                                                           \n",
            "============================================================================================================================================\n",
            "Informe o que se pede abaixo.\n",
            "Digite o número de termos N da Sequência de Fibonacci: 7\n",
            "0 -> 1 -> 1 -> 2 -> 3 -> 5 -> 8 -> Acabou!\n"
          ]
        }
      ]
    },
    {
      "cell_type": "markdown",
      "metadata": {
        "id": "rvD5jm4aqpT9"
      },
      "source": [
        "Desafio 064: Crie um programa que leia vários números inteiros pelo teclado. O programa só vai parar quando o usuário digitar o valor 999, que é a condição de parada. No final, mostre quantos números foram digitados e qual foi a soma entre eles (desconsiderando o flag)."
      ]
    },
    {
      "cell_type": "code",
      "metadata": {
        "id": "HOGnePwxmd9W",
        "colab": {
          "base_uri": "https://localhost:8080/"
        },
        "outputId": "71ee7338-53a3-42c1-84a2-123adb80bd29"
      },
      "source": [
        "print('=' * 140)\n",
        "print('{:^140}'.format('Soma'))\n",
        "print('=' * 140)\n",
        "print('Informe o que se pede abaixo:\\nDigite alguns números para saber a soma entre eles. Para finalizar digite 999.')\n",
        "cont = 1\n",
        "n = int(input('{}° número:'.format(cont)))\n",
        "s = 0\n",
        "while n != 999:\n",
        "  s += n\n",
        "  cont += 1\n",
        "  n = int(input('{}° número:'.format(cont)))\n",
        "print('A soma dos {} números digitados é: {}'.format(cont - 1, s))\n"
      ],
      "execution_count": null,
      "outputs": [
        {
          "output_type": "stream",
          "name": "stdout",
          "text": [
            "============================================================================================================================================\n",
            "                                                                    Soma                                                                    \n",
            "============================================================================================================================================\n",
            "Informe o que se pede abaixo:\n",
            "Digite alguns números para saber a soma entre eles. Para finalizar digite 999.\n",
            "1° número:2\n",
            "2° número:3\n",
            "3° número:4\n",
            "4° número:999\n",
            "A soma dos 3 números digitados é: 9\n"
          ]
        }
      ]
    },
    {
      "cell_type": "markdown",
      "metadata": {
        "id": "xJSZwxzU-u61"
      },
      "source": [
        "Desafio 065: Crie um programa que leia vários números inteiros pelo teclado. No final da execução, mostre a média entre todos os valores e qual foi o maior e o menor valores lidos. O programa deve perguntar ao usuário se ele quer ou não continuar a digitar valores.\n",
        "\n"
      ]
    },
    {
      "cell_type": "code",
      "metadata": {
        "colab": {
          "base_uri": "https://localhost:8080/"
        },
        "id": "WoBx3vrFAiwj",
        "outputId": "62d65a05-fadd-4457-8675-0c93a779892f"
      },
      "source": [
        "print('=' * 140)\n",
        "print('{:^140}'.format('Média, Maior e Menor valores'))\n",
        "print('=' * 140)\n",
        "\n",
        "cont = s = maior = menor = n = 0\n",
        "ir = str('S')\n",
        "while ir in 'Ss':\n",
        "  cont += 1\n",
        "  n = float(input('{}° número:'.format(cont)))\n",
        "  s += n\n",
        "  if cont == 1:\n",
        "    maior = menor = n\n",
        "  else:\n",
        "    if n > maior:\n",
        "      maior = n\n",
        "    if n < menor:\n",
        "      menor = n\n",
        "  ir = str(input('Se deseja continuar digite S ou N: ')).upper().strip()[0]\n",
        "\n",
        "print('A média entre os números digitados é {}, o maior número é {} e o menor número é {}.'.format(s/cont, maior, menor))\n",
        "\n"
      ],
      "execution_count": null,
      "outputs": [
        {
          "output_type": "stream",
          "name": "stdout",
          "text": [
            "============================================================================================================================================\n",
            "                                                        Média, Maior e Menor valores                                                        \n",
            "============================================================================================================================================\n",
            "1° número:3\n",
            "Se deseja continuar digite S ou N: sim\n",
            "2° número:8\n",
            "Se deseja continuar digite S ou N: s\n",
            "3° número:10\n",
            "Se deseja continuar digite S ou N: s\n",
            "4° número:44\n",
            "Se deseja continuar digite S ou N: não\n",
            "A média entre os números digitados é 16.25, o maior número é 44.0 e o menor número é 3.0.\n"
          ]
        }
      ]
    },
    {
      "cell_type": "markdown",
      "metadata": {
        "id": "32aKeqOZUpMU"
      },
      "source": [
        "## Aula 15: Interrompendo repetições while"
      ]
    },
    {
      "cell_type": "code",
      "metadata": {
        "id": "LB_yKFgtVA3T",
        "colab": {
          "base_uri": "https://localhost:8080/"
        },
        "outputId": "e514d2af-eee0-4174-b6ae-a3648895b08d"
      },
      "source": [
        "cont = 1\n",
        "while cont <= 10:\n",
        "  print(cont, '-> ', end = '')\n",
        "  cont += 1\n",
        "print('Acabou')\n",
        "\n",
        "n = 0\n",
        "while n != 999:\n",
        "  n = int(input('Digite um número: '))\n",
        "\n",
        "\n",
        "n3 = cont1 = 0\n",
        "while cont < 3:\n",
        "  n3 = int(input('Digite um número: '))\n",
        "  cont1 += 1\n",
        "\n",
        "n1 = s = 0\n",
        "while n1 != 999:\n",
        "  n1 = int(input('Digite um número: '))\n",
        "  s += n1\n",
        "s -= 999 # Gambiarra\n",
        "print('A soma vale{}'.format(s))\n",
        "\n",
        "n2 = s = 0\n",
        "while True:\n",
        "  n2 = int(input('Digite um número: '))\n",
        "  if n2 == 999:\n",
        "    break     # parte importante dessa aula\n",
        "  s += n2\n",
        "print('A soma vale {}'.format(s))\n",
        "print(f'A soma vale {s}')  # f-string \n",
        "\n",
        "idade = 33\n",
        "nome = 'José'\n",
        "salario = 987.3\n",
        "print(f'O {nome} tem {idade} anos. E ganha {salario:.2f}')"
      ],
      "execution_count": null,
      "outputs": [
        {
          "output_type": "stream",
          "name": "stdout",
          "text": [
            "1 -> 2 -> 3 -> 4 -> 5 -> 6 -> 7 -> 8 -> 9 -> 10 -> Acabou\n",
            "Digite um número: 999\n",
            "Digite um número: 999\n",
            "A soma vale0\n",
            "Digite um número: 999\n",
            "A soma vale 0\n",
            "A soma vale 0\n",
            "O José tem 33 anos. E ganha 987.30\n"
          ]
        }
      ]
    },
    {
      "cell_type": "markdown",
      "metadata": {
        "id": "p9lYg7XRAkgL"
      },
      "source": [
        "Desafio 066:  Crie um programa que leia números inteiros pelo teclado. O programa só vai parar quando o usuário digitar o valor 999, que é a condição de parada. No final, mostre quantos números foram digitados e qual foi a soma entre elas (desconsiderando o flag)."
      ]
    },
    {
      "cell_type": "code",
      "metadata": {
        "colab": {
          "base_uri": "https://localhost:8080/"
        },
        "id": "hMKDYfVMBQZO",
        "outputId": "6a0c61cb-4b44-48f7-a718-376c5c52576e"
      },
      "source": [
        "n5 = s1 = cont3 = 0\n",
        "while True:\n",
        "  n5 = int(input('Digite um número: '))\n",
        "  if n5 == 999:\n",
        "    break \n",
        "  cont3 += 1    \n",
        "  s1 += n5\n",
        "print(f'Foram digitados {cont3} números e a soma deles vale {s1}') "
      ],
      "execution_count": null,
      "outputs": [
        {
          "output_type": "stream",
          "name": "stdout",
          "text": [
            "Digite um número: 9\n",
            "Digite um número: 7\n",
            "Digite um número: 5\n",
            "Digite um número: 3\n",
            "Digite um número: 1\n",
            "Digite um número: 999\n",
            "Foram digitados 5 números e a soma deles vale 25\n"
          ]
        }
      ]
    },
    {
      "cell_type": "markdown",
      "metadata": {
        "id": "4luclhFvCbbY"
      },
      "source": [
        "Desafio 067:  Faça um programa que mostre a tabuada de vários números, um de cada vez, para cada valor digitado pelo usuário. O programa será interrompido quando o número solicitado for negativo."
      ]
    },
    {
      "cell_type": "code",
      "metadata": {
        "colab": {
          "base_uri": "https://localhost:8080/"
        },
        "id": "IYzFBaNUB0qE",
        "outputId": "a0b03b6e-a1dd-4456-cc68-fcefe674518d"
      },
      "source": [
        "x = 0\n",
        "while True:\n",
        "  x = int(input('digite um n°: '))\n",
        "  if x <= 0:\n",
        "    print('Obrigado por usar!')\n",
        "    break\n",
        "  for c in range(0, 11):\n",
        "    print(f'{x} x {c} = {x * c}')\n"
      ],
      "execution_count": null,
      "outputs": [
        {
          "output_type": "stream",
          "name": "stdout",
          "text": [
            "digite um n°: 9\n",
            "9 x 0 = 0\n",
            "9 x 1 = 9\n",
            "9 x 2 = 18\n",
            "9 x 3 = 27\n",
            "9 x 4 = 36\n",
            "9 x 5 = 45\n",
            "9 x 6 = 54\n",
            "9 x 7 = 63\n",
            "9 x 8 = 72\n",
            "9 x 9 = 81\n",
            "9 x 10 = 90\n",
            "digite um n°: 5\n",
            "5 x 0 = 0\n",
            "5 x 1 = 5\n",
            "5 x 2 = 10\n",
            "5 x 3 = 15\n",
            "5 x 4 = 20\n",
            "5 x 5 = 25\n",
            "5 x 6 = 30\n",
            "5 x 7 = 35\n",
            "5 x 8 = 40\n",
            "5 x 9 = 45\n",
            "5 x 10 = 50\n",
            "digite um n°: -1\n",
            "Obrigado por usar!\n"
          ]
        }
      ]
    },
    {
      "cell_type": "markdown",
      "metadata": {
        "id": "dviGKbmYFPg5"
      },
      "source": [
        "Desafio 068: Faça um programa que jogue par ou ímpar com o computador. O jogo só será interrompido quando o jogador perder, mostrando o total de vitórias consecutivas que ele conquistou no final do jogo."
      ]
    },
    {
      "cell_type": "code",
      "metadata": {
        "id": "ZToqHXCgIdyV"
      },
      "source": [
        "from random import randint\n",
        "\n",
        "v = 0\n",
        "while True:\n",
        "  jogador = int(input('Diga um valor: '))\n",
        "  computador = randint(0, 11)\n",
        "  total = jogador + computador\n",
        "  tipo = ' '\n",
        "  while tipo not in 'PI':\n",
        "    tipo = str(input('Par ou Impar?[P/I]\\n')).strip().upper()[0]\n",
        "  if tipo == 'P':\n",
        "    if total % 2 == 0:\n",
        "      print('Você venceu!')\n",
        "      v += 1\n",
        "    else:\n",
        "      print('Você perdeu!')\n",
        "      break\n",
        "  elif tipo == 'I':\n",
        "    if total % 2 == 1:\n",
        "      print('Você venceu!')\n",
        "      v += 1\n",
        "    else:\n",
        "      print('Você perdeu!')\n",
        "      break\n",
        "    "
      ],
      "execution_count": null,
      "outputs": []
    },
    {
      "cell_type": "markdown",
      "metadata": {
        "id": "mqHMZhnxAR7G"
      },
      "source": [
        "Desafio 069:Crie um programa que leia a idade e o sexo de várias pessoas. A cada pessoa cadastrada, o programa deverá perguntar se o usuário quer ou não continuar. No final, mostre:\n",
        "\n",
        "A) quantas pessoas tem mais de 18 anos.\n",
        "\n",
        "B) quantos homens foram cadastrados.\n",
        "\n",
        "C) quantas mulheres tem menos de 20 anos."
      ]
    },
    {
      "cell_type": "code",
      "metadata": {
        "colab": {
          "base_uri": "https://localhost:8080/"
        },
        "id": "z3dHNnehAaSV",
        "outputId": "83a497c2-98fc-4dd3-cb4c-8b1489af366b"
      },
      "source": [
        "idade = cont4 = cont5 = cont6 = 0\n",
        "continuar = sexo = ' '\n",
        "while True:\n",
        "  idade = int(input('Diga sua idade: '))\n",
        "  sexo = str(input('Diga seu sexo [M/F]: ')).strip().upper()[0]\n",
        "  if idade >= 18:\n",
        "    cont4 +=1\n",
        "  if sexo == 'M':\n",
        "    cont5 += 1\n",
        "  if (sexo == 'F') and (idade < 20):\n",
        "    cont6 += 1\n",
        "  continuar = str(input('Deseja continuar: ')).strip().upper()[0]\n",
        "  if continuar == 'N':\n",
        "    break\n",
        "\n",
        "print(f'Você digitou {cont4} pessoas com mais de 18 anos, {cont5} homens foram cadastrados e {cont6} mulheres tem menos de 20 anos')\n",
        "  "
      ],
      "execution_count": null,
      "outputs": [
        {
          "output_type": "stream",
          "name": "stdout",
          "text": [
            "Diga sua idade: 19\n",
            "Diga seu sexo [M/F]: m\n",
            "Deseja continuar: s\n",
            "Diga sua idade: 20\n",
            "Diga seu sexo [M/F]: f\n",
            "Deseja continuar: 43\n",
            "Diga sua idade: 43\n",
            "Diga seu sexo [M/F]: m\n",
            "Deseja continuar: s\n",
            "Diga sua idade: 39\n",
            "Diga seu sexo [M/F]: f\n",
            "Deseja continuar: n\n",
            "Diga sua idade: 10\n",
            "Diga seu sexo [M/F]: f\n",
            "Deseja continuar: N\n",
            "Você digitou 4 pessoas com mais de 18 anos, 2 homens foram cadastrados e 1 mulheres tem menos de 20 anos\n"
          ]
        }
      ]
    },
    {
      "cell_type": "markdown",
      "metadata": {
        "id": "Nva4KRh6HBXW"
      },
      "source": [
        "Desafio 070: Crie um programa que leia o nome e o preço de vários produtos. O programa deverá perguntar se o usuário vai continuar ou não. No final, mostre:\n",
        "\n",
        "A) qual é o total gasto na compra.\n",
        "\n",
        "B) quantos produtos custam mais de R$1000.\n",
        "\n",
        "C) qual é o nome do produto mais barato."
      ]
    },
    {
      "cell_type": "code",
      "metadata": {
        "colab": {
          "base_uri": "https://localhost:8080/"
        },
        "id": "ZQ9WrpXUFOXg",
        "outputId": "93efe3d4-45d2-4d7a-93ab-258e64bc5318"
      },
      "source": [
        "preco = total1 = cont7 = cont8 = menor = 0\n",
        "nome = nome_barato = ' '\n",
        "while True:\n",
        "  nome = str(input('Diga o nome do produto: '))\n",
        "  preco = float(input('Diga o preço do produto: '))\n",
        "  total1 += preco\n",
        "  if preco >= 1000:\n",
        "    cont7 += 1\n",
        "  cont8 +=1\n",
        "  if cont8 == 1 :\n",
        "    nome_barato = nome\n",
        "    preco = menor\n",
        "  else:\n",
        "    if preco < menor:\n",
        "      nome_barato = nome\n",
        "      preco = menor\n",
        "  continuar1 = str(input('Deseja continuar a compra [S/N]: ')).strip().upper()[0]\n",
        "  if continuar1 == 'N':\n",
        "    break\n",
        "print(f'O gasto total da compra é R${total1:.2f}, {cont7} produtos foram mais caros que R$1000.00 e o nome do produto mais barato é {nome_barato}.')"
      ],
      "execution_count": null,
      "outputs": [
        {
          "output_type": "stream",
          "name": "stdout",
          "text": [
            "Diga o nome do produto: jo\n",
            "Diga o preço do produto: 12\n",
            "Deseja continuar a compra [S/N]: s\n",
            "Diga o nome do produto: ji\n",
            "Diga o preço do produto: 100000000\n",
            "Deseja continuar a compra [S/N]: no\n",
            "O gasto total da compra é R$100000012.00, 1 produtos foram mais caros que R$1000.00 e o nome do produto mais barato é jo.\n"
          ]
        }
      ]
    },
    {
      "cell_type": "markdown",
      "metadata": {
        "id": "L7HzD5F1BnfC"
      },
      "source": [
        "Desafio 071: Crie um programa que simule o funcionamento de um caixa eletrônico. No início, pergunte ao usuário qual será o valor a ser sacado (número inteiro) e o programa vai informar quantas cédulas de cada valor serão entregues. OBS:\n",
        "\n",
        "considere que o caixa possui cédulas de $R$50$, $R$20$, $R$10$ e $R$1$. "
      ]
    },
    {
      "cell_type": "code",
      "metadata": {
        "colab": {
          "base_uri": "https://localhost:8080/"
        },
        "id": "qYwERPgf8sOq",
        "outputId": "c24b0452-0978-444a-dfd1-e4d22e839e58"
      },
      "source": [
        ""
      ],
      "execution_count": null,
      "outputs": [
        {
          "output_type": "stream",
          "name": "stdout",
          "text": [
            "0\n",
            "3\n",
            "6\n",
            "9\n"
          ]
        }
      ]
    },
    {
      "cell_type": "code",
      "metadata": {
        "id": "q8_wc7jqCh0L"
      },
      "source": [
        ""
      ],
      "execution_count": null,
      "outputs": []
    }
  ]
}