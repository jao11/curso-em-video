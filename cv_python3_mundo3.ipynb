{
  "nbformat": 4,
  "nbformat_minor": 0,
  "metadata": {
    "colab": {
      "provenance": [],
      "authorship_tag": "ABX9TyP1Y3vjda4AW6Gw9Aq6HSU1",
      "include_colab_link": true
    },
    "kernelspec": {
      "name": "python3",
      "display_name": "Python 3"
    },
    "language_info": {
      "name": "python"
    }
  },
  "cells": [
    {
      "cell_type": "markdown",
      "metadata": {
        "id": "view-in-github",
        "colab_type": "text"
      },
      "source": [
        "<a href=\"https://colab.research.google.com/github/jao11/curso-em-video/blob/master/cv_python3_mundo3.ipynb\" target=\"_parent\"><img src=\"https://colab.research.google.com/assets/colab-badge.svg\" alt=\"Open In Colab\"/></a>"
      ]
    },
    {
      "cell_type": "markdown",
      "metadata": {
        "id": "Bzw5E-T8Eaza"
      },
      "source": [
        "Curso em Video: Python 3"
      ]
    },
    {
      "cell_type": "markdown",
      "metadata": {
        "id": "UJDHmITpEc3e"
      },
      "source": [
        "## Aula 16: Tuplas"
      ]
    },
    {
      "cell_type": "code",
      "metadata": {
        "id": "kKFkeqxOEO77",
        "colab": {
          "base_uri": "https://localhost:8080/"
        },
        "outputId": "88cdeefe-c554-479e-9682-0986c3c3a607"
      },
      "source": [
        "# Tuplas são imutáveis\n",
        "lanche = ('hamburger', 'suco', 'pizza', 'pudim', 'batata frita')\n",
        "lanche2 = 'hamburger', 'suco', 'pizza', 'pudim'   # não precisa colocar os parenteses numa tupla, desde de que esteja na mesma linha\n",
        "print(lanche,'\\n',lanche2)\n",
        "print(lanche[1])\n",
        "print(lanche[-1])\n",
        "print(lanche[1:3])\n",
        "print(lanche[::2])\n",
        "print(lanche[2:])\n",
        "print(lanche[:2])\n",
        "print(lanche[-3:])\n",
        "for comida in lanche:\n",
        "  print(f'Eu vou comer {comida}')\n",
        "\n",
        "print(len(lanche))\n",
        "for cont in range(0, len(lanche)):\n",
        "  print(f'{lanche[cont]} na posição {cont}')\n",
        "\n",
        "for pos, comida in enumerate(lanche):\n",
        "  print(f'Eu vou comer {comida} na posição {pos}')\n",
        "\n",
        "print(sorted(lanche))  # mostra a tupla em ordem\n",
        "\n",
        "a = 2, 5, 4\n",
        "b = (5, 8, 1, 2)\n",
        "c = a + b # junta a com b \n",
        "print(c)\n",
        "print(len(c))\n",
        "print(c.count(5))  # diz quantas vezes aparece um termo\n",
        "print(c.index(8))  # diz a posição na tupla da primeira ocorrencia de um termo\n",
        "print(c.index(5, 1)) # diz a posição de uma termo depois da posição indicada\n",
        "\n",
        "pessoa = ('Gustavo', 39, 'M', 99.88) # Atupla em python aceita mais de um tipo de valor\n",
        "del(pessoa)  # deleta a tupla\n",
        "\n"
      ],
      "execution_count": null,
      "outputs": [
        {
          "output_type": "stream",
          "name": "stdout",
          "text": [
            "('hamburger', 'suco', 'pizza', 'pudim', 'batata frita') \n",
            " ('hamburger', 'suco', 'pizza', 'pudim')\n",
            "suco\n",
            "batata frita\n",
            "('suco', 'pizza')\n",
            "('hamburger', 'pizza', 'batata frita')\n",
            "('pizza', 'pudim', 'batata frita')\n",
            "('hamburger', 'suco')\n",
            "('pizza', 'pudim', 'batata frita')\n",
            "Eu vou comer hamburger\n",
            "Eu vou comer suco\n",
            "Eu vou comer pizza\n",
            "Eu vou comer pudim\n",
            "Eu vou comer batata frita\n",
            "5\n",
            "hamburger na posição 0\n",
            "suco na posição 1\n",
            "pizza na posição 2\n",
            "pudim na posição 3\n",
            "batata frita na posição 4\n",
            "Eu vou comer hamburger na posição 0\n",
            "Eu vou comer suco na posição 1\n",
            "Eu vou comer pizza na posição 2\n",
            "Eu vou comer pudim na posição 3\n",
            "Eu vou comer batata frita na posição 4\n",
            "['batata frita', 'hamburger', 'pizza', 'pudim', 'suco']\n",
            "(2, 5, 4, 5, 8, 1, 2)\n",
            "7\n",
            "2\n",
            "4\n",
            "1\n"
          ]
        }
      ]
    },
    {
      "cell_type": "markdown",
      "metadata": {
        "id": "Jk_zAZUIGuze"
      },
      "source": [
        "Desafio 072: Crie um programa que tenha uma tupla totalmente preenchida com uma contagem por extenso, de zero até vinte. Seu programa deverá ler um número pelo teclado (entre 0 e 20) e mostrá-lo por extenso."
      ]
    },
    {
      "cell_type": "code",
      "metadata": {
        "colab": {
          "base_uri": "https://localhost:8080/"
        },
        "id": "ayY0IYCEAlt3",
        "outputId": "812f2a7e-b090-4aa1-937c-c0414c3e8627"
      },
      "source": [
        "nome = ('zero', 'um', 'dois', 'três', 'quatro', 'cinco', 'seis', 'sete', 'oito', 'nove', 'dez', 'onze', 'doze', 'treze', 'quatorze', 'quinze', 'dezesseis',\n",
        "        'dezessete', 'dezoito', 'dezenove', 'vinte')\n",
        "x = int(input('Diga um número inteiro entre 0 e 20: '))\n",
        "while True:\n",
        "  if 0 <= x <= 20:\n",
        "    print(f'O número digitado foi {nome[x]}.')\n",
        "    break\n",
        "  else:\n",
        "    x = int(input('Número invalido. Diga um número inteiro entre 0 e 20: ')) "
      ],
      "execution_count": null,
      "outputs": [
        {
          "output_type": "stream",
          "name": "stdout",
          "text": [
            "Diga um número inteiro entre 0 e 20: -19\n",
            "Número invalido. Diga um número inteiro entre 0 e 20: 20\n",
            "O número digitado foi vinte.\n"
          ]
        }
      ]
    },
    {
      "cell_type": "markdown",
      "metadata": {
        "id": "crvTyo_3_2g_"
      },
      "source": [
        "Desafio 073: Crie uma tupla preenchida com os 20 primeiros colocados da Tabela do Campeonato Brasileiro de Futebol, na ordem de colocação. Depois mostre:\n",
        "\n",
        "a) Os 5 primeiros times.\n",
        "\n",
        "b) Os últimos 4 colocados.\n",
        "\n",
        "c) Times em ordem alfabética.\n",
        "\n",
        "d) Em que posição está o time da Chapecoense. "
      ]
    },
    {
      "cell_type": "code",
      "metadata": {
        "colab": {
          "base_uri": "https://localhost:8080/"
        },
        "id": "Y69Rkw-A7oZm",
        "outputId": "88661061-cc98-4cd4-844a-df82a378f597"
      },
      "source": [
        "times = ('Atletico-MG', 'Flamengo', 'Palmeiras', 'Fortalaza', 'Corintians', 'Bragantino', 'Atletico-PR', 'Internacional', 'Fluminence', 'America-MG',\n",
        "         'Atletico-GO', 'Cuiabá', 'Ceará SC', 'São Paulo', 'Juventude', 'Santos', 'Gremio', 'Bahia', 'Sport', 'Chapecoense')\n",
        "\n",
        "print(f'Os cinco primeiros times são {times[0:5]}.')\n",
        "print(f'Os últimos 4 colocados são os times {times[16:]}.')\n",
        "print(f'Em ordem alfabetica {sorted(times)}.')\n",
        "print(f'O chapecoense está na posição {(times.index(\"Chapecoense\") + 1)}.') #  usa aspas duplas no f-strings\n",
        "print('O chapecoense está na posição {}.'.format((times.index('Chapecoense')+ 1)))"
      ],
      "execution_count": null,
      "outputs": [
        {
          "output_type": "stream",
          "name": "stdout",
          "text": [
            "Os cinco primeiros times são ('Atletico-MG', 'Flamengo', 'Palmeiras', 'Fortalaza', 'Corintians').\n",
            "Os últimos 4 colocados são os times ('Gremio', 'Bahia', 'Sport', 'Chapecoense').\n",
            "Em ordem alfabetica ['America-MG', 'Atletico-GO', 'Atletico-MG', 'Atletico-PR', 'Bahia', 'Bragantino', 'Ceará SC', 'Chapecoense', 'Corintians', 'Cuiabá', 'Flamengo', 'Fluminence', 'Fortalaza', 'Gremio', 'Internacional', 'Juventude', 'Palmeiras', 'Santos', 'Sport', 'São Paulo'].\n",
            "O chapecoense está na posição 20.\n",
            "O chapecoense está na posição 20.\n"
          ]
        }
      ]
    },
    {
      "cell_type": "markdown",
      "metadata": {
        "id": "mGco2eM1FP6V"
      },
      "source": [
        "Desafio 074: Crie um programa que vai gerar cinco números aleatórios e colocar em uma tupla. Depois disso, mostre a listagem de números gerados e também indique o menor e o maior valor que estão na tupla."
      ]
    },
    {
      "cell_type": "code",
      "metadata": {
        "colab": {
          "base_uri": "https://localhost:8080/"
        },
        "id": "GobMAnw7BuBb",
        "outputId": "426834bb-b054-415a-eb5a-987293360007"
      },
      "source": [
        "from random import randint\n",
        "\n",
        "numeros = (randint(1, 10), randint(1, 10), randint(1, 10), randint(1, 10), randint(1, 10))\n",
        "print(f'Os valores sorteados foram: {numeros}.')\n",
        "print(f'O maior valor sorteado foi {max(numeros)}.')\n",
        "print(f'O menor valor sorteado foi {min(numeros)}')\n"
      ],
      "execution_count": null,
      "outputs": [
        {
          "output_type": "stream",
          "name": "stdout",
          "text": [
            "Os valores sorteados foram: (2, 1, 5, 1, 10).\n",
            "O maior valor sorteado foi 10.\n",
            "O menor valor sorteado foi 1\n"
          ]
        }
      ]
    },
    {
      "cell_type": "markdown",
      "metadata": {
        "id": "cK3-8Z_XIaDW"
      },
      "source": [
        "Desafio 075: Desenvolva um programa que leia quatro valores pelo teclado e guarde-os em uma tupla. No final, mostre:\n",
        "\n",
        "A) Quantas vezes apareceu o valor 9.\n",
        "\n",
        "B) Em que posição foi digitado o primeiro valor 3.\n",
        "\n",
        "C) Quais foram os números pares."
      ]
    },
    {
      "cell_type": "code",
      "metadata": {
        "colab": {
          "base_uri": "https://localhost:8080/"
        },
        "id": "RjmUK8raHuV5",
        "outputId": "0359ec8f-b20f-458b-9f7b-c41c0d55ceb3"
      },
      "source": [
        "n = (int(input('Digite 1 valor:')), int(input('Digite 1 valor:')), int(input('Digite 1 valor:')), int(input('Digite 1 valor:')))\n",
        "print(f'Você digitou o valor 9, {n.count(9)} vezes.')\n",
        "if 3 in n:\n",
        "  print(f'O valor 3 foi digitado primeiramente na posição {n.index(3) + 1}.')\n",
        "else:\n",
        "  print('Nem um número três foi digitado.')\n",
        "print(f'Os números pares digitados foram:', end= '')\n",
        "for n1 in n:\n",
        "  if n1 % 2 == 0:\n",
        "    print(n1, end= ' ')\n"
      ],
      "execution_count": null,
      "outputs": [
        {
          "output_type": "stream",
          "name": "stdout",
          "text": [
            "Digite 1 valor:2\n",
            "Digite 1 valor:3\n",
            "Digite 1 valor:9\n",
            "Digite 1 valor:10\n",
            "Você digitou o valor 9, 1 vezes.\n",
            "O valor 3 foi digitado primeiramente na posição 2.\n",
            "Os números pares digitados foram:2 10 "
          ]
        }
      ]
    },
    {
      "cell_type": "markdown",
      "metadata": {
        "id": "Wf-YKyWKHUeq"
      },
      "source": [
        "Desafio 076: Crie um programa que tenha uma tupla única com nomes de produtos e seus respectivos preços, na sequência. No final, mostre uma listagem de preços, organizando os dados em forma tabular."
      ]
    },
    {
      "cell_type": "code",
      "metadata": {
        "colab": {
          "base_uri": "https://localhost:8080/"
        },
        "id": "ITkzO8ZgJNVS",
        "outputId": "c44cc361-cbe9-45f6-a111-654ae1699925"
      },
      "source": [
        "produto = ('lápis', 2.00, 'caneta', 2.00, 'lapiseira', 10.00, 'borracha', 5.00, 'caneta corretiva', 10.50, 'livro', 300.90, 'caderno', 25.99)\n",
        "\n",
        "print('=' * 100)\n",
        "print(f'{\"Listagem de preços\":^100}')\n",
        "print('=' * 100)\n",
        "\n",
        "for pos in range(0, len(produto)):\n",
        "  if pos % 2 == 0:\n",
        "    print(f'{produto[pos]:.<91}', end= '')\n",
        "  else:\n",
        "    print(f'R${produto[pos]:>7.2f}')\n",
        "print('=' * 100)\n"
      ],
      "execution_count": null,
      "outputs": [
        {
          "output_type": "stream",
          "name": "stdout",
          "text": [
            "====================================================================================================\n",
            "                                         Listagem de preços                                         \n",
            "====================================================================================================\n",
            "lápis......................................................................................R$   2.00\n",
            "caneta.....................................................................................R$   2.00\n",
            "lapiseira..................................................................................R$  10.00\n",
            "borracha...................................................................................R$   5.00\n",
            "caneta corretiva...........................................................................R$  10.50\n",
            "livro......................................................................................R$ 300.90\n",
            "caderno....................................................................................R$  25.99\n",
            "====================================================================================================\n"
          ]
        }
      ]
    },
    {
      "cell_type": "markdown",
      "metadata": {
        "id": "fX_Pvy5q_pN-"
      },
      "source": [
        "Desafio 077: Crie um programa que tenha uma tupla com várias palavras (não usar acentos). Depois disso, você deve mostrar, para cada palavra, quais são as suas vogais."
      ]
    },
    {
      "cell_type": "code",
      "metadata": {
        "colab": {
          "base_uri": "https://localhost:8080/"
        },
        "id": "OF9r0VEoI3Jc",
        "outputId": "5b4beeec-5819-443f-89b3-a758a298363f"
      },
      "source": [
        "palavras = ('abacaxi', 'banana', 'melancia', 'pera', 'kiwi', 'maracuja', 'laranja', 'toranja')\n",
        "\n",
        "for p in palavras:\n",
        "  print(f'\\nNa palavra {p.upper()} temos ', end= ' ')\n",
        "  for letra in p:\n",
        "    if letra.lower() in 'aeiou':\n",
        "      print(letra, end= ' ')\n"
      ],
      "execution_count": null,
      "outputs": [
        {
          "output_type": "stream",
          "name": "stdout",
          "text": [
            "\n",
            "Na palavra ABACAXI temos  a a a i \n",
            "Na palavra BANANA temos  a a a \n",
            "Na palavra MELANCIA temos  e a i a \n",
            "Na palavra PERA temos  e a \n",
            "Na palavra KIWI temos  i i \n",
            "Na palavra MARACUJA temos  a a u a \n",
            "Na palavra LARANJA temos  a a a \n",
            "Na palavra TORANJA temos  o a a "
          ]
        }
      ]
    },
    {
      "cell_type": "markdown",
      "metadata": {
        "id": "CjDPFJ9zEG9V"
      },
      "source": [
        "## Aula 17: Listas (Parte 1)"
      ]
    },
    {
      "cell_type": "code",
      "metadata": {
        "id": "KVmwESLnDqtE",
        "colab": {
          "base_uri": "https://localhost:8080/"
        },
        "outputId": "a827f97b-ee73-42b7-8e5a-0757b05572f7"
      },
      "source": [
        "num = [2, 5, 9, 1, 4, 9, 2, 7]\n",
        "num.append(7)\n",
        "num.sort(reverse = True)\n",
        "num.insert(2, 2)\n",
        "num.remove(2)\n",
        "if 4 in num:\n",
        "  num.remove(4)\n",
        "else:\n",
        "  print('Não achei o número 4')\n",
        "num.pop()  # elimina o elemento 1\n",
        "num.pop(2)\n",
        "print(num)\n",
        "print(f'Essa lista tem {len(num)} elementos.')\n",
        "\n",
        "valores = []  # ou  = list()\n",
        "valores.append(5)\n",
        "valores.append(9)\n",
        "valores.append(4)\n",
        "for cont in range(0, 5):\n",
        "  valores.append(int(input('Digite um valor: ')))\n",
        "for v in valores:\n",
        "  print(f'{v}...', end='')\n",
        "\n",
        "for c, v in enumerate(valores):\n",
        "  print(f'\\nNa posição {c} encontrei o valor {v}!')\n",
        "print('Cheguei ao final da lista.')\n",
        "\n",
        "a = [2, 3, 4, 7]\n",
        "b = a\n",
        "b[2] = 8 #aqui ele vai mexer nas duas listas pois a = b\n",
        "print(f'Lista B: {b}')\n",
        "b = a[:] # cria uma cópia da lista a assim as mudanças em b não serão as mesmas que em a\n",
        "b[2] = 9 \n",
        "print(f'Lista A: {a}')\n",
        "print(f'Lista B: {b}')"
      ],
      "execution_count": null,
      "outputs": [
        {
          "output_type": "stream",
          "name": "stdout",
          "text": [
            "[9, 9, 7, 5, 2, 2]\n",
            "Essa lista tem 6 elementos.\n",
            "Digite um valor: 3\n",
            "Digite um valor: 4\n",
            "Digite um valor: 5\n",
            "Digite um valor: 1\n",
            "Digite um valor: 5\n",
            "5...9...4...3...4...5...1...5...\n",
            "Na posição 0 encontrei o valor 5!\n",
            "\n",
            "Na posição 1 encontrei o valor 9!\n",
            "\n",
            "Na posição 2 encontrei o valor 4!\n",
            "\n",
            "Na posição 3 encontrei o valor 3!\n",
            "\n",
            "Na posição 4 encontrei o valor 4!\n",
            "\n",
            "Na posição 5 encontrei o valor 5!\n",
            "\n",
            "Na posição 6 encontrei o valor 1!\n",
            "\n",
            "Na posição 7 encontrei o valor 5!\n",
            "Cheguei ao final da lista.\n",
            "Lista B: [2, 3, 8, 7]\n",
            "Lista A: [2, 3, 8, 7]\n",
            "Lista B: [2, 3, 9, 7]\n"
          ]
        }
      ]
    },
    {
      "cell_type": "markdown",
      "metadata": {
        "id": "MSE6VoMeJKc8"
      },
      "source": [
        "Desafio 078: Faça um programa que leia 5 valores numéricos e guarde-os em uma lista. No final, mostre qual foi o maior e o menor valor digitado e as suas respectivas posições na lista."
      ]
    },
    {
      "cell_type": "code",
      "metadata": {
        "id": "FLzjWHYcFLfi",
        "colab": {
          "base_uri": "https://localhost:8080/"
        },
        "outputId": "2cf096fc-8e71-46a1-a00d-7c9a33e325dc"
      },
      "source": [
        "print(f'{\" Solução João \":=^100}')\n",
        "\n",
        "x = []\n",
        "\n",
        "for i in range(0, 5):\n",
        "  x.append(int(input(f'Digite o {i}° valor numerico da lista:')))\n",
        "\n",
        "print('Na posição', end = ' ') \n",
        "for c, v in enumerate(x):\n",
        "  if v == max(x): \n",
        "    print(f'{c}', end=', ') \n",
        "print(f'encontrei o valor {max(x)} que é o valor máximo.\\n')\n",
        "print(f'E na posição', end=' ') \n",
        "for c, v in enumerate(x):\n",
        "  if v == min(x):\n",
        "    print(f'{c}', end=', ')\n",
        "print(f'encontrei o valor {min(x)} que é o valor minimo.')\n",
        "\n",
        "\n",
        "\n"
      ],
      "execution_count": null,
      "outputs": [
        {
          "output_type": "stream",
          "name": "stdout",
          "text": [
            "============================================Solução João============================================\n",
            "Digite o 0° valor numerico da lista:90\n",
            "Digite o 1° valor numerico da lista:34\n",
            "Digite o 2° valor numerico da lista:90\n",
            "Digite o 3° valor numerico da lista:2\n",
            "Digite o 4° valor numerico da lista:2\n",
            "Na posição 0, 2, encontrei o valor 90 que é o valor máximo.\n",
            "\n",
            "E na posição 3, 4, encontrei o valor 2 que é o valor minimo.\n"
          ]
        }
      ]
    },
    {
      "cell_type": "markdown",
      "metadata": {
        "id": "SQK2ZiVmOtO7"
      },
      "source": [
        "Desafio 079: Crie um programa onde o usuário possa digitar vários valores numéricos e cadastre-os em uma lista. Caso o número já exista lá dentro, ele não será adicionado. No final, serão exibidos todos os valores únicos digitados, em ordem crescente."
      ]
    },
    {
      "cell_type": "code",
      "metadata": {
        "id": "GDSQUPS_ILn7",
        "colab": {
          "base_uri": "https://localhost:8080/"
        },
        "outputId": "966c74ee-ce2c-460e-ecb6-73894a66550d"
      },
      "source": [
        "x = []\n",
        "continuar = 'S'\n",
        "while continuar in 'S':\n",
        "  novo = int(input('Digite seu número: '))\n",
        "  if novo in x:\n",
        "    print('Número já contido na lista. Portanto não gravado na lista.\\n')\n",
        "  else:\n",
        "    print('Seu número foi gravado com sucesso!\\n') \n",
        "    x.append(novo)\n",
        "  continuar = str(input('Deseja continuar [S / N]: ')).strip().upper()[0]\n",
        "x.sort()\n",
        "print(f'A lista digitada foi {x}')\n"
      ],
      "execution_count": null,
      "outputs": [
        {
          "output_type": "stream",
          "name": "stdout",
          "text": [
            "Digite seu número: 9\n",
            "Seu número foi gravado com sucesso!\n",
            "\n",
            "Deseja continuar [S / N]: sim\n",
            "Digite seu número: 10\n",
            "Seu número foi gravado com sucesso!\n",
            "\n",
            "Deseja continuar [S / N]: não\n",
            "A lista digitada foi None\n"
          ]
        }
      ]
    },
    {
      "cell_type": "markdown",
      "metadata": {
        "id": "4b10sUT8lcYp"
      },
      "source": [
        "Desafio 80: Crie um programa onde o usuário possa digitar cinco valores numéricos e cadastre-os em uma lista, já na posição correta de inserção (sem usar o sort()). No final, mostre a lista ordenada na tela."
      ]
    },
    {
      "cell_type": "code",
      "metadata": {
        "id": "TaixJ3g4fZih",
        "colab": {
          "base_uri": "https://localhost:8080/"
        },
        "outputId": "7c8fd2c4-826e-429c-cdd4-c68ccb043533"
      },
      "source": [
        "lista = []\n",
        "for c in range(0, 5):\n",
        "  n = int(input('Digite um número:'))\n",
        "  if c == 0 or n > lista[-1]:\n",
        "    lista.append(n)\n",
        "#  elif n > lista[len(lista)-1]:\n",
        "#    lista.append(n)\n",
        "  else:\n",
        "    pos = 0\n",
        "    while pos < len(lista):\n",
        "      if n <= lista[pos]:\n",
        "        lista.insert(pos, n)\n",
        "        break\n",
        "      pos += 1\n",
        "\n",
        "print('-='*30)\n",
        "print(f'Os valores digitados em ordem são: {lista}')\n",
        "\n"
      ],
      "execution_count": null,
      "outputs": [
        {
          "output_type": "stream",
          "name": "stdout",
          "text": [
            "Digite um número:9\n",
            "Digite um número:9\n",
            "Digite um número:1\n",
            "Digite um número:4\n",
            "Digite um número:6\n",
            "-=-=-=-=-=-=-=-=-=-=-=-=-=-=-=-=-=-=-=-=-=-=-=-=-=-=-=-=-=-=\n",
            "Os valores digitados em ordem são: [1, 4, 6, 9, 9]\n"
          ]
        }
      ]
    },
    {
      "cell_type": "markdown",
      "metadata": {
        "id": "WERzpwuFdxKY"
      },
      "source": [
        "Desafio 81: Crie um programa que vai ler vários números e colocar em uma lista.                  \n",
        "\n",
        "Depois disso mostre:\n",
        "\n",
        "A) Quantos números foram digitados.\n",
        "\n",
        "B) A lista de valores, ordenada de forma decrescente.\n",
        "\n",
        "C) Se o valor 5 foi digitado e está ou não na lista."
      ]
    },
    {
      "cell_type": "code",
      "metadata": {
        "colab": {
          "base_uri": "https://localhost:8080/"
        },
        "id": "g9FRs0YpdDi9",
        "outputId": "8779ba2a-3c1c-48e8-8740-8417b93f4b61"
      },
      "source": [
        "lista = []\n",
        "c = 0\n",
        "\n",
        "while True:\n",
        "  c += 1\n",
        "  lista.append(int(input(f'{c}° número: ')))\n",
        "  d = str(input('Quer colocar mais um número?\\nSim ou Não?\\n')).strip().upper()[0]\n",
        "  if d in 'Nn':\n",
        "    break\n",
        "\n",
        "#c = 0\n",
        "#d = 'S'\n",
        "#while d in 'S':\n",
        "#  c += 1\n",
        "#  lista.append(int(input(f'{c}° número: ')))\n",
        "#  d = str(input('Quer colocar mais um número?\\nSim ou Não?\\n')).strip().upper()[0]\n",
        "\n",
        "#n = int(input('Digite quantos números você quer inserir na lista: '))\n",
        "#for c in range(n):\n",
        "#  lista.append(int(input(f'{c}° número: ')))\n",
        "\n",
        "print(f'Foram digitados {len(lista)} números')\n",
        "lista.sort(reverse = True)\n",
        "print(f'A lista ordenada de forma decrescente é {lista}')\n",
        "if 5 in lista:\n",
        "  print('O valor 5 foi digitado e está na lista.')\n",
        "else:\n",
        "  print('O valor 5 não foi digitado por isso não está na lista.')\n"
      ],
      "execution_count": null,
      "outputs": [
        {
          "output_type": "stream",
          "name": "stdout",
          "text": [
            "1° número: 6\n",
            "Quer colocar mais um número?\n",
            "Sim ou Não?\n",
            "s\n",
            "2° número: 5\n",
            "Quer colocar mais um número?\n",
            "Sim ou Não?\n",
            "s\n",
            "3° número: 8\n",
            "Quer colocar mais um número?\n",
            "Sim ou Não?\n",
            "n\n",
            "Foram digitados 3 números\n",
            "A lista ordenada de forma decrescente é [8, 6, 5]\n",
            "O valor 5 foi digitado e está na lista.\n"
          ]
        }
      ]
    },
    {
      "cell_type": "markdown",
      "metadata": {
        "id": "GS02-n3Nv_vj"
      },
      "source": [
        "Desafio 82:  Crie um programa que vai ler vários números e colocar em uma lista. Depois disso, crie duas listas extras que vão conter apenas os valores pares e os valores ímpares digitados, respectivamente. Ao final, mostre o conteúdo das três listas geradas."
      ]
    },
    {
      "cell_type": "code",
      "metadata": {
        "colab": {
          "base_uri": "https://localhost:8080/"
        },
        "id": "NjRbJmoEsDdW",
        "outputId": "e1ec50d8-0bd6-4785-b1c3-9835355076bd"
      },
      "source": [
        "lista = []\n",
        "listapar = []\n",
        "listaimpar = []\n",
        "while True:\n",
        "  n = int(input('número: '))\n",
        "  lista.append(n)\n",
        "  if n % 2 == 0:\n",
        "    listapar.append(n)\n",
        "  else:\n",
        "    listaimpar.append(n)\n",
        "  d = str(input('Quer colocar mais um número?[S/N]')).strip().upper()[0]\n",
        "  if d in 'Nn':\n",
        "    break\n",
        "\n",
        "print(f'Lista completa: {lista}')\n",
        "print(f'Lista par: {listapar}')\n",
        "print(f'Lista impar: {listaimpar}')"
      ],
      "execution_count": null,
      "outputs": [
        {
          "output_type": "stream",
          "name": "stdout",
          "text": [
            "número: 4\n",
            "Quer colocar mais um número?[S/N]s\n",
            "número: 3\n",
            "Quer colocar mais um número?[S/N]s\n",
            "número: 12\n",
            "Quer colocar mais um número?[S/N]n\n",
            "Lista completa: [4, 3, 12]\n",
            "Lista par: [4, 12]\n",
            "Lista impar: [3]\n"
          ]
        }
      ]
    },
    {
      "cell_type": "markdown",
      "metadata": {
        "id": "PejuLCfDGIyt"
      },
      "source": [
        "Desafio 83: Crie um programa onde o usuário digite uma expressão qualquer que use parênteses. Seu aplicativo deverá analisar se a expressão passada está com os parênteses abertos e fechados na ordem correta."
      ]
    },
    {
      "cell_type": "code",
      "metadata": {
        "colab": {
          "base_uri": "https://localhost:8080/"
        },
        "id": "cOD3tGl1GRGh",
        "outputId": "c537c989-afe3-4070-e28c-fd5783862874"
      },
      "source": [
        "expre = str(input('Digite a expressão: '))\n",
        "pilha = []\n",
        "for simb in expre:\n",
        "  if simb == '(':\n",
        "    pilha.append('(')\n",
        "  elif simb == ')':\n",
        "    if len(pilha) > 0:\n",
        "      pilha.pop()\n",
        "    else:\n",
        "      pilha.append(')')\n",
        "      break\n",
        "if pilha == 0:\n",
        "  print('Expressão válida!')\n",
        "else:\n",
        "  print('Expressão não válida!')"
      ],
      "execution_count": null,
      "outputs": [
        {
          "output_type": "stream",
          "name": "stdout",
          "text": [
            "Digite a expressão: (((((a+b))))\n",
            "Expressão não válida!\n"
          ]
        }
      ]
    },
    {
      "cell_type": "markdown",
      "metadata": {
        "id": "1Bd01cjAP7JM"
      },
      "source": [
        "## Aula 18: Listas (Parte 2)"
      ]
    },
    {
      "cell_type": "code",
      "metadata": {
        "id": "9XinoOh7P99d",
        "colab": {
          "base_uri": "https://localhost:8080/"
        },
        "outputId": "347bc682-407b-4571-841e-f4490fbd7e9e"
      },
      "source": [
        "dados = list()\n",
        "dados.append('Pedro')\n",
        "dados.append(25)\n",
        "print(dados[0])\n",
        "print(dados[1])\n",
        "\n",
        "pessoas = list()\n",
        "pessoas.append(dados[:])\n",
        "\n",
        "pessoas1 = [['Pedro', 25], ['Maria', 19], ['João', 32]]\n",
        "print(pessoas1[0][0])\n",
        "print(pessoas1[1][1])\n",
        "print(pessoas1[2][0])\n",
        "print(pessoas1[0])\n",
        "for p in pessoas1:\n",
        "  print(f'{p[0]} tem {p[1]} anos de idade.')\n",
        "\n",
        "teste = list()\n",
        "teste.append('Gustavo')\n",
        "teste.append(40)\n",
        "galera = list()\n",
        "galera.append(teste[:])\n",
        "teste[0] = 'Maria'\n",
        "teste[1] = 22\n",
        "galera.append(teste[:])\n",
        "print(galera)\n",
        "\n",
        "galera1 = list()\n",
        "dado = list()\n",
        "totmai = totmen = 0\n",
        "for c in range(0, 3):\n",
        "  dado.append(str(input('Nome: ')))\n",
        "  dado.append(int(input('Idade: ')))\n",
        "  galera1.append(dado[:])\n",
        "  dado.clear()\n",
        "print(galera1)\n",
        "for p in galera1:\n",
        "  if p[1] >= 21:\n",
        "    print(f'{p[0]} é maior de idade.')\n",
        "    totmai += 1\n",
        "  else:\n",
        "    print(f'{p[0]} é menor de idade.')\n",
        "    totmen += 1\n",
        "print(f'Temos {totmai} maiores e {totmen} menores de idade.')\n"
      ],
      "execution_count": null,
      "outputs": [
        {
          "output_type": "stream",
          "name": "stdout",
          "text": [
            "Pedro\n",
            "25\n",
            "Pedro\n",
            "19\n",
            "João\n",
            "['Pedro', 25]\n",
            "Pedro tem 25 anos de idade.\n",
            "Maria tem 19 anos de idade.\n",
            "João tem 32 anos de idade.\n",
            "[['Gustavo', 40], ['Maria', 22]]\n",
            "Nome: cleiton\n",
            "Idade: 23\n",
            "Nome: eliane\n",
            "Idade: 11\n",
            "Nome: Caio\n",
            "Idade: 35\n",
            "[['cleiton', 23], ['eliane', 11], ['Caio', 35]]\n",
            "cleiton é maior de idade.\n",
            "eliane é menor de idade.\n",
            "Caio é maior de idade.\n",
            "Temos 2 maiores e 1 menores de idade.\n"
          ]
        }
      ]
    },
    {
      "cell_type": "markdown",
      "source": [
        "Desafio 84: Faça um programa que leia nome e peso de várias pessoas, guardando tudo em uma lista. No final, mostre:\n",
        "\n",
        "A) Quantas pessoas foram cadastradas.\n",
        "\n",
        "B) Uma listagem com as pessoas mais pesadas.\n",
        "\n",
        "C) Uma listagem com as pessoas mais leves.\n"
      ],
      "metadata": {
        "id": "2i40j2ngPtQO"
      }
    },
    {
      "cell_type": "code",
      "source": [
        "gordos = []\n",
        "dado = []\n",
        "cont = mai = men = 0\n",
        "while True:\n",
        "  dado.append(str(input('Nome: ')))\n",
        "  dado.append(float(input('Peso: ')))\n",
        "  if len(gordos) == 0:\n",
        "    mai = men = dado[1]\n",
        "  else:\n",
        "    if dado[1] > mai:\n",
        "      mai = dado[1]\n",
        "    if dado[1] < men:\n",
        "      men = dado[1]\n",
        "  gordos.append(dado[:])\n",
        "  dado.clear()\n",
        "  cont += 1\n",
        "  d = str(input('Quer colocar mais uma pessoa?[S/N]')).strip().upper()[0]\n",
        "  if d in 'Nn':\n",
        "    break\n",
        "print('='*100)\n",
        "print(f'A) Temos {cont} pessoas listadas.')\n",
        "#print(f'A) Temos {len(gordos)} pessoas listadas.')\n",
        "print(f'B) O maior peso foi de {mai}kg. Peso de ', end='')\n",
        "for p in gordos:\n",
        "  if p[1] == mai:\n",
        "    print(f'{p[0]}', end=',')\n",
        "print()\n",
        "print(f'C) O menor peso peso foi de {men}kg. Peso de ', end='')\n",
        "for p in gordos:\n",
        "  if p[1] == men:\n",
        "    print(f'{p[0]}', end='')\n",
        "#if p in gordos:\n"
      ],
      "metadata": {
        "colab": {
          "base_uri": "https://localhost:8080/"
        },
        "id": "Jekx-8XDMBMW",
        "outputId": "d8c3ec22-a5a4-4554-b05c-2d3ca18f521a"
      },
      "execution_count": null,
      "outputs": [
        {
          "output_type": "stream",
          "name": "stdout",
          "text": [
            "Nome: jo\n",
            "Peso: 94\n",
            "Quer colocar mais uma pessoa?[S/N]s\n",
            "Nome: ana\n",
            "Peso: 110\n",
            "Quer colocar mais uma pessoa?[S/N]s\n",
            "Nome: nair\n",
            "Peso: 50\n",
            "Quer colocar mais uma pessoa?[S/N]n\n",
            "====================================================================================================\n",
            "A) Temos 3 pessoas listadas.\n",
            "B) O maior peso foi de 110.0kg. Peso de ana,\n",
            "C) O menor peso peso foi de 50.0kg. Peso de nair"
          ]
        }
      ]
    },
    {
      "cell_type": "markdown",
      "source": [
        "Desafio 85: Crie um programa onde o usuário possa digitar sete valores numéricos e cadastre-os em uma lista única que mantenha separados os valores pares e ímpares. No final, mostre os valores pares e ímpares em ordem crescente."
      ],
      "metadata": {
        "id": "QNRJWLxBA1BY"
      }
    },
    {
      "cell_type": "code",
      "source": [
        "lista = []\n",
        "num = [[], []]\n",
        "#listapar = []\n",
        "#listaimpar = []\n",
        "for c in range(0, 7):\n",
        "  n = int(input(f'Digite o {c + 1}º número:'))\n",
        "  if n % 2 == 0:\n",
        "    num[0].append(n)\n",
        "    #listapar.append(n)\n",
        "  else:\n",
        "    num[1].append(n)\n",
        "    #listaimpar.append(n)\n",
        "num[0].sort()\n",
        "#listapar.sort()\n",
        "print(f'Os valores pares são {num[0]}')  \n",
        "#print(f'Os valores pares são {listapar}')\n",
        "num[1].sort()   \n",
        "#listaimpar.sort()\n",
        "print(f'Os valores impares são {num[1]}')  \n",
        "#print(f'Os valores impares são {listaimpar}')\n",
        "\n",
        "\n",
        "\n"
      ],
      "metadata": {
        "id": "ORlMzaPUWQ8L",
        "colab": {
          "base_uri": "https://localhost:8080/"
        },
        "outputId": "0c904b8d-687c-443b-e43f-3d1a3cf1e429"
      },
      "execution_count": null,
      "outputs": [
        {
          "output_type": "stream",
          "name": "stdout",
          "text": [
            "Digite o 1º número:7\n",
            "Digite o 2º número:6\n",
            "Digite o 3º número:5\n",
            "Digite o 4º número:4\n",
            "Digite o 5º número:3\n",
            "Digite o 6º número:2\n",
            "Digite o 7º número:1\n",
            "Os valores pares são [2, 4, 6]\n",
            "Os valores impares são [1, 3, 5, 7]\n"
          ]
        }
      ]
    },
    {
      "cell_type": "markdown",
      "source": [
        "Desafio 86: Crie um programa que declare uma matriz de dimensão 3×3 e preencha com valores lidos pelo teclado. No final, mostre a matriz na tela, com a formatação correta.\n",
        "\n"
      ],
      "metadata": {
        "id": "lFBwCGtUF1qi"
      }
    },
    {
      "cell_type": "code",
      "source": [
        "matriz = [[0, 0, 0], [0, 0, 0], [0, 0, 0]]\n",
        "for l in range(0, 3):\n",
        "  for c in range(0, 3):\n",
        "    matriz[l][c] = int(input(f'Digite um valor para [{l}, {c}]: '))\n",
        "#print(matriz)\n",
        "print(f'{\" Sua matriz \":=^50}')\n",
        "for l in range(0, 3):\n",
        "  for c in range(0, 3):\n",
        "    print(f'[{matriz[l][c]:^5}]', end='')\n",
        "  print()"
      ],
      "metadata": {
        "colab": {
          "base_uri": "https://localhost:8080/"
        },
        "id": "Zd5wC0CiHfxd",
        "outputId": "56381ac9-7b67-4e52-c1e7-7919c567dd4e"
      },
      "execution_count": null,
      "outputs": [
        {
          "output_type": "stream",
          "name": "stdout",
          "text": [
            "Digite um valor para [0, 0]: 1\n",
            "Digite um valor para [0, 1]: 2\n",
            "Digite um valor para [0, 2]: 3\n",
            "Digite um valor para [1, 0]: 4\n",
            "Digite um valor para [1, 1]: 5\n",
            "Digite um valor para [1, 2]: 6\n",
            "Digite um valor para [2, 0]: 7\n",
            "Digite um valor para [2, 1]: 8\n",
            "Digite um valor para [2, 2]: 9\n",
            "=================== Sua matriz ===================\n",
            "[  1  ][  2  ][  3  ]\n",
            "[  4  ][  5  ][  6  ]\n",
            "[  7  ][  8  ][  9  ]\n"
          ]
        }
      ]
    },
    {
      "cell_type": "markdown",
      "source": [
        "Desafio 87: Aprimore o desafio anterior, mostrando no final:\n",
        "\n",
        "A) A soma de todos os valores pares digitados.\n",
        "\n",
        "B) A soma dos valores da terceira coluna.\n",
        "\n",
        "C) O maior valor da segunda linha."
      ],
      "metadata": {
        "id": "WpEVcEw2Uedd"
      }
    },
    {
      "cell_type": "code",
      "source": [],
      "metadata": {
        "id": "EQrEwCkVTMEu"
      },
      "execution_count": null,
      "outputs": []
    }
  ]
}