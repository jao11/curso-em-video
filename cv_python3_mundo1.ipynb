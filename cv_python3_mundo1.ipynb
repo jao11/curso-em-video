{
  "nbformat": 4,
  "nbformat_minor": 0,
  "metadata": {
    "colab": {
      "name": "cv_python3_mundo1.ipynb",
      "provenance": [],
      "authorship_tag": "ABX9TyMx3EPzwDW639IJyH+srMpi",
      "include_colab_link": true
    },
    "kernelspec": {
      "name": "python3",
      "display_name": "Python 3"
    },
    "language_info": {
      "name": "python"
    }
  },
  "cells": [
    {
      "cell_type": "markdown",
      "metadata": {
        "id": "view-in-github",
        "colab_type": "text"
      },
      "source": [
        "<a href=\"https://colab.research.google.com/github/jao11/curso-em-video/blob/master/cv_python3_mundo1.ipynb\" target=\"_parent\"><img src=\"https://colab.research.google.com/assets/colab-badge.svg\" alt=\"Open In Colab\"/></a>"
      ]
    },
    {
      "cell_type": "markdown",
      "metadata": {
        "id": "Rx9wDrAdB1cY"
      },
      "source": [
        "Curso em Video: Python 3"
      ]
    },
    {
      "cell_type": "markdown",
      "metadata": {
        "id": "HY95lNPgCPMA"
      },
      "source": [
        "Mundo 1"
      ]
    },
    {
      "cell_type": "markdown",
      "metadata": {
        "id": "XSMM7t1rCSyc"
      },
      "source": [
        "## Aula 1 até 5"
      ]
    },
    {
      "cell_type": "markdown",
      "metadata": {
        "id": "24Hz5dXlDYtK"
      },
      "source": [
        "Desafio 01: Crie um programa que escreva \"Olá, mundo!!\" na tela."
      ]
    },
    {
      "cell_type": "code",
      "metadata": {
        "colab": {
          "base_uri": "https://localhost:8080/"
        },
        "id": "Hhobe7jJCWzH",
        "outputId": "11b6c9fe-ee32-445d-da03-cf1c33304718"
      },
      "source": [
        "print('\\033[4;30;47mOlá, mundo!!\\033[m')"
      ],
      "execution_count": null,
      "outputs": [
        {
          "output_type": "stream",
          "text": [
            "\u001b[4;30;47mOlá, mundo!!\u001b[m\n"
          ],
          "name": "stdout"
        }
      ]
    },
    {
      "cell_type": "markdown",
      "metadata": {
        "id": "KwtwZ0luF3A2"
      },
      "source": [
        "Desafio 02: Faça um programa que leia o nome de uma pessoa e mostre uma mensagem de boas-vindas. "
      ]
    },
    {
      "cell_type": "code",
      "metadata": {
        "colab": {
          "base_uri": "https://localhost:8080/"
        },
        "id": "GoxH7NjyFqrP",
        "outputId": "fcaf4195-6ae7-43fd-c0fc-fe75571d28ac"
      },
      "source": [
        "cores = {'limpa': '\\033[m', 'azul': '\\033[34m', 'vermelho': '\\033[31m'}\n",
        "nome = input('{}Qual o seu nome?-{}'.format(cores['vermelho'], cores['limpa']))\n",
        "print('{}Seja bem vindo {}.{}'.format(cores['azul'], nome, cores['limpa']))\n",
        "print('{}É um prazer te conhecer {}!{}'.format(cores['azul'], nome, cores['limpa']))"
      ],
      "execution_count": null,
      "outputs": [
        {
          "output_type": "stream",
          "text": [
            "\u001b[31mQual o seu nome?-\u001b[mjoao\n",
            "\u001b[34mSeja bem vindo joao.\u001b[m\n",
            "\u001b[34mÉ um prazer te conhecer joao!\u001b[m\n"
          ],
          "name": "stdout"
        }
      ]
    },
    {
      "cell_type": "markdown",
      "metadata": {
        "id": "MOpXYCaTLQU1"
      },
      "source": [
        "## Aula 6: Tipos primitivos e saída de dados"
      ]
    },
    {
      "cell_type": "code",
      "metadata": {
        "colab": {
          "base_uri": "https://localhost:8080/"
        },
        "id": "HMstVZEtMsbA",
        "outputId": "fa3b4863-8d3d-45ea-84aa-44b66fc48b77"
      },
      "source": [
        "# n1=input('digite um número')\n",
        "# n2=input('digite mais um número')\n",
        "# s=n1+n2\n",
        "# print('A soma vale',s)\n",
        "# Infelizmente o algoritmo não vai funcionar se for escrito dessa forma.\n",
        "# Para dar certo temos que escrever assim...\n",
        "n1 = int(input('digite um número'))\n",
        "n2 = int(input('digite mais um número'))\n",
        "s = n1 + n2\n",
        "print('A soma vale', s)\n",
        "# print('A soma entre', n1,'e', n2, 'vale', s)\n",
        "# format serve para ordenar as variaveis\n",
        "print('A soma entre {0} e {1} vale {2}'.format(n1, n2, s))\n",
        "\n",
        "# Os tipos primitivos são:\n",
        "# int(inteiro)(7), float(real)(7.0), bool(lógicos)(true or false), str(caracter)('olá')\n",
        "print('A soma vale{}'.format(s))\n",
        "# pint(type(n1)) para ver a classe do n1 coloca-se type\n",
        "print(type(n1))\n",
        "print(type(s))\n",
        "\n",
        "n3 = bool(input('Digite um valor'))\n",
        "print(n3)\n",
        "# se tiver type bool e não tiver nada escrito no \"digite um valor\" vai aparecer como false\n",
        "# se tiver algo vai aparecer true\n",
        "\n",
        "n4 = input('Digite algo:')\n",
        "print(n4.isnumeric())\n",
        "# Esse comando serve para dizer se é falso ou verdadeiro, se é possivel converter em número\n",
        "print(n4.isalpha())  # ve se converte em alfabetico4\n",
        "# Os comandos is( alguma coisa servem para teste de true or false\n",
        "print(n4.isprintable())\n",
        "\n",
        "n5 = float(input('Digite um valor'))\n",
        "print(n5)"
      ],
      "execution_count": null,
      "outputs": [
        {
          "output_type": "stream",
          "text": [
            "digite um número5\n",
            "digite mais um número5\n",
            "A soma vale 10\n",
            "A soma entre 5 e 5 vale 10\n",
            "A soma vale10\n",
            "<class 'int'>\n",
            "<class 'int'>\n",
            "Digite um valor5\n",
            "True\n",
            "Digite algo:5\n",
            "True\n",
            "False\n",
            "True\n",
            "Digite um valor6\n",
            "6.0\n"
          ],
          "name": "stdout"
        }
      ]
    },
    {
      "cell_type": "markdown",
      "metadata": {
        "id": "duTX_0Q9KfG0"
      },
      "source": [
        "Desafio 03: Crie um programa que leia dois números e mostre a soma entre eles."
      ]
    },
    {
      "cell_type": "code",
      "metadata": {
        "colab": {
          "base_uri": "https://localhost:8080/"
        },
        "id": "46sYx1oeKNaG",
        "outputId": "03821921-36a2-408d-bf5e-a867abc813e8"
      },
      "source": [
        "c = {'limp': '\\033[m', 'az': '\\033[34m', 'verm': '\\033[31m',\n",
        "     'am': '\\033[33m', 'br': '\\033[30m', 'verd': '\\033[32m', 'rox': '\\033[35m', 'ciano': '\\033[36m', 'cinza': '\\033[37m'}\n",
        "print('{}Você poderia digitar dois números?{}'.format(c['verm'], c['limp']))\n",
        "n1 = int(input('{}Primeiro número:{}'.format(c['az'], c['limp'])))\n",
        "n2 = int(input('{}Segundo número:{}'.format(c['az'], c['limp'])))\n",
        "s = n1 + n2\n",
        "print('{0}A soma entre {1} e {2} será o número: {3}{4}'.format(c['rox'], n1, n2, s, c['limp']))\n"
      ],
      "execution_count": null,
      "outputs": [
        {
          "output_type": "stream",
          "text": [
            "\u001b[31mVocê poderia digitar dois números?\u001b[m\n",
            "\u001b[34mPrimeiro número:\u001b[m06\n",
            "\u001b[34mSegundo número:\u001b[m56\n",
            "\u001b[35mA soma entre 6 e 56 será o número: 62\u001b[m\n"
          ],
          "name": "stdout"
        }
      ]
    },
    {
      "cell_type": "markdown",
      "metadata": {
        "id": "rKXTvCJuRRH5"
      },
      "source": [
        "Desafio 04: Faça um programa que leia algo pelo teclado e mostre na tela o seu tipo primitivo e todas as informações possíveis sobre ele."
      ]
    },
    {
      "cell_type": "code",
      "metadata": {
        "colab": {
          "base_uri": "https://localhost:8080/"
        },
        "id": "N0SirMEWPC2x",
        "outputId": "ace4bc27-7d62-496a-b448-1a17d318e16b"
      },
      "source": [
        "c = {'limp': '\\033[m', 'az': '\\033[34m', 'verm': '\\033[31m',\n",
        "     'am': '\\033[33m', 'br': '\\033[30m', 'verd': '\\033[32m',\n",
        "     'rox': '\\033[35m', 'ciano': '\\033[36m', 'cinza': '\\033[37m'}\n",
        "print('{}Você poderia digitar alguma coisa?{}'.format(c['rox'], c['limp']))\n",
        "n = (input('-'))\n",
        "print('{}O caracter digitado por você é do tipo primitivo:{}{}'.format(\n",
        "    c['ciano'], type(n), c['limp']))\n",
        "print('{}Ele é uma letra:{}{}{}'.format(c['verm'], c['br'], n.isalpha(), c['limp']))\n",
        "print('{}Ele é um número:{}{}{}'.format(c['verm'], c['br'], n.isnumeric(), c['limp']))\n",
        "print('{}Ele é um número decimal:{}{}{}'.format(c['verm'], c['br'],\n",
        "                                                n.isdecimal(), c['limp']))\n",
        "print('{}Ele é um título:{}{}{}'.format(c['verm'], c['br'], n.istitle(), c['limp']))\n",
        "print('{}Ele é um espaço:{}{}{}'.format(c['verm'], c['br'], n.isspace(), c['limp']))\n",
        "print('{}Ele é um dígito:{}{}{}'.format(c['verm'], c['br'], n.isdigit(), c['limp']))\n",
        "print('{}Ele está em caixa baixa:{}{}{}'.format(c['verm'], c['br'], n.islower(),\n",
        "                                                c['limp']))\n",
        "print('{}Ele está em caixa alta:{}{}{}'.format(c['verm'], c['br'], n.isupper(),\n",
        "                                               c['limp']))\n",
        "print('{}Ele é um identificador:{}{}{}'.format(c['verm'], c['br'], n.isidentifier(),\n",
        "                                               c['limp']))\n",
        "print('{}Ele é um imprimível:{}{}{}'.format(c['verm'], c['br'], n.isprintable(),\n",
        "                                            c['limp']))\n",
        "print('{}Ele é um alfanumérico:{}{}{}'.format(c['verm'], c['br'], n.isalnum(),\n",
        "                                              c['limp']))\n",
        "print('{}Ele é uma sub classe:{}{}{}'.format(c['verm'], c['br'], n.__init_subclass__(),\n",
        "                                             c['limp']))\n"
      ],
      "execution_count": null,
      "outputs": [
        {
          "output_type": "stream",
          "text": [
            "\u001b[35mVocê poderia digitar alguma coisa?\u001b[m\n",
            "-gn\n",
            "\u001b[36mO caracter digitado por você é do tipo primitivo:<class 'str'>\u001b[m\n",
            "\u001b[31mEle é uma letra:\u001b[30mTrue\u001b[m\n",
            "\u001b[31mEle é um número:\u001b[30mFalse\u001b[m\n",
            "\u001b[31mEle é um número decimal:\u001b[30mFalse\u001b[m\n",
            "\u001b[31mEle é um título:\u001b[30mFalse\u001b[m\n",
            "\u001b[31mEle é um espaço:\u001b[30mFalse\u001b[m\n",
            "\u001b[31mEle é um dígito:\u001b[30mFalse\u001b[m\n",
            "\u001b[31mEle está em caixa baixa:\u001b[30mTrue\u001b[m\n",
            "\u001b[31mEle está em caixa alta:\u001b[30mFalse\u001b[m\n",
            "\u001b[31mEle é um identificador:\u001b[30mTrue\u001b[m\n",
            "\u001b[31mEle é um imprimível:\u001b[30mTrue\u001b[m\n",
            "\u001b[31mEle é um alfanumérico:\u001b[30mTrue\u001b[m\n",
            "\u001b[31mEle é uma sub classe:\u001b[30mNone\u001b[m\n"
          ],
          "name": "stdout"
        }
      ]
    },
    {
      "cell_type": "markdown",
      "metadata": {
        "id": "M2naKDXnSyTe"
      },
      "source": [
        "##Aula 7: Operadores aritmeticos"
      ]
    },
    {
      "cell_type": "code",
      "metadata": {
        "colab": {
          "base_uri": "https://localhost:8080/"
        },
        "id": "g_bpuq_6SYur",
        "outputId": "5b47afce-9329-434f-f58f-e11d148b3722"
      },
      "source": [
        "# Operadores Aritmeticos\n",
        "# + adição\n",
        "# - subtração\n",
        "# * multiplicação\n",
        "# / divisão\n",
        "# ** potência ( pow(3,2)=9 isso é a função interna de potência que é outra maneira de\n",
        "# resolver)\n",
        "# // divisão inteira\n",
        "# % modulo é o resto da divisão\n",
        "# 5 + 2 == 7\n",
        "# 5 - 2 == 3\n",
        "# 5 * 2 == 10\n",
        "# 5 / 2 == 2.5\n",
        "# 5 ** 2 == 25\n",
        "# 5 // 2 == 2\n",
        "# 5 % 2 == 1\n",
        "# Ordem de precedência ( diz qual informação vai ser lida primeiro)\n",
        "# 1º: ()\n",
        "# 2º: **\n",
        "# 3º: * / // %\n",
        "# 4º: + -\n",
        "# 5 + 3 * 2 == 11\n",
        "# 3 * 5 + 4 ** 2 == 31\n",
        "# 3 * (5 + 4) ** 2 == 243\n",
        "nome = input('Qual é o seu nome?')\n",
        "# repetição de caracter {:20}\n",
        "print('Prazer em te conhecer {:20}!'.format(nome))  # adiciona( escreve o nome em) 20 espaços\n",
        "print('Prazer em te conhecer {:<20}!'.format(nome))  # adiciona( escreve o nome em) 20 espaços a direita\n",
        "print('Prazer em te conhecer {:>20}!'.format(nome))  # adiciona( escreve o nome em)20 espaços a esquerda\n",
        "print('Prazer em te conhecer {:=<20}!'.format(nome))  # adiciona( escreve o nome em) 20  iguais a direita\n",
        "print('Prazer em te conhecer {:^20}!'.format(nome))  # adiciona( escreve o nome em) 20 espaços centralizando o nome\n",
        "\n",
        "n1 = int(input('Um valor'))\n",
        "n2 = int(input('Outro valor'))\n",
        "s = n1 + n2\n",
        "m = n1 * n2\n",
        "d = n1 / n2\n",
        "di = n1 // n2\n",
        "e = n1 ** n2\n",
        "print(' A soma é {}, o produto é {} e a divisão é {:.3f}. '.format(s, m, d), end='')\n",
        "print('A divisão inteira {} e potência {}.'.format(di, e))\n",
        "print(' A soma é {}\\n o produto é {}\\n a divisão é {:.3f} '.format(s, m, d))\n",
        "# Para controlar o número de decimais fazemos {:.3f} como colocamos o 3 temos três casas decimais\n",
        "# Para quebrar a linha na resposta colocamos \\n\n",
        "# Para não quebrar( escrever em baixo) a linha da resposta colocamos ,end=''\n",
        "# e só funciona para o print diretamente abaixo\n",
        "\n",
        "print('A soma vale {}.'.format(n1+n2))"
      ],
      "execution_count": null,
      "outputs": [
        {
          "output_type": "stream",
          "text": [
            "Qual é o seu nome?\n",
            "Prazer em te conhecer                     !\n",
            "Prazer em te conhecer                     !\n",
            "Prazer em te conhecer                     !\n",
            "Prazer em te conhecer ====================!\n",
            "Prazer em te conhecer                     !\n",
            "Um valor5\n",
            "Outro valor5\n",
            " A soma é 10, o produto é 25 e a divisão é 1.000. A divisão inteira 1 e potência 3125.\n",
            " A soma é 10\n",
            " o produto é 25\n",
            " a divisão é 1.000 \n",
            "A soma vale 10.\n"
          ],
          "name": "stdout"
        }
      ]
    },
    {
      "cell_type": "markdown",
      "metadata": {
        "id": "bLc7PN5iUjfQ"
      },
      "source": [
        "Desafio 05: Faça um programa que leia um número Inteiro e mostre na tela o seu sucessor e seu antecessor."
      ]
    },
    {
      "cell_type": "code",
      "metadata": {
        "colab": {
          "base_uri": "https://localhost:8080/"
        },
        "id": "6OVIr5R6UWNa",
        "outputId": "107bd6ae-ab4d-48d7-bfe5-ad5db85fa79c"
      },
      "source": [
        "n = int(input('{}Digite um valor.{}'.format(c['verd'], c['limp'])))\n",
        "n1 = n - 1 \n",
        "n2 = n + 1\n",
        "print('{}O antecessor e o sucessor do número que você digitou é respectivamente: {} e {}.{}'.format(c['ciano'], n1, n2, c['limp']))"
      ],
      "execution_count": null,
      "outputs": [
        {
          "output_type": "stream",
          "text": [
            "\u001b[32mDigite um valor.\u001b[m54\n",
            "\u001b[36mO antecessor e o sucessor do número que você digitou é respectivamente: 53 e 55.\u001b[m\n"
          ],
          "name": "stdout"
        }
      ]
    },
    {
      "cell_type": "markdown",
      "metadata": {
        "id": "h9wU4fTdYcvC"
      },
      "source": [
        "Desafio 06: Crie um algoritmo que leia um número e mostre o seu dobro, triplo e raiz quadrada."
      ]
    },
    {
      "cell_type": "code",
      "metadata": {
        "colab": {
          "base_uri": "https://localhost:8080/"
        },
        "id": "FVMyVNaVX252",
        "outputId": "fd66734a-76e4-4687-f65b-0101f6689415"
      },
      "source": [
        "n = float(input('{}Por favor, você poderia digitar um número?\\n{}'.format(c['ciano'], c['limp'])))\n",
        "d = n * 2\n",
        "t = n * 3\n",
        "rq = n ** (1 / 2)\n",
        "print('{}Você sabia que o dobro, o triplo e a raiz quadrada desse número são '\n",
        "      '\\nrespectivamente {:.2f}, {:.2f} e {:.3f}{}'.format(\n",
        "       c['az'], d, t, rq, c['limp']))"
      ],
      "execution_count": null,
      "outputs": [
        {
          "output_type": "stream",
          "text": [
            "\u001b[36mPor favor, você poderia digitar um número?\n",
            "\u001b[m54\n",
            "\u001b[34mVocê sabia que o dobro, o triplo e a raiz quadrada desse número são \n",
            "respectivamente 108.00, 162.00 e 7.348\u001b[m\n"
          ],
          "name": "stdout"
        }
      ]
    },
    {
      "cell_type": "markdown",
      "metadata": {
        "id": "XM1POGwQa3zA"
      },
      "source": [
        "Desafio 07:  Desenvolva um programa que leia as duas notas de um aluno, calcule e mostre a sua média."
      ]
    },
    {
      "cell_type": "code",
      "metadata": {
        "colab": {
          "base_uri": "https://localhost:8080/"
        },
        "id": "wJLVKAYQaZjy",
        "outputId": "a62b47be-05f2-4895-ae36-9b1e9a46d553"
      },
      "source": [
        "print('{}Entre com as notas!{}'.format(c['az'], c['limp']))\n",
        "n1 = float(input('{}Primeira nota:{}'.format(c['verm'], c['limp'])))\n",
        "n2 = float(input('{}Segunda nota:{}'.format(c['verm'], c['limp'])))\n",
        "m = (n1 + n2) / 2\n",
        "print('{}Sua média é {}.{}'.format(c['az'], m, c['limp']))"
      ],
      "execution_count": null,
      "outputs": [
        {
          "output_type": "stream",
          "text": [
            "\u001b[34mEntre com as notas!\u001b[m\n",
            "\u001b[31mPrimeira nota:\u001b[m05\n",
            "\u001b[31mSegunda nota:\u001b[m45\n",
            "\u001b[34mSua média é 25.0.\u001b[m\n"
          ],
          "name": "stdout"
        }
      ]
    },
    {
      "cell_type": "markdown",
      "metadata": {
        "id": "OFfopEy6OLtO"
      },
      "source": [
        "Desafio 08: Escreva um programa que leia um valor em metros e o exiba convertido em centímetros e milímetros."
      ]
    },
    {
      "cell_type": "code",
      "metadata": {
        "colab": {
          "base_uri": "https://localhost:8080/"
        },
        "id": "kNGqp_eINA8i",
        "outputId": "3bb857cc-18fe-46b1-9a8a-8a71c45d46c5"
      },
      "source": [
        "m = float(input('{}Entre com um valor em metros.{}\\n'.format(c['ciano'], c['limp'])))\n",
        "cm = m * (10 ** 2)\n",
        "mm = m * (10 ** 3)\n",
        "print('{}Esse valor em cm é {:.2f} e em mm é {:.2f}.{}'.format(c['ciano'], cm, mm, c['limp']))\n"
      ],
      "execution_count": null,
      "outputs": [
        {
          "output_type": "stream",
          "text": [
            "\u001b[36mEntre com um valor em metros.\u001b[m\n",
            "45\n",
            "\u001b[36mEsse valor em cm é 4500.00 e em mm é 45000.00.\u001b[m\n"
          ],
          "name": "stdout"
        }
      ]
    },
    {
      "cell_type": "markdown",
      "metadata": {
        "id": "9ZaT0HAvTcxl"
      },
      "source": [
        "Desafio 09: Faça um programa que leia um número Inteiro qualquer e mostre na tela a sua tabuada."
      ]
    },
    {
      "cell_type": "code",
      "metadata": {
        "colab": {
          "base_uri": "https://localhost:8080/"
        },
        "id": "FAWgvlKARpFE",
        "outputId": "d57086f3-2bf4-4a5f-9f8d-644e4a8ba2f2"
      },
      "source": [
        "n = int(input('{}Digite um número inteiro:'.format(c['am'])))\n",
        "print('A tabuada de {} é:\\n{} x 0 = {}\\n{} x 1 = {}\\n{} x 2 = {}\\n{} x 3 = {}\\n{} x 4 = {}\\n{} x 5 = {}\\n{} x 6 = {}'\n",
        "      '\\n{} x 7 = {}\\n{} x 8 = {}\\n{} x 9 = {}\\n{} x 10 = {}{}'.format(n, n, n*0, n, n*1, n, n*2, n, n*3, n, n*4, n, n*5, n, n*6, n, n*7, n, n*8, n, n*9, \n",
        "                                                                       n, n*10, c['limp']))\n"
      ],
      "execution_count": null,
      "outputs": [
        {
          "output_type": "stream",
          "text": [
            "\u001b[33mDigite um número inteiro:45\n",
            "A tabuada de 45 é:\n",
            "45 x 0 = 0\n",
            "45 x 1 = 45\n",
            "45 x 2 = 90\n",
            "45 x 3 = 135\n",
            "45 x 4 = 180\n",
            "45 x 5 = 225\n",
            "45 x 6 = 270\n",
            "45 x 7 = 315\n",
            "45 x 8 = 360\n",
            "45 x 9 = 405\n",
            "45 x 10 = 450\u001b[m\n"
          ],
          "name": "stdout"
        }
      ]
    },
    {
      "cell_type": "markdown",
      "metadata": {
        "id": "BlFcpjw5Xrkg"
      },
      "source": [
        "Desafio 10: Crie um programa que leia quanto dinheiro uma pessoa tem na carteira e mostre quantos dólares ela pode comprar."
      ]
    },
    {
      "cell_type": "code",
      "metadata": {
        "colab": {
          "base_uri": "https://localhost:8080/"
        },
        "id": "oQMQsy7mXXba",
        "outputId": "60b490a1-c735-41d1-fc7f-f0ff67980424"
      },
      "source": [
        "print('{}Por favor nos diga quanto você tem na carteira para que nós possamos converter'\n",
        "      ' o\\nseu dinheiro de reais para dolares:'.format(c['rox']))\n",
        "n = float(input('Digite aqui: R$'))\n",
        "d = n / 3.27\n",
        "print('Em dolares seu dinheiro tem o valor de US${:.2f}'.format(d))"
      ],
      "execution_count": null,
      "outputs": [
        {
          "output_type": "stream",
          "text": [
            "\u001b[35mPor favor nos diga quanto você tem na carteira para que nós possamos converter o\n",
            "seu dinheiro de reais para dolares:\n",
            "Digite aqui: R$5\n",
            "Em dolares seu dinheiro tem o valor de US$1.53\n"
          ],
          "name": "stdout"
        }
      ]
    },
    {
      "cell_type": "markdown",
      "metadata": {
        "id": "A5bGrqvhZTGu"
      },
      "source": [
        "Desafio 11: Faça um programa que leia a largura e a altura de uma parede em metros, calcule a sua área e a quantidade de tinta necessária para pintá-la, sabendo que cada litro de tinta pinta uma área de 2 metros quadrados."
      ]
    },
    {
      "cell_type": "code",
      "metadata": {
        "colab": {
          "base_uri": "https://localhost:8080/"
        },
        "id": "V1_rDl7gZNR6",
        "outputId": "5387134f-e5c7-44da-deec-8ce2fcf633f9"
      },
      "source": [
        "print('{}Para saber quanto de tinta você precisará comprar para pintar sua '\n",
        "      'parede, por \\n favor digite o altura e a largura dela:'.format(c['cinza']))\n",
        "h = float(input('altura:'))\n",
        "l = float(input('largura:'))\n",
        "a = (h * l)/2\n",
        "print('Você deve comprar {:.3f} litros de tinta!'.format(a))"
      ],
      "execution_count": null,
      "outputs": [
        {
          "output_type": "stream",
          "text": [
            "\u001b[37mPara saber quanto de tinta você precisará comprar para pintar sua parede, por \n",
            " favor digite o altura e a largura dela:\n",
            "altura:4\n",
            "largura:5\n",
            "Você deve comprar 10.000 litros de tinta!\n"
          ],
          "name": "stdout"
        }
      ]
    },
    {
      "cell_type": "markdown",
      "metadata": {
        "id": "QjpR4DblaW6e"
      },
      "source": [
        "Desafio 12: Faça um algoritmo que leia o preço de um produto e mostre seu novo preço, com 5% de desconto."
      ]
    },
    {
      "cell_type": "code",
      "metadata": {
        "colab": {
          "base_uri": "https://localhost:8080/"
        },
        "id": "4t7lQdUdZ8wn",
        "outputId": "ec65ca05-9e1f-425b-e9a5-90b6498d14ec"
      },
      "source": [
        "print('{}Para saber de qual será o novo preço, por favor digite o preço original '\n",
        "      'do produto.'.format(c['verd']))\n",
        "p = float(input('R$'))\n",
        "d = p * 95 / 100\n",
        "print('O preço com 5% de desconto é R${:.2f}!'.format(d))"
      ],
      "execution_count": null,
      "outputs": [
        {
          "output_type": "stream",
          "text": [
            "\u001b[32mPara saber de qual será o novo preço, por favor digite o preço original do produto.\n",
            "R$3\n",
            "O preço com 5% de desconto é R$2.85!\n"
          ],
          "name": "stdout"
        }
      ]
    },
    {
      "cell_type": "markdown",
      "metadata": {
        "id": "YBiV8iEBbQPo"
      },
      "source": [
        "Desafio 13: Faça um algoritmo que leia o salário de um funcionário e mostre seu novo salário, com 15% de aumento."
      ]
    },
    {
      "cell_type": "code",
      "metadata": {
        "colab": {
          "base_uri": "https://localhost:8080/"
        },
        "id": "Cz-32IdZa396",
        "outputId": "b3b8a390-baa7-4c44-90c1-3b5a773ac356"
      },
      "source": [
        "print('{}Você vai ter um aumento de 15% no seu salário, para saber o novo valor,\\n'\n",
        "      'por favor digite o valor atual do seu salário.'.format(c['rox']))\n",
        "s = float(input('R$'))\n",
        "a = s * 15 / 100 + s\n",
        "print('O seu novo salário será R${:.2f}'.format(a))"
      ],
      "execution_count": null,
      "outputs": [
        {
          "output_type": "stream",
          "text": [
            "\u001b[35mVocê vai ter um aumento de 15% no seu salário, para saber o novo valor,\n",
            "por favor digite o valor atual do seu salário.\n",
            "R$3\n",
            "O seu novo salário será R$3.45\n"
          ],
          "name": "stdout"
        }
      ]
    },
    {
      "cell_type": "markdown",
      "metadata": {
        "id": "UHqSyef2c2_q"
      },
      "source": [
        "Desafio 14:  Escreva um programa que converta uma temperatura digitando em graus Celsius e converta para graus Fahrenheit."
      ]
    },
    {
      "cell_type": "code",
      "metadata": {
        "colab": {
          "base_uri": "https://localhost:8080/"
        },
        "id": "6nYD602jcPlq",
        "outputId": "f765c3c4-1506-4b5c-9fd3-001045b41529"
      },
      "source": [
        "print('{}Nós gostariamos que você nos informasse a sua temperatura em ºC.'\n",
        "      .format(c['br']))\n",
        "C = float(input('Por favor, digite aqui:'))\n",
        "F = ((C*9)/5)+32\n",
        "print('Sua temperatura em fahrenheit é {:.2f}ºF'.format(F))"
      ],
      "execution_count": null,
      "outputs": [
        {
          "output_type": "stream",
          "text": [
            "\u001b[30mNós gostariamos que você nos informasse a sua temperatura em ºC.\n",
            "Por favor, digite aqui:4\n",
            "Sua temperatura em fahrenheit é 39.20ºF\n"
          ],
          "name": "stdout"
        }
      ]
    },
    {
      "cell_type": "markdown",
      "metadata": {
        "id": "jbgHi1a0d-67"
      },
      "source": [
        "Desafio 15:  Escreva um programa que pergunte a quantidade de Km percorridos por um carro alugado e a quantidade de dias pelos quais ele foi alugado. Calcule o preço a pagar, sabendo que o carro custa 60,00 reais por dia e 0,15 reais por Km rodado."
      ]
    },
    {
      "cell_type": "code",
      "metadata": {
        "colab": {
          "base_uri": "https://localhost:8080/"
        },
        "id": "N44zqabydtcT",
        "outputId": "c5e1b1d6-71ac-4310-acf1-3ddd6bcf8f6b"
      },
      "source": [
        "print('{}Olá, para saber quanto você irá pagar por favor digite abaixo.'.format(c['verd']))\n",
        "print('Quantos dias que você ficou com o carro?')\n",
        "d = float(input('Digite aqui:'))\n",
        "print('Quantos km você rodou com o carro?')\n",
        "m = float(input('Digite aqui:'))\n",
        "t = d * 60.00 + m * 0.15\n",
        "print('Tendo rodado {:.0f} dias e {:.2f}km com o carro você nos deve R${:.2f}'.format(d, m, t))"
      ],
      "execution_count": null,
      "outputs": [
        {
          "output_type": "stream",
          "text": [
            "\u001b[32mOlá, para saber quanto você irá pagar por favor digite abaixo.\n",
            "Quantos dias que você ficou com o carro?\n",
            "Digite aqui:3\n",
            "Quantos km você rodou com o carro?\n",
            "Digite aqui:4\n",
            "Tendo rodado 3 dias e 4.00km com o carro você nos deve R$180.60\n"
          ],
          "name": "stdout"
        }
      ]
    },
    {
      "cell_type": "markdown",
      "metadata": {
        "id": "vQwITqHhf0G5"
      },
      "source": [
        "## Aula 8: Utilizando módulos"
      ]
    },
    {
      "cell_type": "code",
      "metadata": {
        "colab": {
          "base_uri": "https://localhost:8080/"
        },
        "id": "5hsOvju4o37w",
        "outputId": "879a919a-a70a-4a81-d642-f25894adf517"
      },
      "source": [
        "!pip install emoji"
      ],
      "execution_count": null,
      "outputs": [
        {
          "output_type": "stream",
          "text": [
            "Collecting emoji\n",
            "\u001b[?25l  Downloading https://files.pythonhosted.org/packages/24/fa/b3368f41b95a286f8d300e323449ab4e86b85334c2e0b477e94422b8ed0f/emoji-1.2.0-py3-none-any.whl (131kB)\n",
            "\r\u001b[K     |██▌                             | 10kB 16.9MB/s eta 0:00:01\r\u001b[K     |█████                           | 20kB 23.2MB/s eta 0:00:01\r\u001b[K     |███████▌                        | 30kB 25.3MB/s eta 0:00:01\r\u001b[K     |██████████                      | 40kB 27.2MB/s eta 0:00:01\r\u001b[K     |████████████▌                   | 51kB 29.5MB/s eta 0:00:01\r\u001b[K     |███████████████                 | 61kB 29.6MB/s eta 0:00:01\r\u001b[K     |█████████████████▌              | 71kB 27.7MB/s eta 0:00:01\r\u001b[K     |████████████████████            | 81kB 28.0MB/s eta 0:00:01\r\u001b[K     |██████████████████████▌         | 92kB 27.1MB/s eta 0:00:01\r\u001b[K     |█████████████████████████       | 102kB 28.4MB/s eta 0:00:01\r\u001b[K     |███████████████████████████▌    | 112kB 28.4MB/s eta 0:00:01\r\u001b[K     |██████████████████████████████  | 122kB 28.4MB/s eta 0:00:01\r\u001b[K     |████████████████████████████████| 133kB 28.4MB/s \n",
            "\u001b[?25hInstalling collected packages: emoji\n",
            "Successfully installed emoji-1.2.0\n"
          ],
          "name": "stdout"
        }
      ]
    },
    {
      "cell_type": "code",
      "metadata": {
        "colab": {
          "base_uri": "https://localhost:8080/"
        },
        "id": "115eGJFVfdVH",
        "outputId": "14933862-fc0b-4370-cf87-baee7e7a7ae9"
      },
      "source": [
        "# Trabalhando com módulos\n",
        "# Para inluir(importar) algo usa-se o comando import\n",
        "# 'import( biblioteca)' comando geral\n",
        "# Para importar somente uma parte escrevemos\n",
        "# 'from(biblioteca)import(item específico)' comando específico\n",
        "# Bibliotecas básicas: math\n",
        "# Exemplo\n",
        "import math\n",
        "\n",
        "# from math import sqrt\n",
        "num = int(input('digite um número:'))\n",
        "# raiz = sqrt(num)\n",
        "raiz = math.sqrt(num)\n",
        "print('A raiz de {} é {:.2f}'.format(num, raiz))\n",
        "print('A raiz de {} é {}'.format(num, math.ceil(raiz)))  # ceil = arredondar para cima\n",
        "print('A raiz de {} é {}'.format(num, math.floor(raiz)))  # floor = arredondar para baixo\n",
        "print('A raiz de {} é {}'.format(num, math.trunc(raiz)))  # trunc = quebra o número\n",
        "import random  # A biblioteca random gera um número aleatório entre 0 e 1\n",
        "\n",
        "num1 = random.random()\n",
        "num2 = random.randint(1, 10)\n",
        "print(num1)\n",
        "print(num2)\n",
        "\n",
        "import emoji  # Para importar novas bibliotecas clicar na lâmpada vermelha e adicionar\n",
        "\n",
        "print(emoji.emojize('Olá mundo :imp:', use_aliases=True))\n",
        "print(emoji.emojize('Olá mundo:earth_americas:', use_aliases=True))"
      ],
      "execution_count": null,
      "outputs": [
        {
          "output_type": "stream",
          "text": [
            "digite um número:3\n",
            "A raiz de 3 é 1.73\n",
            "A raiz de 3 é 2\n",
            "A raiz de 3 é 1\n",
            "A raiz de 3 é 1\n",
            "0.6930919111700677\n",
            "2\n",
            "Olá mundo 👿\n",
            "Olá mundo🌎\n"
          ],
          "name": "stdout"
        }
      ]
    },
    {
      "cell_type": "markdown",
      "metadata": {
        "id": "81V2opWmrFwG"
      },
      "source": [
        "Desafio 16: Crie um programa que leia um número Real qualquer pelo teclado e mostre na tela a sua porção Inteira."
      ]
    },
    {
      "cell_type": "code",
      "metadata": {
        "colab": {
          "base_uri": "https://localhost:8080/"
        },
        "id": "IL3RWhvgiQm_",
        "outputId": "c8c2368e-7bfa-41f8-f0fc-7f9e6985e63b"
      },
      "source": [
        "from math import trunc\n",
        "n = float(input('{}Por favor digite um número qualquer:'.format(c['am'])))\n",
        "# n1 = trunc(n)\n",
        "# print('A parte inteira de {} vale {}'.format(n, n1))\n",
        "print('A parte inteira de {} vale {}'.format(n, trunc(n)))\n"
      ],
      "execution_count": null,
      "outputs": [
        {
          "output_type": "stream",
          "text": [
            "\u001b[33mPor favor digite um número qualquer:4\n",
            "A parte inteira de 4.0 vale 4\n"
          ],
          "name": "stdout"
        }
      ]
    },
    {
      "cell_type": "markdown",
      "metadata": {
        "id": "nVEblk9Jse24"
      },
      "source": [
        "Desafio 17: Faça um programa que leia o comprimento do cateto oposto e do cateto adjacente de um triângulo retângulo. Calcule e mostre o comprimento da hipotenusa."
      ]
    },
    {
      "cell_type": "code",
      "metadata": {
        "colab": {
          "base_uri": "https://localhost:8080/"
        },
        "id": "tPjZshdYsFml",
        "outputId": "750b95ba-fcbf-4d60-83db-caf8d9daefde"
      },
      "source": [
        "from math import hypot\n",
        "print('{}Para calcular a hipotenusa do seu triângulo retângulo por favor digite a baixo'\n",
        "      .format(c['verd']))\n",
        "co = float(input('O valor do cateto oposto:'))\n",
        "ca = float(input('O valor do cateto adjacente:'))\n",
        "h = (co**2 + ca**2)**(1/2)\n",
        "print('Para cateto oposto {} e cateto adjacente {} a hipotenusa vale {:.2f}.'\n",
        "      .format(co, ca, h))\n",
        "h1 = hypot(co, ca)\n",
        "print(h1)\n"
      ],
      "execution_count": null,
      "outputs": [
        {
          "output_type": "stream",
          "text": [
            "\u001b[32mPara calcular a hipotenusa do seu triângulo retângulo por favor digite a baixo\n",
            "O valor do cateto oposto:3\n",
            "O valor do cateto adjacente:4\n",
            "Para cateto oposto 3.0 e cateto adjacente 4.0 a hipotenusa vale 5.00.\n",
            "5.0\n"
          ],
          "name": "stdout"
        }
      ]
    },
    {
      "cell_type": "markdown",
      "metadata": {
        "id": "ztVCIwQit1XT"
      },
      "source": [
        "Desafio 18: Faça um programa que leia um ângulo qualquer e mostre na tela o valor do seno, cosseno e tangente desse ângulo."
      ]
    },
    {
      "cell_type": "code",
      "metadata": {
        "colab": {
          "base_uri": "https://localhost:8080/"
        },
        "id": "Rto64jP5tmxe",
        "outputId": "afdcb856-fee7-46ab-a7c2-1f65e8f05e5a"
      },
      "source": [
        "import math\n",
        "a = float(input('{}Por favor informe um ângulo qualquer:'.format(c['br'])))\n",
        "s = math.sin(math.radians(a))\n",
        "c = math.cos(math.radians(a))\n",
        "t = math.tan(math.radians(a))\n",
        "print('O seno, o cosseno e a tangente do ângulo informado são '\n",
        "      'respectivamente:\\n {:.2f}, {:.2f}, {:.2f}.'.format(s, c, t))"
      ],
      "execution_count": null,
      "outputs": [
        {
          "output_type": "stream",
          "text": [
            "\u001b[30mPor favor informe um ângulo qualquer:30\n",
            "O seno, o cosseno e a tangente do ângulo informado são respectivamente:\n",
            " 0.50, 0.87, 0.58.\n"
          ],
          "name": "stdout"
        }
      ]
    },
    {
      "cell_type": "markdown",
      "metadata": {
        "id": "CB9yjVn4uiAi"
      },
      "source": [
        "Desafio 19: Um professor quer sortear um dos seus quatro alunos para apagar o quadro. Faça um programa que ajude ele, lendo o nome dos alunos e escrevendo na tela o nome do escolhido."
      ]
    },
    {
      "cell_type": "code",
      "metadata": {
        "colab": {
          "base_uri": "https://localhost:8080/"
        },
        "id": "eweLsnknuJ_P",
        "outputId": "168c8e90-7f73-4730-92f9-e7bafbf50bee"
      },
      "source": [
        "import random\n",
        "print('{}Irei sortear um de vocês para decidir quem irá apagar o quadro. Por favor coloquem o nome abaixo:'.format(c['br']))\n",
        "a1 = str(input('1º estudante:'))\n",
        "a2 = str(input('2º estudante:'))\n",
        "a3 = str(input('3º estudante:'))\n",
        "a4 = str(input('4º estudante:'))\n",
        "a = random.choice([a1, a2, a3, a4])  # O comando choice sorteia uma coisa do conjunto\n",
        "# que foi apresentado\n",
        "print('E o aluno sorteado é {}.'.format(a))\n"
      ],
      "execution_count": null,
      "outputs": [
        {
          "output_type": "stream",
          "text": [
            "\u001b[30mIrei sortear um de vocês para decidir quem irá apagar o quadro. Por favor coloquem o nome abaixo:\n",
            "1º estudante:jo\n",
            "2º estudante:ma\n",
            "3º estudante:ca\n",
            "4º estudante:la\n",
            "E o aluno sorteado é ca.\n"
          ],
          "name": "stdout"
        }
      ]
    },
    {
      "cell_type": "markdown",
      "metadata": {
        "id": "uCVchiwc3Hvo"
      },
      "source": [
        "Desafio 20: O mesmo professor do desafio 19 quer sortear a ordem de apresentação de trabalhos dos alunos. Faça um programa que leia o nome dos quatro alunos e mostre a ordem sorteada."
      ]
    },
    {
      "cell_type": "code",
      "metadata": {
        "id": "ZPexxlMJyFOu",
        "colab": {
          "base_uri": "https://localhost:8080/"
        },
        "outputId": "9530a33e-37ec-4cc3-ed5d-9d4f2c382200"
      },
      "source": [
        "from random import shuffle\n",
        "\n",
        "print('{}Para saber a ordem de apresentação por favor digite os seus nomes'\n",
        "      .format(c['rox']))\n",
        "a1 = str(input('1º estudante:'))\n",
        "a2 = str(input('2º estudante:'))\n",
        "a3 = str(input('3º estudante:'))\n",
        "a4 = str(input('4º estudante:'))\n",
        "ordem = [a1, a2, a3, a4]\n",
        "shuffle(ordem)  # O comando shuffle(significa embaralhar) sorteia uma\n",
        "# ordenação para uma lista de coisas\n",
        "print('A ordem de apresentação será:', ordem)\n"
      ],
      "execution_count": null,
      "outputs": [
        {
          "output_type": "stream",
          "text": [
            "\u001b[35mPara saber a ordem de apresentação por favor digite os seus nomes\n",
            "1º estudante:jo\n",
            "2º estudante:an\n",
            "3º estudante:na\n",
            "4º estudante:cami\n",
            "A ordem de apresentação será: ['na', 'jo', 'cami', 'an']\n"
          ],
          "name": "stdout"
        }
      ]
    },
    {
      "cell_type": "markdown",
      "metadata": {
        "id": "B_JYnJ7vL8Gg"
      },
      "source": [
        "Desafio 21: Faça um programa em Python que abra e reproduza o áudio de um arquivo MP3."
      ]
    },
    {
      "cell_type": "code",
      "metadata": {
        "colab": {
          "base_uri": "https://localhost:8080/"
        },
        "id": "TUySE97yRIHm",
        "outputId": "8ac95f04-243d-47e4-f25f-77532a20441a"
      },
      "source": [
        "!pip install playsound"
      ],
      "execution_count": null,
      "outputs": [
        {
          "output_type": "stream",
          "text": [
            "Requirement already satisfied: playsound in /usr/local/lib/python3.7/dist-packages (1.2.2)\n"
          ],
          "name": "stdout"
        }
      ]
    },
    {
      "cell_type": "code",
      "metadata": {
        "colab": {
          "base_uri": "https://localhost:8080/",
          "height": 540
        },
        "id": "7B3ZmLyIP9B2",
        "outputId": "443bf81d-be89-4fc9-def2-c3a3acd83488"
      },
      "source": [
        "'''\n",
        "import pygame\n",
        "print('Gostariamos que você ouvisse essa música')\n",
        "pygame.mixer.init()\n",
        "pygame.mixer.music.load('des021.mp3')\n",
        "pygame.mixer.music.play()\n",
        "print('Por favor ouça...')\n",
        "input('Para parar digite algo e de enter:')\n",
        "'''\n",
        "\n",
        "import playsound\n",
        "playsound.playsound('des021.mp3')\n",
        "\n",
        "#playsound.playsound('lonelyday.mp3')\n"
      ],
      "execution_count": null,
      "outputs": [
        {
          "output_type": "error",
          "ename": "ImportError",
          "evalue": "ignored",
          "traceback": [
            "\u001b[0;31m---------------------------------------------------------------------------\u001b[0m",
            "\u001b[0;31mImportError\u001b[0m                               Traceback (most recent call last)",
            "\u001b[0;32m<ipython-input-35-616f523a7877>\u001b[0m in \u001b[0;36m<module>\u001b[0;34m()\u001b[0m\n\u001b[1;32m     10\u001b[0m \u001b[0;34m\u001b[0m\u001b[0m\n\u001b[1;32m     11\u001b[0m \u001b[0;32mimport\u001b[0m \u001b[0mplaysound\u001b[0m\u001b[0;34m\u001b[0m\u001b[0;34m\u001b[0m\u001b[0m\n\u001b[0;32m---> 12\u001b[0;31m \u001b[0mplaysound\u001b[0m\u001b[0;34m.\u001b[0m\u001b[0mplaysound\u001b[0m\u001b[0;34m(\u001b[0m\u001b[0;34m'des021.mp3'\u001b[0m\u001b[0;34m)\u001b[0m\u001b[0;34m\u001b[0m\u001b[0;34m\u001b[0m\u001b[0m\n\u001b[0m\u001b[1;32m     13\u001b[0m \u001b[0;34m\u001b[0m\u001b[0m\n\u001b[1;32m     14\u001b[0m \u001b[0;31m#playsound.playsound('lonelyday.mp3')\u001b[0m\u001b[0;34m\u001b[0m\u001b[0;34m\u001b[0m\u001b[0;34m\u001b[0m\u001b[0m\n",
            "\u001b[0;32m/usr/local/lib/python3.7/dist-packages/playsound.py\u001b[0m in \u001b[0;36m_playsoundNix\u001b[0;34m(sound, block)\u001b[0m\n\u001b[1;32m     89\u001b[0m         \u001b[0;32mfrom\u001b[0m \u001b[0murllib\u001b[0m \u001b[0;32mimport\u001b[0m \u001b[0mpathname2url\u001b[0m\u001b[0;34m\u001b[0m\u001b[0;34m\u001b[0m\u001b[0m\n\u001b[1;32m     90\u001b[0m \u001b[0;34m\u001b[0m\u001b[0m\n\u001b[0;32m---> 91\u001b[0;31m     \u001b[0;32mimport\u001b[0m \u001b[0mgi\u001b[0m\u001b[0;34m\u001b[0m\u001b[0;34m\u001b[0m\u001b[0m\n\u001b[0m\u001b[1;32m     92\u001b[0m     \u001b[0mgi\u001b[0m\u001b[0;34m.\u001b[0m\u001b[0mrequire_version\u001b[0m\u001b[0;34m(\u001b[0m\u001b[0;34m'Gst'\u001b[0m\u001b[0;34m,\u001b[0m \u001b[0;34m'1.0'\u001b[0m\u001b[0;34m)\u001b[0m\u001b[0;34m\u001b[0m\u001b[0;34m\u001b[0m\u001b[0m\n\u001b[1;32m     93\u001b[0m     \u001b[0;32mfrom\u001b[0m \u001b[0mgi\u001b[0m\u001b[0;34m.\u001b[0m\u001b[0mrepository\u001b[0m \u001b[0;32mimport\u001b[0m \u001b[0mGst\u001b[0m\u001b[0;34m\u001b[0m\u001b[0;34m\u001b[0m\u001b[0m\n",
            "\u001b[0;32m/usr/lib/python3/dist-packages/gi/__init__.py\u001b[0m in \u001b[0;36m<module>\u001b[0;34m()\u001b[0m\n\u001b[1;32m     40\u001b[0m \u001b[0;34m\u001b[0m\u001b[0m\n\u001b[1;32m     41\u001b[0m \u001b[0;34m\u001b[0m\u001b[0m\n\u001b[0;32m---> 42\u001b[0;31m \u001b[0;32mfrom\u001b[0m \u001b[0;34m.\u001b[0m \u001b[0;32mimport\u001b[0m \u001b[0m_gi\u001b[0m\u001b[0;34m\u001b[0m\u001b[0;34m\u001b[0m\u001b[0m\n\u001b[0m\u001b[1;32m     43\u001b[0m \u001b[0;32mfrom\u001b[0m \u001b[0;34m.\u001b[0m\u001b[0m_gi\u001b[0m \u001b[0;32mimport\u001b[0m \u001b[0m_API\u001b[0m\u001b[0;34m\u001b[0m\u001b[0;34m\u001b[0m\u001b[0m\n\u001b[1;32m     44\u001b[0m \u001b[0;32mfrom\u001b[0m \u001b[0;34m.\u001b[0m\u001b[0m_gi\u001b[0m \u001b[0;32mimport\u001b[0m \u001b[0mRepository\u001b[0m\u001b[0;34m\u001b[0m\u001b[0;34m\u001b[0m\u001b[0m\n",
            "\u001b[0;31mImportError\u001b[0m: cannot import name '_gi' from 'gi' (/usr/lib/python3/dist-packages/gi/__init__.py)",
            "",
            "\u001b[0;31m---------------------------------------------------------------------------\u001b[0;32m\nNOTE: If your import is failing due to a missing package, you can\nmanually install dependencies using either !pip or !apt.\n\nTo view examples of installing some common dependencies, click the\n\"Open Examples\" button below.\n\u001b[0;31m---------------------------------------------------------------------------\u001b[0m\n"
          ]
        }
      ]
    },
    {
      "cell_type": "markdown",
      "metadata": {
        "id": "LsWtKpoxSuIF"
      },
      "source": [
        "## Aula 9: Manipulando texto"
      ]
    },
    {
      "cell_type": "code",
      "metadata": {
        "colab": {
          "base_uri": "https://localhost:8080/"
        },
        "id": "SnhE4BBCQtlW",
        "outputId": "dbd35caa-08b8-47f9-ffa3-0c6112caace3"
      },
      "source": [
        "'''\n",
        "Manipulando texto\n",
        "Fatiamento de string\n",
        "'''\n",
        "frase = 'Curso em Vídeo Python'\n",
        "print(frase[9])       # imprime o algarismo da posição 9\n",
        "print(frase[9:13])    # imprime do algarismo 9 ao 12\n",
        "print(frase[9:21])\n",
        "print(frase[9:21:2])  # imprime do algarismo 9 ao 20 indo de dois em dois\n",
        "print(frase[:5])      # imprime do caractere 0 ao 4\n",
        "print(frase[15:])     # imprime do caractere 15 ao último\n",
        "print(frase[9::3])\n",
        "\n",
        "'''\n",
        "Análise de string\n",
        "'''\n",
        "\n",
        "print(len(frase))  # o len diz o número de caracteres dentro da string\n",
        "print(frase.count('o'))  # count conta quantas vezes um determinado caracter aparece\n",
        "print(frase.count('o', 0, 13))  # diz quantos 'o' aparecem entre os caracteres 0 e 13\n",
        "print(frase.find('deo'))  # find diz onde deo começa a ser escrito\n",
        "print(frase.find('Android'))  # como isso não existe na string o valor retornado será -1\n",
        "print('Curso' in frase)  # me diz se existe a palavra Curso na string\n",
        "\n",
        "'''\n",
        "Transfomação\n",
        "'''\n",
        "\n",
        "print(frase.replace('Python', 'Android'))  # troca uma parte da frase por outra\n",
        "print(frase.upper())  # vai deixar tudo maiúsculo\n",
        "print(frase.lower())  # vai deixar tudo minusculo\n",
        "print(frase.capitalize())  # vai deixar somente o primeiro caracter maiúsculo\n",
        "print(frase.title())  # vai deixar as primeiras letras da frase maiúsculas\n",
        "\n",
        "f1 = '   Aprenda Python  '\n",
        "print(f1.strip())  # remove os espaços escedentes\n",
        "print(f1.rstrip())  # remove somente os espaços extra a direita\n",
        "print(f1.lstrip())  # remove somente os espaços extra a esquerda\n",
        "\n",
        "'''\n",
        "Divisão de string\n",
        "'''\n",
        "\n",
        "print(frase.split())  # Cria uma lista com os caracteres separados por um espaço\n",
        "f2 = frase.split()\n",
        "print('-'.join(f2))  # Junta a lista e os separa por '-'\n",
        "\n"
      ],
      "execution_count": null,
      "outputs": [
        {
          "output_type": "stream",
          "text": [
            "V\n",
            "Víde\n",
            "Vídeo Python\n",
            "VdoPto\n",
            "Curso\n",
            "Python\n",
            "VePh\n",
            "21\n",
            "3\n",
            "1\n",
            "11\n",
            "-1\n",
            "True\n",
            "Curso em Vídeo Android\n",
            "CURSO EM VÍDEO PYTHON\n",
            "curso em vídeo python\n",
            "Curso em vídeo python\n",
            "Curso Em Vídeo Python\n",
            "Aprenda Python\n",
            "   Aprenda Python\n",
            "Aprenda Python  \n",
            "['Curso', 'em', 'Vídeo', 'Python']\n",
            "Curso-em-Vídeo-Python\n"
          ],
          "name": "stdout"
        }
      ]
    },
    {
      "cell_type": "markdown",
      "metadata": {
        "id": "IKOwJ_ZUUFHD"
      },
      "source": [
        "Desafio 022: Crie um programa que leia o nome completo de uma pessoa e mostre:\n",
        "\n",
        "– O nome com todas as letras maiúsculas e minúsculas.\n",
        "\n",
        "– Quantas letras ao todo (sem considerar espaços).\n",
        "\n",
        "– Quantas letras tem o primeiro nome."
      ]
    },
    {
      "cell_type": "code",
      "metadata": {
        "colab": {
          "base_uri": "https://localhost:8080/"
        },
        "id": "idUn-YrzUUwg",
        "outputId": "3bb94f46-57dc-4690-bed2-9cde6c44d45c"
      },
      "source": [
        "n = str(input('{}Digite seu nome completo:'.format(c['verd'])).strip())\n",
        "print('Seu nome em maiúsculas é {}.'.format(n.upper()))\n",
        "print('Seu nome em minúsculas é {}.'.format(n.lower()))\n",
        "n1 = n.split()\n",
        "n2 = ''.join(n1)\n",
        "print('Seu nome tem {} letras ao todo.'.format(len(n2)))\n",
        "# print('Seu nome tem {} letras ao todo.'.format(len(n) - n.count(' ')))\n",
        "print('Seu primeiro nome tem {} letras.'.format(n.find(' ')))"
      ],
      "execution_count": null,
      "outputs": [
        {
          "output_type": "stream",
          "text": [
            "\u001b[32mDigite seu nome completo:Joao Pedro Silva dos Santos\n",
            "Seu nome em maiúsculas é JOAO PEDRO SILVA DOS SANTOS.\n",
            "Seu nome em minúsculas é joao pedro silva dos santos.\n",
            "Seu nome tem 23 letras ao todo.\n",
            "Seu primeiro nome tem 4 letras.\n"
          ],
          "name": "stdout"
        }
      ]
    },
    {
      "cell_type": "markdown",
      "metadata": {
        "id": "uxZl6O07U21B"
      },
      "source": [
        "Desafio 023:  Faça um programa que leia um número de 0 a 9999 e mostre na tela cada um dos dígitos separados."
      ]
    },
    {
      "cell_type": "code",
      "metadata": {
        "colab": {
          "base_uri": "https://localhost:8080/"
        },
        "id": "E8eZ0CAkVFQt",
        "outputId": "78af949a-5167-4d49-d54d-aac89e28b3f1"
      },
      "source": [
        "x = input('Digite um número entre 0 e 9999:')\n",
        "if len(x) == 1:\n",
        "    x = (x.__add__('000'))\n",
        "    print('Unidade:{}, Dezena:{}, Centena:{}, Milhar:{}'.format(x[0], x[1], x[2], x[3]))\n",
        "elif len(x) == 2:\n",
        "    x = (x.__add__('00'))\n",
        "    print('Unidade:{}, Dezena:{}, Centena:{}, Milhar:{}'.format(x[1], x[0], x[2], x[3]))\n",
        "elif len(x) == 3:\n",
        "    x = (x.__add__('0'))\n",
        "    print('Unidade:{}, Dezena:{}, Centena:{}, Milhar:{}'.format(x[2], x[1], x[0], x[3]))\n",
        "elif len(x) >= 5:\n",
        "    print('Você digitou um número muito grande!!!! Ele é maior que 9999!!')\n",
        "else:\n",
        "    print('Unidade:{}, Dezena:{}, Centena:{}, Milhar:{}'.format(x[3], x[2], x[1], x[0]))\n"
      ],
      "execution_count": null,
      "outputs": [
        {
          "output_type": "stream",
          "text": [
            "Digite um número entre 0 e 9999:539\n",
            "Unidade:9, Dezena:3, Centena:5, Milhar:0\n"
          ],
          "name": "stdout"
        }
      ]
    },
    {
      "cell_type": "markdown",
      "metadata": {
        "id": "PCKvr4gPVnyY"
      },
      "source": [
        "Desafio 024:  Crie um programa que leia o nome de uma cidade diga se ela começa ou não com o nome “SANTO”."
      ]
    },
    {
      "cell_type": "code",
      "metadata": {
        "colab": {
          "base_uri": "https://localhost:8080/"
        },
        "id": "GFhDm9N-VVQK",
        "outputId": "f902b804-1425-4cc5-8d61-61cde88daaf9"
      },
      "source": [
        "print('Para saber se o nome de sua cidade começa com Santo por favor digite o nome dela '\n",
        "      'abaixo.')\n",
        "city = input('Digite aqui: ').capitalize()\n",
        "c1 = ('Santo' in city[0:5])\n",
        "if c1 == True:\n",
        "    print('É verdade, começa por Santo.')\n",
        "else:\n",
        "    print('Não começa por Santo.')"
      ],
      "execution_count": null,
      "outputs": [
        {
          "output_type": "stream",
          "text": [
            "Para saber se o nome de sua cidade começa com Santo por favor digite o nome dela abaixo.\n",
            "Digite aqui: Arraial do Cabo\n",
            "Não começa por Santo.\n"
          ],
          "name": "stdout"
        }
      ]
    },
    {
      "cell_type": "markdown",
      "metadata": {
        "id": "PTRlwj-gWAfi"
      },
      "source": [
        "Desafio 025: Crie um programa que leia o nome de uma pessoa e diga se ela tem “SILVA” no nome."
      ]
    },
    {
      "cell_type": "code",
      "metadata": {
        "colab": {
          "base_uri": "https://localhost:8080/"
        },
        "id": "-AwonGNbV7k-",
        "outputId": "8214bd39-d9d5-4dba-b724-a5275186f57e"
      },
      "source": [
        "# nome = input('Digite seu nome:').title()\n",
        "# n = 'Silva' in nome\n",
        "\n",
        "# if n == True:\n",
        "#     print('Seu nome tem Silva.')\n",
        "# else:\n",
        "#     print('Seu nome não tem Silva')\n",
        "nome = str(input('Qual o seu nome completo?')).strip()\n",
        "print('Seu nome tem \"Silva\".{}'.format('silva' in nome.lower()))"
      ],
      "execution_count": null,
      "outputs": [
        {
          "output_type": "stream",
          "text": [
            "Qual o seu nome completo?Joa silVa\n",
            "Seu nome tem \"Silva\".True\n"
          ],
          "name": "stdout"
        }
      ]
    },
    {
      "cell_type": "markdown",
      "metadata": {
        "id": "waUQtOiBWzkb"
      },
      "source": [
        "Desafio 026: Faça um programa que leia uma frase pelo teclado e mostre quantas vezes aparece a letra “A”, em que posição ela aparece a primeira vez e em que posição ela aparece a última vez."
      ]
    },
    {
      "cell_type": "code",
      "metadata": {
        "colab": {
          "base_uri": "https://localhost:8080/"
        },
        "id": "D8B4MxLMWkgM",
        "outputId": "51a6cd6d-b262-4032-bf94-5d9661f54364"
      },
      "source": [
        "frase = input('digite uma frase:\\n').lower().strip()\n",
        "print('A letra \"a\" aparece {} vezes e aparece primeiro na posição {} e por último na\\n posição {} da sua frase.'\n",
        "      .format(frase.count('a'), frase.find('a'), frase.rfind('a')))"
      ],
      "execution_count": null,
      "outputs": [
        {
          "output_type": "stream",
          "text": [
            "digite uma frase:\n",
            "abacaxi tres doi uma\n",
            "A letra \"a\" aparece 4 vezes e aparece primeiro na posição 0 e por último na\n",
            " posição 19 da sua frase.\n"
          ],
          "name": "stdout"
        }
      ]
    },
    {
      "cell_type": "markdown",
      "metadata": {
        "id": "JTCsE_RgY0lY"
      },
      "source": [
        "Desafio 027:Faça um programa que leia o nome completo de uma pessoa, mostrando em seguida o primeiro e o último nome separadamente."
      ]
    },
    {
      "cell_type": "code",
      "metadata": {
        "colab": {
          "base_uri": "https://localhost:8080/"
        },
        "id": "0ZgOVwMFYlqm",
        "outputId": "0aed6769-d407-4fc3-8d29-a8dbe18cc8a9"
      },
      "source": [
        "nome = input('Digite seu nome todo:').strip()\n",
        "n = nome.rfind(' ')\n",
        "n1 = nome.find(' ')\n",
        "print('Seu primeiro nome é {} e o seu último nome é{}.'.format(nome[:n1], nome[n:]))"
      ],
      "execution_count": null,
      "outputs": [
        {
          "output_type": "stream",
          "text": [
            "Digite seu nome todo:Joao Pedro Silva dos Santos\n",
            "Seu primeiro nome é Joao e o seu último nome é Santos.\n"
          ],
          "name": "stdout"
        }
      ]
    },
    {
      "cell_type": "markdown",
      "metadata": {
        "id": "es8o5Gy9ZbzG"
      },
      "source": [
        "##Aula 10: Condições (parte 1)"
      ]
    },
    {
      "cell_type": "code",
      "metadata": {
        "colab": {
          "base_uri": "https://localhost:8080/"
        },
        "id": "FzSw1E5GZUmp",
        "outputId": "5abc632e-a130-44e8-88b6-8e874f2cc3e1"
      },
      "source": [
        "'''\n",
        "condicionais\n",
        "'''\n",
        "\n",
        "# if carro.esquerda():     se...:\n",
        "#   bloco True\n",
        "# else:                    senão...:\n",
        "#   bloco false\n",
        "'''\n",
        "tempo= int(input('quantos anos tem seu carro?'))\n",
        "if tempo <= 3:\n",
        "    print('carro novo')\n",
        "else:\n",
        "    print('carro velho')\n",
        "# print('carro novo' if tempo<=3 else 'carro velho') essa é uma forma simplificada\n",
        "print('--FIM--')\n",
        "'''\n",
        "'''\n",
        "nome = str(input('Qual o seu nome'))\n",
        "if nome == 'João':\n",
        "    print('Que nome lindo vc tem!!')\n",
        "else:\n",
        "    print('Seu nome é normal!')\n",
        "print('Bom dia, {}.'.format(nome))\n",
        "'''\n",
        "\n",
        "n1 = float(input('Por favor, digite a nota de P1:'))\n",
        "n2 = float(input('Por favor, digite a nota da P2:'))\n",
        "m = (n1 + n2) / 2\n",
        "print('Sua média é {:.2f}'.format(m))\n",
        "if m >= 7:\n",
        "    print('Portanto você passou.')\n",
        "elif 7 > m >= 4:\n",
        "    print('Você vai para a prova final.')\n",
        "else:\n",
        "    print('Você reprovou')\n"
      ],
      "execution_count": null,
      "outputs": [
        {
          "output_type": "stream",
          "text": [
            "Por favor, digite a nota de P1:10\n",
            "Por favor, digite a nota da P2:0.5\n",
            "Sua média é 5.25\n",
            "Você vai para a prova final.\n"
          ],
          "name": "stdout"
        }
      ]
    },
    {
      "cell_type": "markdown",
      "metadata": {
        "id": "1po8zd4faPMY"
      },
      "source": [
        "Desafio 028: Escreva um programa que faça o computador “pensar” em um número inteiro entre 0 e 5 e peça para o usuário tentar descobrir qual foi o número escolhido pelo computador. O programa deverá escrever na tela se o usuário venceu ou perdeu."
      ]
    },
    {
      "cell_type": "code",
      "metadata": {
        "colab": {
          "base_uri": "https://localhost:8080/"
        },
        "id": "fHOAFs9YaHQb",
        "outputId": "59747b4a-b8a2-493c-fcf8-755bdcdd0658"
      },
      "source": [
        "from random import randint\n",
        "from time import sleep\n",
        "\n",
        "n = randint(1, 6)\n",
        "n1 = int(input('Pensei em um número de 0 à 5 e quero que você tente adivinhar qual é,'\n",
        "               ' para isso digite\\num número a seguir:'))\n",
        "print('PROCESSANDO...')\n",
        "sleep(3)\n",
        "if n == n1:\n",
        "    print('Parabéns você acertou o número que eu pensei.')\n",
        "else:\n",
        "    print('Sinto muito você errou o meu número.\\n'\n",
        "          'O meu número era o {}.'.format(n))\n"
      ],
      "execution_count": null,
      "outputs": [
        {
          "output_type": "stream",
          "text": [
            "Pensei em um número de 0 à 5 e quero que você tente adivinhar qual é, para isso digite\n",
            "um número a seguir:6\n",
            "PROCESSANDO...\n",
            "Sinto muito você errou o meu número.\n",
            "O meu número era o 4.\n"
          ],
          "name": "stdout"
        }
      ]
    },
    {
      "cell_type": "markdown",
      "metadata": {
        "id": "1wR2E2gtaznL"
      },
      "source": [
        "Desafio 029: Escreva um programa que leia a velocidade de um carro. Se ele ultrapassar 80Km/h, mostre uma mensagem dizendo que ele foi multado. A multa vai custar R$7,00 por cada Km acima do limite."
      ]
    },
    {
      "cell_type": "code",
      "metadata": {
        "colab": {
          "base_uri": "https://localhost:8080/"
        },
        "id": "GsLIZyuFasvn",
        "outputId": "6f7f1090-e408-4c79-d71b-c921cdf4dedf"
      },
      "source": [
        "v = float(input('Qual foi a sua velocidade ao passar pelo radar?'\n",
        "                '\\n Diga aqui:'))\n",
        "if v > 80:\n",
        "    m = (v - 80) * 7\n",
        "    print('Você foi multado e o valor da sua multa é de R${:.2f}.'.format(m))\n",
        "else:\n",
        "    print('Você não foi multado.')"
      ],
      "execution_count": null,
      "outputs": [
        {
          "output_type": "stream",
          "text": [
            "Qual foi a sua velocidade ao passar pelo radar?\n",
            " Diga aqui:100\n",
            "Você foi multado e o valor da sua multa é de R$140.00.\n"
          ],
          "name": "stdout"
        }
      ]
    },
    {
      "cell_type": "markdown",
      "metadata": {
        "id": "kkB0UMlobhHc"
      },
      "source": [
        "Desafio 030:Crie um programa que leia um número inteiro e mostre na tela se ele é PAR ou ÍMPAR."
      ]
    },
    {
      "cell_type": "code",
      "metadata": {
        "colab": {
          "base_uri": "https://localhost:8080/"
        },
        "id": "__f0ze7CbdOs",
        "outputId": "2f7020a1-6862-416e-a558-9d66cbec763c"
      },
      "source": [
        "n = int(input('Digite um número inteiro:'))\n",
        "n1 = n % 2\n",
        "if n1 == 0:      # != é o símbolo de diferente\n",
        "    print('Seu número é par.')\n",
        "else:\n",
        "    print('Seu número é impar.')\n"
      ],
      "execution_count": null,
      "outputs": [
        {
          "output_type": "stream",
          "text": [
            "Digite um número inteiro:29\n",
            "Seu número é impar.\n"
          ],
          "name": "stdout"
        }
      ]
    },
    {
      "cell_type": "markdown",
      "metadata": {
        "id": "LpMCbtwrcFXU"
      },
      "source": [
        "Desafio 031:  Desenvolva um programa que pergunte a distância de uma viagem em Km. Calcule o preço da passagem, cobrando 0,50 reais por Km para viagens de até 200Km e 0,45 reais parta viagens mais longas."
      ]
    },
    {
      "cell_type": "code",
      "metadata": {
        "colab": {
          "base_uri": "https://localhost:8080/"
        },
        "id": "7DHd-qCqcCIi",
        "outputId": "98ebcc75-9b8d-4aa4-f700-5eb831ebbf07"
      },
      "source": [
        "d = float(input('Qual a distância da sua viagem em quilometros:'))\n",
        "if d <= 200:\n",
        "    p = d * 0.5\n",
        "    print('Sua passagem vale R${:.2f}'.format(p))\n",
        "else:\n",
        "    p = d * 0.45\n",
        "    print('Sua passagem valeR${:.2f}'.format(p))"
      ],
      "execution_count": null,
      "outputs": [
        {
          "output_type": "stream",
          "text": [
            "Qual a distância da sua viagem em quilometros:1000\n",
            "Sua passagem valeR$450.00\n"
          ],
          "name": "stdout"
        }
      ]
    },
    {
      "cell_type": "markdown",
      "metadata": {
        "id": "qDQF-eYFcoDX"
      },
      "source": [
        "Desafio 032: Faça um programa que leia um ano qualquer e mostre se ele é bissexto.\n",
        "\n"
      ]
    },
    {
      "cell_type": "code",
      "metadata": {
        "colab": {
          "base_uri": "https://localhost:8080/"
        },
        "id": "n-pypVI9ckJD",
        "outputId": "d1c593b2-850a-40d2-af60-958c85fa0018"
      },
      "source": [
        "from datetime import date\n",
        "\n",
        "print('Se quiser saber do ano atual digite 0:')\n",
        "n = int(input('Digite um ano qualquer:'))\n",
        "\n",
        "if n == 0:\n",
        "    n = date.today().year\n",
        "if n % 4 == 0 and n % 100 != 0 or n % 400 == 0:      # != é o símbolo de diferente\n",
        "    print('{} é bissexto.'.format(n))\n",
        "else:\n",
        "    print('{} não é bissexto.'.format(n))\n"
      ],
      "execution_count": null,
      "outputs": [
        {
          "output_type": "stream",
          "text": [
            "Se quiser saber do ano atual digite 0:\n",
            "Digite um ano qualquer:0\n",
            "2021 não é bissexto.\n"
          ],
          "name": "stdout"
        }
      ]
    },
    {
      "cell_type": "markdown",
      "metadata": {
        "id": "t-5bCF40dAWt"
      },
      "source": [
        "Desafio 033: Faça um programa que leia três números e mostre qual é o maior e qual é o menor."
      ]
    },
    {
      "cell_type": "code",
      "metadata": {
        "colab": {
          "base_uri": "https://localhost:8080/"
        },
        "id": "zUGH1zA1c6zq",
        "outputId": "e4e40c09-ac43-4ad2-99c2-ba435ee2db38"
      },
      "source": [
        "print('Por favor digite três números abaixo.')\n",
        "n1 = float(input('primeiro número:'))\n",
        "n2 = float(input('Segundo número:'))\n",
        "n3 = float(input('Terceiro número:'))\n",
        "if n1 > n3 > n2:\n",
        "    print('O {} é o maior e o {} é o menor'.format(n1, n2))\n",
        "elif n3 > n2 > n1:\n",
        "    print('O {} é o maior e o {} é o menor'.format(n3, n1))\n",
        "elif n2 > n1 > n3:\n",
        "    print('O {} é o maior e o {} é o menor'.format(n2, n3))\n",
        "elif n2 > n3 > n1:\n",
        "    print('O {} é o maior e o {} é o menor'.format(n2, n1))\n",
        "elif n1 > n2 > n3:\n",
        "    print('O {} é o maior e o {} é o menor'.format(n1, n3))\n",
        "else:\n",
        "    print('O {} é o maior e o {} é o menor'.format(n3, n2))\n"
      ],
      "execution_count": null,
      "outputs": [
        {
          "output_type": "stream",
          "text": [
            "Por favor digite três números abaixo.\n",
            "primeiro número:2039\n",
            "Segundo número:325\n",
            "Terceiro número:20358285\n",
            "O 20358285.0 é o maior e o 325.0 é o menor\n"
          ],
          "name": "stdout"
        }
      ]
    },
    {
      "cell_type": "markdown",
      "metadata": {
        "id": "srA8hFridmd0"
      },
      "source": [
        "Desafio 034:  Escreva um programa que pergunte o salário de um funcionário e calcule o valor do seu aumento. Para salários superiores a R$1250,00, calcule um aumento de 10%. Para os inferiores ou iguais, o aumento é de 15%."
      ]
    },
    {
      "cell_type": "code",
      "metadata": {
        "colab": {
          "base_uri": "https://localhost:8080/"
        },
        "id": "QcL9vdOOdeTu",
        "outputId": "1c8c91c2-0f77-4e2a-aead-56360f32b88e"
      },
      "source": [
        "s = float(input('Por favor digite o valor do seu salário para saber qual o seu aumento\\n'\n",
        "                'R$'))\n",
        "if s > 1250:\n",
        "    a = s * 1.1\n",
        "    print('Seu novo salário será R${:.2f}'.format(a))\n",
        "else:\n",
        "    a = s * 1.15\n",
        "    print('Seu novo salário será R${:.2f}'.format(a))\n"
      ],
      "execution_count": null,
      "outputs": [
        {
          "output_type": "stream",
          "text": [
            "Por favor digite o valor do seu salário para saber qual o seu aumento\n",
            "R$240549\n",
            "Seu novo salário será R$264603.90\n"
          ],
          "name": "stdout"
        }
      ]
    },
    {
      "cell_type": "markdown",
      "metadata": {
        "id": "oGze1lxMd4nR"
      },
      "source": [
        "Desafio 035:  Desenvolva um programa que leia o comprimento de três retas e diga ao usuário se elas podem ou não formar um triângulo."
      ]
    },
    {
      "cell_type": "code",
      "metadata": {
        "colab": {
          "base_uri": "https://localhost:8080/"
        },
        "id": "ENVxyYGMd1jg",
        "outputId": "69ad7958-b8c2-419d-dd2c-0d67dc99d45a"
      },
      "source": [
        "print('Digite o tamanho das suas retas abaixo:')\n",
        "r1 = float(input('reta 1:'))\n",
        "r2 = float(input('reta 2:'))\n",
        "r3 = float(input('reta 3:'))\n",
        "g = r1 + r2\n",
        "p = r1 - r2\n",
        "if g > r3 > abs(p):\n",
        "    print('Suas retas podem formar um triângulo.')\n",
        "else:\n",
        "    print('Sua retas não podem formar um triângulo.')\n"
      ],
      "execution_count": null,
      "outputs": [
        {
          "output_type": "stream",
          "text": [
            "Digite o tamanho das suas retas abaixo:\n",
            "reta 1:4\n",
            "reta 2:3\n",
            "reta 3:5\n",
            "Suas retas podem formar um triângulo.\n"
          ],
          "name": "stdout"
        }
      ]
    },
    {
      "cell_type": "markdown",
      "metadata": {
        "id": "TVy_1D42ec4f"
      },
      "source": [
        "##Aula 11: Cores no ternimal"
      ]
    },
    {
      "cell_type": "code",
      "metadata": {
        "colab": {
          "base_uri": "https://localhost:8080/"
        },
        "id": "R-jmC1JAeKXQ",
        "outputId": "283e3774-07d4-46df-8ac8-3df28a82c541"
      },
      "source": [
        "'''\n",
        "Cores no terminal\n",
        "\n",
        "padrão ansi ( escape sequence)  \\033[style; text; back m\n",
        "style = estilo -> são 0 = sem estilo, 1 = negrito, 4 = sublinhar, 7 = inverte\n",
        "as configurações\n",
        "text =  cor do texto -> são 30=branco, 31=vermelho, 32=verde, 33=amarelo, 34=azul,\n",
        "35=roxo(magenta), 36=azul claro(ciano), 37=cinza\n",
        "back = background ou cor de fundo -> são as mesmas cores do texto porém de 40 até 47\n",
        "\n",
        "\\033[0;33;44m\n",
        "\n",
        "\n",
        "\\033[0;30;41m      sem estilo, letra branca e fundo vermelho\n",
        "\\033[4;33;44m      sublinhado, letra amarela e fundo azul\n",
        "\\033[1;35;43m      negrito, letra roxa e fundo amarelo\n",
        "\\033[30;42m        sem estilo, letra branca e fundo verde\n",
        "\\033[m             configuração padrão = letra cinza e fundo preto\n",
        "\\033[7;30m         estilo invertido = letra preta e fundo branco\n",
        "\n",
        "pesquisar o módulo colorize para mais cores\n",
        "'''\n",
        "\n",
        "print('\\033[1;31;46mOlá mundo!\\033[m')\n",
        "n = 'João'\n",
        "print('Olá muito prazer em te conhecer, {}{}{}!!!'.format('\\033[33m', n, '\\033[m'))\n",
        "cores = {'limpa':'\\033[m',\n",
        "         'azul':'\\033[34m',\n",
        "         'amarelo':'\\033[33m',\n",
        "         'pretobranco':'\\033[7;30m'}\n",
        "print('Olá {}muito prazer{} em te conhecer, {}{}{}!!!'\n",
        "      .format(cores['pretobranco'], cores['limpa'], cores['azul'], n, cores['limpa']))"
      ],
      "execution_count": null,
      "outputs": [
        {
          "output_type": "stream",
          "text": [
            "\u001b[1;31;46mOlá mundo!\u001b[m\n",
            "Olá muito prazer em te conhecer, \u001b[33mJoão\u001b[m!!!\n",
            "Olá \u001b[7;30mmuito prazer\u001b[m em te conhecer, \u001b[34mJoão\u001b[m!!!\n"
          ],
          "name": "stdout"
        }
      ]
    }
  ]
}